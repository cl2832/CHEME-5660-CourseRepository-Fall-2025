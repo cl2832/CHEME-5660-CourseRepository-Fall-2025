{
 "cells": [
  {
   "cell_type": "markdown",
   "id": "66258683-cfa8-4a0d-9087-13e118c23240",
   "metadata": {},
   "source": [
    "# Example: Net Present Value for a Tesla Model S\n",
    "In this example, we'll compute the [Net Present Value (NPV)](https://en.wikipedia.org/wiki/Net_present_value) for purchasing, owning and selling a [2025 Tesla Model S](https://www.tesla.com/models). In particular, using the Abstract Asset approach, we'll compute the cash flow events associated with purchasing, owning, and selling the [Model S](https://www.tesla.com/models). Is purchasing a [Model S](https://www.tesla.com/models) a good investment? I think we should find out.\n",
    "\n",
    "### Learning objectives\n",
    "This example will familiarize students with computing the [Net Present Value (NPV)](https://en.wikipedia.org/wiki/Net_present_value), i.e., stipulating the net cash flow events, computing the discount factors for different periods and ultimately computing the net present value.\n",
    "* __Prerequisite__: Setup problem components and constants. Before we do the [Net Present Value (NPV) calculation](https://en.wikipedia.org/wiki/Net_present_value#:~:text=NPV%20is%20the%20sum%20of,NPV%20results%20in%20a%20loss.), we'll set up some components and constants that we'll use later.\n",
    "* __Task 1__: Setup the Cash Flow Dictionary. In this task, we specify some values for the cash flow events we observe over the lifetime of owning the [Tesla Model S](https://www.tesla.com/models). Then, we construct a net cash flow dictionary that holds the net values for the cash flow events during each period.\n",
    "* __Task 2__: In this task, we compute a dictionary of discount factor $\\mathcal{D}_{j,0}(\\bar{r})$ values using the time and discount rate data specified in the Prerequisites section.\n",
    "* __Task 3__: In this task, we'll compute the net present value (NPV) for the [Tesla Model S](https://www.tesla.com/models) and answer some discussion questions about how the value may change if we change our assumptions and how we should interpret the values produced by the calculation.\n",
    "\n",
    "___"
   ]
  },
  {
   "cell_type": "markdown",
   "id": "132f2754-8f99-431b-b2fd-27d801ce6b41",
   "metadata": {},
   "source": [
    "## Setup, Data, and Prerequisites\n",
    "We set up the computational environment by including the `Include.jl` file, loading any needed resources, such as sample datasets, and setting up any required constants. \n",
    "* The `Include.jl` file also loads external packages, various functions that we will use in the exercise, and custom types to model the components of our problem. It checks for a `Manifest.toml` file; if it finds one, packages are loaded. Otherwise, packages are downloaded and then loaded.\n",
    "* For additional information on functions and types used in this material, see the [Julia programming language documentation](https://docs.julialang.org/en/v1/) and the [VLQuantitativeFinancePackage.jl documentation](https://github.com/varnerlab/VLQuantitativeFinancePackage.jl). "
   ]
  },
  {
   "cell_type": "code",
   "execution_count": null,
   "id": "f7283455-7b61-4e90-85cb-828cdd1c2fba",
   "metadata": {},
   "outputs": [],
   "source": [
    "include(\"Include.jl\"); # this sets up the environment, we'll do this all the time, on everything we do"
   ]
  },
  {
   "cell_type": "markdown",
   "id": "d9bb4c9e-553c-433d-b62f-da99bd868ba1",
   "metadata": {},
   "source": [
    "###  Problem components and constants\n",
    "Before we do the [Net Present Value (NPV) calculation](https://en.wikipedia.org/wiki/Net_present_value#:~:text=NPV%20is%20the%20sum%20of,NPV%20results%20in%20a%20loss.), we'll set up some components and constants that we'll use later. \n",
    "* Let's start with the discounting model. For simplicity, we'll assume discrete compounding in this calculation. We specify this by creating an instance of [the `DiscreteCompoundingModel` type](https://varnerlab.github.io/VLQuantitativeFinancePackage.jl/dev/fixed/#VLQuantitativeFinancePackage.DiscreteCompoundingModel) and save it in the `discount_model::DiscreteCompoundingModel` variable."
   ]
  },
  {
   "cell_type": "code",
   "execution_count": 5,
   "id": "d927ad21-46c2-43be-b7ac-567325e72ce9",
   "metadata": {},
   "outputs": [],
   "source": [
    "discount_model = DiscreteCompoundingModel();"
   ]
  },
  {
   "cell_type": "markdown",
   "id": "827a3135-7eef-4822-9f32-c96e01a2826d",
   "metadata": {},
   "source": [
    "Next, we set several constants, which we use below. For a description of the constant and permissible values, see the comment string beside the declaration."
   ]
  },
  {
   "cell_type": "code",
   "execution_count": 7,
   "id": "87cc1578-71c0-44dd-ac4b-0d0ff708c444",
   "metadata": {},
   "outputs": [],
   "source": [
    "T = 10.0;  # number of years; value ≥ 0\n",
    "λ = 2.0 |> Int;  # number of periods per year (λ = 2.0 => every six months); value ≥ 1\n",
    "r̄ = 0.04; # discount rate per year; value ≥ 0\n",
    "depreciation = 0.03; # price decline per period\n",
    "N = λ*T |> Int;  # total number of observations"
   ]
  },
  {
   "cell_type": "markdown",
   "id": "8ebc2400-72b3-45d7-b597-8e9ff999c5a1",
   "metadata": {},
   "source": [
    "## Task 1: Setup the Cash Flow Dictionary\n",
    "In this task, we specify some values for the cash flow events we observe over the lifetime of owning the [Tesla Model S](https://www.tesla.com/models). Then, we construct a net cash flow dictionary that holds the net values for the cash flow events during each period. Let's start with the constants.\n",
    "* Specify the purchase price, sale price at the end of $T$-years, insurance costs per period, and other costs and savings below. For a description of the constant and permissible values, see the comment string beside the declaration."
   ]
  },
  {
   "cell_type": "code",
   "execution_count": 9,
   "id": "677c9a3a-5a47-48d4-aae1-d2f1d627cecf",
   "metadata": {},
   "outputs": [],
   "source": [
    "purchase_price = 107130; # how much do we pay now for the Model S?\n",
    "sale_price = (1 - N*depreciation)*purchase_price; # assumes straight line depreciation\n",
    "insurance_costs = 2400; # 1808.0How much does a Model S cost to ensure (per period)?\n",
    "other_costs = 50.0; # Other costs associated with the Model S per period\n",
    "other_savings = 0.0; # Other savings per period?"
   ]
  },
  {
   "cell_type": "markdown",
   "id": "a69e3d19-3463-4927-8299-b118c56415be",
   "metadata": {},
   "source": [
    "Now, let's build and populate the cash flow event dictionary. The dictionary will hold the net cash flow events for each $N = \\lambda\\cdot{T}$ period. We'll populate this dictionary by iterating over the `0...N` periods using a [Julia `for-loop`](https://docs.julialang.org/en/v1/base/base/#for).\n",
    "* For each period (index `i`), we check if we are `i == 0` (purchase), or `i == N` (sale) of the car. At purchase time, we have a negative cash flow (we give a bunch of money to [TSLA](https://finance.yahoo.com/quote/TSLA/?guccounter=1&guce_referrer=aHR0cHM6Ly93d3cuZ29vZ2xlLmNvbS8&guce_referrer_sig=AQAAANiorcaltDNUCtp01qZd0GAF86DY9ajVMBq8fpt9wPQJKA2M7XgMOWvsfeDsrJxSlpMUKrWYfPDaC9XhnhQ2uCQnfWqvJIdpkimycwOTPv_QySkAzvnIju10jMrqSK7KdsX4ATgr0VtRlF6up-NuK5jDvJx1v2NSlxu1RGQTCAxR)) and at sale time we have the sale price (positive) and any other savings minus the expenses for that period.\n",
    "* If $i\\neq{0}\\,||\\,i\\neq{N}$: we have an intermediate period where we make an insurance payment net any other savings occurring during that period.\n",
    "* The keys of the `cash_flow_event_dictionary` are the period indexes `i`, while the values are the net cash flow events for that period."
   ]
  },
  {
   "cell_type": "code",
   "execution_count": 11,
   "id": "13af979e-f67c-4f5f-9058-f2189677fcc4",
   "metadata": {},
   "outputs": [
    {
     "data": {
      "text/plain": [
       "Dict{Int64, Float64} with 21 entries:\n",
       "  5  => -2450.0\n",
       "  16 => -2450.0\n",
       "  20 => 40402.0\n",
       "  12 => -2450.0\n",
       "  8  => -2450.0\n",
       "  17 => -2450.0\n",
       "  1  => -2450.0\n",
       "  19 => -2450.0\n",
       "  0  => -107130.0\n",
       "  6  => -2450.0\n",
       "  11 => -2450.0\n",
       "  9  => -2450.0\n",
       "  14 => -2450.0\n",
       "  3  => -2450.0\n",
       "  7  => -2450.0\n",
       "  4  => -2450.0\n",
       "  13 => -2450.0\n",
       "  15 => -2450.0\n",
       "  2  => -2450.0\n",
       "  10 => -2450.0\n",
       "  18 => -2450.0"
      ]
     },
     "execution_count": 11,
     "metadata": {},
     "output_type": "execute_result"
    }
   ],
   "source": [
    "cash_flow_event_dictionary = Dict{Int64,Float64}();\n",
    "for i ∈ 0:N\n",
    "    if (i == 0)\n",
    "       cash_flow_event_dictionary[i] = -1*purchase_price;\n",
    "    elseif (i == N)\n",
    "        cash_flow_event_dictionary[i] = sale_price + other_savings - (insurance_costs+other_costs)\n",
    "    else\n",
    "       cash_flow_event_dictionary[i] = other_savings - (insurance_costs+other_costs);\n",
    "    end\n",
    "end\n",
    "cash_flow_event_dictionary"
   ]
  },
  {
   "cell_type": "markdown",
   "id": "dec4b8ec-2dca-407c-8adb-3c64f8ba8049",
   "metadata": {},
   "source": [
    "## Task 2: Compute the Discount Factor Dictionary\n",
    "In this task, we compute a dictionary of discount factor $\\mathcal{D}_{j,0}(\\bar{r})$ values using the time and discount rate data specified above. To do this calculation, we call [the `discount(...)` method](https://varnerlab.github.io/VLQuantitativeFinancePackage.jl/dev/fixed/#VLQuantitativeFinancePackage.discount-Tuple{AbstractCompoundingModel,%20Float64,%20Int64}) which returns the discount factors in the `discount_dictionary::Dict{Int64,Float64}` dictionary.\n",
    "* The [`discount(...)` method](https://varnerlab.github.io/VLQuantitativeFinancePackage.jl/dev/fixed/#VLQuantitativeFinancePackage.discount-Tuple{AbstractCompoundingModel,%20Float64,%20Int64}) takes the compounding model instance, i.e., the `discount_model` instance we constructed earlier, along with the discount rate $\\bar{r}$, the number of periods $N$, and the number of compounding events per period $λ$.\n",
    "* _What is up with the $\\lambda$ arg_? We implement the compounding events per period $\\lambda$ as a [optional keyword argument](https://docs.julialang.org/en/v1/manual/functions/#Keyword-Arguments) with a default value of $\\lambda = 2$ in [the `discount(...)` method](https://varnerlab.github.io/VLQuantitativeFinancePackage.jl/dev/fixed/#VLQuantitativeFinancePackage.discount-Tuple{AbstractCompoundingModel,%20Float64,%20Int64}). "
   ]
  },
  {
   "cell_type": "code",
   "execution_count": 13,
   "id": "e068d653-ee7f-4330-9869-55a7d587e3be",
   "metadata": {},
   "outputs": [],
   "source": [
    "discount_dictionary = discount(discount_model, r̄, N, λ = λ);"
   ]
  },
  {
   "cell_type": "markdown",
   "id": "e2841f4d-281a-4a0f-a908-b1f279f20dc6",
   "metadata": {},
   "source": [
    "`Unhide` the code block below to see how we built a table of the data in the `discount_dictionary` using [the `pretty_table(...)` function exported by the PrettyTables.jl package](https://github.com/ronisbr/PrettyTables.jl) and [a `DataFrame` instance exported by the DataFrames.jl package](https://github.com/JuliaData/DataFrames.jl)"
   ]
  },
  {
   "cell_type": "code",
   "execution_count": 15,
   "id": "f5bc9340-b84d-470b-b895-5f835434adc8",
   "metadata": {},
   "outputs": [
    {
     "name": "stdout",
     "output_type": "stream",
     "text": [
      "========= ========= ===========\n",
      " \u001b[1m period \u001b[0m \u001b[1m       𝒟 \u001b[0m \u001b[1m     𝒟inv \u001b[0m\n",
      " \u001b[90m  Int64 \u001b[0m \u001b[90m Float64 \u001b[0m \u001b[90m  Float64 \u001b[0m\n",
      "========= ========= ===========\n",
      "       0       1.0        1.0\n",
      "       1      1.02   0.980392\n",
      "       2    1.0404   0.961169\n",
      "       3   1.06121   0.942322\n",
      "       4   1.08243   0.923845\n",
      "       5   1.10408   0.905731\n",
      "       6   1.12616   0.887971\n",
      "       7   1.14869    0.87056\n",
      "       8   1.17166    0.85349\n",
      "       9   1.19509   0.836755\n",
      "      10   1.21899   0.820348\n",
      "      11   1.24337   0.804263\n",
      "      12   1.26824   0.788493\n",
      "      13   1.29361   0.773033\n",
      "      14   1.31948   0.757875\n",
      "      15   1.34587   0.743015\n",
      "      16   1.37279   0.728446\n",
      "      17   1.40024   0.714163\n",
      "      18   1.42825   0.700159\n",
      "      19   1.45681   0.686431\n",
      "      20   1.48595   0.672971\n",
      "========= ========= ===========\n"
     ]
    }
   ],
   "source": [
    "let\n",
    "    # initialize -\n",
    "    df = DataFrame();\n",
    "    for i ∈ 0:N\n",
    "        value = discount_dictionary[i];\n",
    "        row_df = (\n",
    "            period = i,\n",
    "            𝒟 = value,\n",
    "            𝒟inv = (1/value)\n",
    "        );\n",
    "        push!(df, row_df);\n",
    "    end\n",
    "\n",
    "    pretty_table(df, tf = tf_simple)\n",
    "end"
   ]
  },
  {
   "cell_type": "markdown",
   "id": "ddf21815-4221-4e32-b96b-c504448af78d",
   "metadata": {},
   "source": [
    "### Check: Do we recover the discount rate $\\bar{r}$?\n",
    "Let's do a quick check on the discount factor calculation. If the discount factors are correct, we should be able to recover the discount rate $\\bar{r}$ by inverting the definition of the discount factor, i.e., the discount rate should be equal to:\n",
    "$$\n",
    "\\begin{equation}\n",
    "\\bar{r} = \\lambda\\cdot\\left(\\mathcal{D}_{i,0}^{1/i} - 1\\right)\n",
    "\\end{equation}\n",
    "$$\n",
    "where $\\mathcal{D}_{i,0}$ is the discount factor, $i$ is the period-index, and $\\lambda$ is the number of compounding events per-period. This is the value for the period $i\\geq{1}$. \n",
    "* We test this idea by iterating over the `discount_dictionary,` and for iteration $i>0$, we compute the discount rate (stored in the `r̄ᵢ` variable) and compare its value for the specified (correct) discount rate `r̄.` We use [the Julia `@assert` macro](https://docs.julialang.org/en/v1/base/base/#Base.@assert) in combination with [the `isapprox(...)` method](https://docs.julialang.org/en/v1/base/math/#Base.isapprox) to check for equality. If the check fails, [an AssertionError is thrown](https://docs.julialang.org/en/v1/base/base/#Core.AssertionError) and the loop terminates."
   ]
  },
  {
   "cell_type": "code",
   "execution_count": 17,
   "id": "baa69d7f-d61f-4e5b-8d44-13e0cc617241",
   "metadata": {},
   "outputs": [],
   "source": [
    "r̄ᵢ = r̄;\n",
    "for (k,v) ∈ discount_dictionary\n",
    "    if (k > 0)\n",
    "        r̄ᵢ = λ*((v)^(1/k) - 1);\n",
    "    end\n",
    "    @assert isapprox(r̄, r̄ᵢ, rtol = 1e-4);\n",
    "end"
   ]
  },
  {
   "cell_type": "markdown",
   "id": "89d50698-2f49-42f2-abc7-9c7d2b8856d4",
   "metadata": {},
   "source": [
    "## Task 3: Compute the Net Present Value (NPV)\n",
    "In this task, we'll compute the net present value (NPV) for the [Tesla Model S](https://www.tesla.com/models). The NPV is the scalar (dot) product between the inverse of the discount factor vector $\\mathcal{D}^{-1}$ and the net cash flow vector $\\bar{c}$:\n",
    "$$\n",
    "\\begin{equation}\n",
    "\\texttt{NPV} \\leftarrow \\left<\\mathcal{D}^{-1}\\left(\\bar{r}\\right), \\bar{c}, \\right>\n",
    "\\end{equation}\n",
    "$$\n",
    "However, we have one technical gotcha: the discount factors and the net cash flow events are stored in dictionaries, so we'll first need to convert this data into arrays and then use [the `dot(...)` method exported by the LinearAlgebra.jl package](https://docs.julialang.org/en/v1/stdlib/LinearAlgebra/#LinearAlgebra.dot) to compute the scalar product. Let's start with the discount factors, and then we'll convert the cash flow events to an array."
   ]
  },
  {
   "cell_type": "markdown",
   "id": "099f28ba-274a-4f5b-b71c-b15c7a6091fa",
   "metadata": {},
   "source": [
    "#### Compute the inverse discount factor array $\\mathcal{D}^{-1}(\\bar{r})$\n",
    "To compute the inverse discount factor array $\\mathcal{D}^{-1}(\\bar{r})$, we iterate over the periods `i ∈ 1...N+1` (where we convert to `1`-based indexing). We insert the inverse of the value in the `discount_dictionary` for each period `i` into the `𝒟inv::Array{Float64,1}` array."
   ]
  },
  {
   "cell_type": "code",
   "execution_count": 20,
   "id": "b7255c60-26fb-4ed0-a540-1f8a3542fb6e",
   "metadata": {},
   "outputs": [],
   "source": [
    "𝒟inv = Array{Float64,1}(undef, N+1);\n",
    "for i in 1:(N+1)\n",
    "    j = i - 1;\n",
    "    𝒟inv[i] = 1/discount_dictionary[j]\n",
    "end\n",
    "𝒟inv;"
   ]
  },
  {
   "cell_type": "markdown",
   "id": "9224398e-5f5f-40dd-9c7d-6d2dfd405599",
   "metadata": {},
   "source": [
    "#### Compute the cash flow event array $\\bar{c}$.\n",
    "To compute the cash flow event array $\\bar{c}$, we iterate over the periods `i ∈ 1...N+1` (where we convert to `1`-based indexing). We insert the value from the `cash_flow_event_dictionary` for each period `i` into the `c̄::Array{Float64,1}` array."
   ]
  },
  {
   "cell_type": "code",
   "execution_count": 22,
   "id": "6890d0b4-60ba-41ac-9e3d-cb3487299128",
   "metadata": {},
   "outputs": [],
   "source": [
    "c̄ = Array{Float64,1}(undef, N+1);\n",
    "for i ∈ 1:(N+1)\n",
    "    j = i - 1;\n",
    "    c̄[i] = cash_flow_event_dictionary[j]\n",
    "end\n",
    "c̄;"
   ]
  },
  {
   "cell_type": "markdown",
   "id": "824e53cb-12f2-4b5b-b211-f6f62fc36212",
   "metadata": {},
   "source": [
    "Finally, we compute the $\\texttt{NPV}$ using [the `dot(...)` method exported by the LinearAlgebra.jl package](https://docs.julialang.org/en/v1/stdlib/LinearAlgebra/#LinearAlgebra.dot)."
   ]
  },
  {
   "cell_type": "code",
   "execution_count": 24,
   "id": "ead1ed92-0207-4be2-b3e2-4d27f5a31cb2",
   "metadata": {},
   "outputs": [
    {
     "name": "stdout",
     "output_type": "stream",
     "text": [
      "The NPV for a Tesla Model S over 10.0 years equals -118352.84412791643 USD\n"
     ]
    }
   ],
   "source": [
    "NPV = dot(𝒟inv, c̄);\n",
    "println(\"The NPV for a Tesla Model S over $(T) years equals $(NPV) USD\")"
   ]
  },
  {
   "cell_type": "markdown",
   "id": "488f4c5b-69d6-4cbd-a65d-7e08588f0e6c",
   "metadata": {},
   "source": [
    "### Discussion Questions\n",
    "* What does having a negative `NPV < 0` value mean?\n",
    "* What factors can we change to increase the `NPV` of the [Tesla Model S](https://www.tesla.com/models)?"
   ]
  },
  {
   "cell_type": "markdown",
   "id": "dbb87e40-6754-4785-a5e1-7bae8979b477",
   "metadata": {},
   "source": [
    "## Disclaimer and Risks\n",
    "__This content is offered solely for training and informational purposes__. No offer or solicitation to buy or sell securities or derivative products or any investment or trading advice or strategy is made, given, or endorsed by the teaching team. \n",
    "\n",
    "__Trading involves risk__. Carefully review your financial situation before investing in securities, futures contracts, options, or commodity interests. Past performance, whether actual or indicated by historical tests of strategies, is no guarantee of future performance or success. Trading is generally inappropriate for someone with limited resources, investment or trading experience, or a low-risk tolerance.  Only risk capital that is not required for living expenses.\n",
    "\n",
    "__You are fully responsible for any investment or trading decisions you make__. Such decisions should be based solely on evaluating your financial circumstances, investment or trading objectives, risk tolerance, and liquidity needs."
   ]
  }
 ],
 "metadata": {
  "kernelspec": {
   "display_name": "Julia 1.10.5",
   "language": "julia",
   "name": "julia-1.10"
  },
  "language_info": {
   "file_extension": ".jl",
   "mimetype": "application/julia",
   "name": "julia",
   "version": "1.10.5"
  }
 },
 "nbformat": 4,
 "nbformat_minor": 5
}
