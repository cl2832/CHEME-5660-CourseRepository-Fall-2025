{
 "cells": [
  {
   "cell_type": "markdown",
   "id": "e310e073-6407-4596-a9e0-ef4bc9515724",
   "metadata": {},
   "source": [
    "# L2a: Risk Free Assets. Pricing United States Treasury Securities\n",
    "In this lecture, we introduce the concept of risk-free assets and how to price them. We'll focus on the United States Treasury Securities, which the financial markets have considered de facto risk-free assets. \n",
    "\n",
    "> **Why do Treasury Securities exist?** The U.S. government spends more than it collects in taxes (budget deficit), so it needs to borrow money to fund operations, infrastructure, defense, and social programs. Treasury securities are how the government raises this money - essentially IOUs backed by the full faith and credit of the United States.\n",
    "\n",
    "> **When would you actually buy Treasury securities?** Safety (preserve capital when markets are volatile), liquidity (easily convertible to cash), diversification (balance riskier investments), predictable income (known cash flows), and tax advantages (exempt from state and local taxes).\n",
    "\n",
    "The concepts that students should be able to define and demonstrate mastery of from this lecture are:\n",
    "* __United States Marketable Treasury Securities__: Treasury Bills, Notes, and Bonds are examples of fixed-income debt securities. When the United States Government needs to borrow money, it sells debt securities into the debt market at auction. These securities have long been considered risk-free (in some ways, they are, and in others, they are not).\n",
    "* __Really risk-free__? Treasury Securities are examples of abstract assets. These investments have current and future cashflow events (the type depends upon the instrument), and they are priced such that the net present value (NPV) equals zero. The risk-free rate (the discount rate in the discount factor) is the IRR for these investments. \n",
    "\n",
    "\n",
    "Let's go!\n",
    "___"
   ]
  },
  {
   "cell_type": "markdown",
   "id": "920e12ad",
   "metadata": {},
   "source": [
    "## Examples\n",
    "We'll look at two examples of how to compute the price of United States Treasury Securities at auction. We'll compare our calculated price to the actual auction price of different instruments.\n",
    "* [▶ Computing the Price of Zero Coupon United States Treasury Bills](./CHEME-5660-L2a-TBills-Pricing-Fall-2025-WorkedExample.ipynb). In this example, we will compute the price of zero-coupon United States Treasury Bills, or `T-bills.`  We will use datasets of `T-bill` auction data from `2023 - 2025` to validate our calculated prices.\n",
    "* [▶ Computing the Price of Coupon United States Treasury Notes](./CHEME-5660-L2a-NotesBonds-Pricing-Fall-2025-WorkedExample.ipynb). In this example, we will compute the price of United States Treasury Notes and Bonds. We will use recent auction datasets from `2022` to `2025` to validate our calculated prices.\n",
    "\n",
    "___"
   ]
  },
  {
   "cell_type": "markdown",
   "id": "6dfad242",
   "metadata": {},
   "source": [
    "<div>\n",
    "    <center>\n",
    "        <img src=\"figs/Fig-zero-coupon-schematic.svg\" width=\"380\"/>\n",
    "    </center>\n",
    "</div>"
   ]
  },
  {
   "cell_type": "markdown",
   "id": "861d7466",
   "metadata": {},
   "source": [
    "## Treasury Bills\n",
    "A U.S. Treasury bill (T-bill) is a short-term, _zero-coupon debt security_ issued by the [U.S. Department of the Treasury](https://www.treasurydirect.gov) with maturities ranging from a few days to one year. T-bills are sold at a discount to their face (par) value and do not pay periodic interest; investors earn the difference between the purchase price and the bill's value at maturity.\n",
    "\n",
    "> **What are today's T-bill rates?** Check current rates at [TreasuryDirect.gov](https://www.treasurydirect.gov/auctions/announcements-data-results/) or [Treasury.gov Daily Rates](https://home.treasury.gov/resource-center/data-chart-center/interest-rates/TextView?type=daily_treasury_yield_curve). As of late 2024/early 2025, 3-month T-bills are yielding around 4.5-5.5%.\n",
    "\n",
    "> **Where can I buy T-bills?** You can buy T-bills directly from the U.S. Department of the Treasury through [TreasuryDirect](https://www.treasurydirect.gov), or through a bank or broker. You can hold to maturity, but they are tradable securities, so you can buy and sell them on the secondary market after the initial auction.\n",
    "\n",
    "_Why do we need math to price T-bills?_ At first glance, T-bill pricing seems simple: buy at discount, get par value at maturity. But the key question is: _what discount?_ The math helps us determine the fair price based on current interest rates, time to maturity, and risk. This ensures you're not overpaying or leaving money on the table.\n",
    "\n",
    "Let's look at how to price T-bills at auction.\n",
    "\n",
    "### Auction Pricing of T-Bills\n",
    "At auction, a T-bill has two cashflow events. First, you purchase a Treasury Bill for $V_{B}$ USD at auction (now) and, secondly, at maturity $T$ years from now, you receive the face (par) value $V_{P}$ USD of the T-bill (future value). For pricing calculations, we use a semiannual compounding convention ($n = 2$).\n",
    "\n",
    "The price $V_{B}$ USD, assuming a constant interest rate $\\bar{r}$ (discount rate) and a maturity of $T$ (units: years), is the discounted face (par) value $V_{P}$ such that $\\texttt{NPV}\\,=\\,0$ (written from _your_ perspective):\n",
    "$$\n",
    "\\begin{align*}  \n",
    "\\underbrace{\\texttt{NPV}(T,\\bar{r})}_{=\\,0} &= -V_{B} + \\mathcal{D}_{nT,0}^{-1}(\\bar{r})\\cdot{V_{P}}\\quad\\text{solving for price $V_{B}$}\\\\\n",
    "V_{B} &= \\mathcal{D}_{nT,0}^{-1}(\\bar{r})\\;{V_{P}}\\quad\\blacksquare\n",
    "\\end{align*}\n",
    "$$\n",
    "\n",
    "Notation note — for later sensitivity calculations we will present partial derivatives as the signed quantities (i.e. the literal partials \\(\\partial V/\\partial\\cdot\\)). When we want to emphasize a positive magnitude (a Duration‑style sensitivity) we will instead write a positive magnitude such as $V_{B,\\bar r} := -\\frac{\\partial V_B}{\\partial\\bar r} \\ge 0$ so that expressions like $dV = -V_{B,\\bar r}\\,d\\bar r$ are clear.\n",
    "\n",
    "where $\\mathcal{D}^{-1}_{nT,0}(\\bar{r})$ is the _discrete multiperiod discount factor_ for compounding events $0\\rightarrow{nT}$. Assuming discrete compounding and a constant discount rate $\\bar{r}$, the discrete multiperiod discount factor is given by: $\\mathcal{D}^{-1}_{nT,0}(\\bar{r}) = \\left(1+\\bar{r}/n\\right)^{-nT}$.\n",
    "\n",
    "> **Quick Example**: You want to buy a $1,000 T-bill maturing in 6 months. If current rates are 5%, what should you pay? Using our formula: $V_B = \\$1,000 \\times (1.025)^{-1} = \\$975.61$. You pay $975.61 today and get $1,000 in 6 months - that's your 5% annualized return.\n",
    "\n",
    "> __Why not use continuous compounding?__ The U.S. Treasury uses a discrete semiannual compounding convention for T-notes (and bonds) so we use the discrete multiperiod discount factor for our calculations. This is a convention, not a mathematical requirement.\n",
    "\n",
    "Let's look at an example of how to compute the price of a T-bill at auction. We'll compare our calculated price to the actual auction price of different T-bills.\n",
    "\n",
    "### Example: Pricing T-Bills\n",
    "> [▶ Computing the Price of Zero Coupon United States Treasury Bills](./CHEME-5660-L2a-TBills-Pricing-Fall-2025-WorkedExample.ipynb). In this example, we will compute the price of zero-coupon United States Treasury Bills, or `T-bills.`  We will use datasets of `T-bill` auction data from `2023 - 2025` to validate our price sensitivity calculations. \n"
   ]
  },
  {
   "cell_type": "markdown",
   "id": "97433fe6",
   "metadata": {},
   "source": [
    "<div>\n",
    "    <center>\n",
    "        <img src=\"figs/Fig-Bond-Asset-Timeline-Schematic.svg\" width=\"580\"/>\n",
    "    </center>\n",
    "</div>"
   ]
  },
  {
   "cell_type": "markdown",
   "id": "05944326",
   "metadata": {},
   "source": [
    "## Treasury Notes and Bonds\n",
    "United States Treasury notes (bonds) are debt securities issued by the U.S. Department of the Treasury with maturities of 2 to 10 years (or 20 or 30 years for bonds) that pay _semiannual interest (coupon) payments_ to the holder and return the face (par) value of the bond at maturity. \n",
    "\n",
    "Like a T-bill, the parameters (agreement between the debt holder and issuer) of the note (bond) are set at auction. These parameters do not change for the holder, but they may change in the market. \n",
    "\n",
    "### Auction Pricing of Notes and Bonds\n",
    "A T-note (bond) purchased at auction has $(nT+2)$ cashflow events: one initial purchase payment (outflow) plus $nT$ coupon payments and one principal repayment (inflows). You purchase a $T$-year Treasury note (bond) for $V_{B}$ USD (now, current value) and receive semiannual coupon payments ($n=2$ payments per year) plus the face (par) value $V_{P}$ USD at maturity (all future values). \n",
    "\n",
    "A note (bond) with constant discount rate $\\bar{r}$, constant coupon interest rate $\\bar{c}$, and $n$ coupon payments per year, is priced at auction such that $\\texttt{NPV}\\,=\\,0$:\n",
    "$$\n",
    "\\begin{align*}\n",
    "\\underbrace{\\texttt{NPV}_{T,0}(\\bar{r}, \\bar{c})}_{=\\,0} &= \\underbrace{-V_{B}}_{\\text{cost}} + \\underbrace{\\mathcal{D}^{-1}_{nT,0}(\\bar{r})\\cdot{V_{P}}}_{\\text{par payment}}+\\underbrace{C\\cdot\\sum_{j=1}^{n{T}}\\mathcal{D}^{-1}_{j,0}(\\bar{r})}_{\\text{coupon payments}} \\quad\\Longrightarrow\\text{solving for price $V_{B}$}\\\\\n",
    "V_{B} &= \\mathcal{D}^{-1}_{nT,0}(\\bar{r})\\cdot{V_{P}}+C\\cdot\\sum_{j=1}^{n{T}}\\mathcal{D}^{-1}_{j,0}(\\bar{r})\\quad\\blacksquare\n",
    "\\end{align*}\n",
    "$$\n",
    "where $C\\equiv(\\bar{c}/n)\\cdot{V_{P}}$ is the value of a coupon payment (future USD), and $\\mathcal{D}^{-1}_{j,0}(\\bar{r})$ is the discrete multiperiod discount factor for periods $0\\rightarrow{j}$ given by: $\\mathcal{D}^{-1}_{j,0}(\\bar{r}) = \\left(1+\\bar{r}/n\\right)^{-j}$.\n",
    "\n",
    "Let's look at an example of how to compute the price of T-notes (bonds) at auction. We'll compare our calculated price to the actual auction price of different instruments.\n",
    "\n",
    "### Example\n",
    "> [▶ Computing the Price of Coupon United States Treasury Notes](./CHEME-5660-L2a-NotesBonds-Pricing-Fall-2025-WorkedExample.ipynb). In this example, we will compute the price of United States Treasury Notes and Bonds. We will use recent auction datasets from `2022 to 2025` to validate our calculated prices. \n",
    "> This will also give us a chance to use [the `VLQuantitativeFinance.jl` package](https://github.com/varnerlab/VLQuantitativeFinancePackage.jl) to compute the price of T-notes (and bonds).\n",
    "\n",
    "___"
   ]
  },
  {
   "cell_type": "markdown",
   "id": "738eece2",
   "metadata": {},
   "source": [
    "## Are Treasury securities risk-free?\n",
    "United States Treasury securities are considered risk-free, backed by the country's full faith and credit. When the U.S. government borrows, it commits to repaying under specific terms, which it has consistently honored. In contrast, this guarantee does not apply to Treasury securities from other countries.\n",
    "\n",
    "Not exactly — two main risks:\n",
    "* __Default risk__: In this scenario, the issuer of the bill/note/bond does not pay back the debt, i.e., they default. While the United States has never defaulted, many countries in modern times have defaulted. For example, [Greece defaulted in 2011](https://en.wikipedia.org/wiki/Greek_government-debt_crisis) and [Russia defaulted in 1998](https://en.wikipedia.org/wiki/1998_Russian_financial_crisis). This makes borrowing more expensive (if not impossible) because the issuer has _poor credit_. For U.S. treasury securities, the default risk is __low__.\n",
    "* __Interest rate risk__: In this scenario, we (the debt holder) want to sell the security on the secondary market, i.e., to convert the debt security back into cash. However, because market conditions, i.e., interest rates, have changed since the debt was issued (or we purchased it), the note/bill/bond price may have changed. Thus, we could experience a realized capital loss (gain) when we sell the bill/note/bond. For U.S. treasury securities, the interest rate risk is __high__.\n",
    "\n",
    "Let's look at two examples that demonstrate _default risk_.\n"
   ]
  },
  {
   "cell_type": "markdown",
   "id": "931de0e1",
   "metadata": {},
   "source": [
    "### Case Study: Default Risk and Long-Term Capital Management (LTCM)\n",
    "[Long-Term Capital Management (LTCM)](https://en.wikipedia.org/wiki/Long-Term_Capital_Management) was a highly leveraged hedge fund founded in 1994 by Nobel Prize-winning economists and experienced traders that relied on complex quantitative models. At its peak, LTCM held over $1 trillion in notional positions with leverage ratios approaching 25:1.\n",
    "\n",
    "* __What happened__? LTCM's highly leveraged fixed-income strategy was initially successful, with annualized returns (after fees) of around 21% in its first year, 43% in its second year, and 41% in its third year. However, in 1998, it lost approximately 4.6 billion USD in four months due to exposure to the [1997 Asian financial crisis](https://en.wikipedia.org/wiki/1997_Asian_financial_crisis) and [1998 Russian financial crisis](https://en.wikipedia.org/wiki/1998_Russian_financial_crisis).\n",
    "* __What was the aftermath?__ LTCM's losses were so significant (and connected to many Wall Street institutions) that they threatened the global financial system's stability (financial contagion). The [Federal Reserve Bank of New York](https://www.newyorkfed.org) organized a bailout by a consortium of banks and financial institutions to prevent a systemic crisis. The bailout was completed in October 1998, with the consortium providing $3.6 billion in capital to LTCM.\n",
    "\n",
    "__Credit Risk Models and LTCM__: LTCM's collapse highlighted the importance of credit risk modeling in financial markets. The fund's strategies involved complex arbitrage positions that assumed certain relationships between bond prices would hold, but they failed to adequately model the credit risk of sovereign debt during financial crises. \n",
    "\n",
    "When Russia defaulted, it created a _flight to quality_ that broke many of LTCM's assumptions about price relationships between different government bonds. Modern credit risk models attempt to quantify the probability of default and the expected loss given default for various debt instruments, including sovereign bonds. \n",
    "> __Models__: Well-known models include the __Jarrow-Turnbull model__ (which models default as a Poisson process), the __Merton structural model__ (which treats default as occurring when a firm's asset value falls below its debt obligations), and the __CreditMetrics model__ developed by J.P. Morgan. These models use statistical techniques, historical data, and market indicators to assess credit risk - topics that could be explored in advanced materials on quantitative finance.\n",
    "\n",
    "\n",
    "In addition to the LTCM case study, we will look at a default risk example that is a little closer to home: [2008 Financial Crisis](https://www.youtube.com/watch?v=GPOv72Awo68).\n",
    "___"
   ]
  },
  {
   "cell_type": "markdown",
   "id": "1f68ebf2",
   "metadata": {},
   "source": [
    "# Today?\n",
    "That's a wrap! What are some of the interesting things we discussed today?"
   ]
  },
  {
   "cell_type": "markdown",
   "id": "86794a80",
   "metadata": {},
   "source": [
    "## Disclaimer and Risks\n",
    "__This content is offered solely for training and informational purposes__. No offer or solicitation to buy or sell securities or derivative products or any investment or trading advice or strategy is made, given, or endorsed by the teaching team. \n",
    "\n",
    "__Trading involves risk__. Carefully review your financial situation before investing in securities, futures contracts, options, or commodity interests. Past performance, whether actual or indicated by historical tests of strategies, is no guarantee of future performance or success. Trading is generally inappropriate for someone with limited resources, investment or trading experience, or a low-risk tolerance.  Only risk capital that is not required for living expenses.\n",
    "\n",
    "__You are fully responsible for any investment or trading decisions you make__. Such decisions should be based solely on evaluating your financial circumstances, investment or trading objectives, risk tolerance, and liquidity needs."
   ]
  }
 ],
 "metadata": {
  "kernelspec": {
   "display_name": "Julia 1.11.6",
   "language": "julia",
   "name": "julia-1.11"
  },
  "language_info": {
   "file_extension": ".jl",
   "mimetype": "application/julia",
   "name": "julia",
   "version": "1.11.6"
  }
 },
 "nbformat": 4,
 "nbformat_minor": 5
}
