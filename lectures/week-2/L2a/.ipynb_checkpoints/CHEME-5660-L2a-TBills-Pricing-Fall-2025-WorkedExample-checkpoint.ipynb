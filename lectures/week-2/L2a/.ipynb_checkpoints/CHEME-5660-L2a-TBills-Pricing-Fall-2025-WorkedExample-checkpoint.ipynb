{
 "cells": [
  {
   "cell_type": "markdown",
   "id": "bfb6f9c6-2f60-41e1-80b8-fa022162f100",
   "metadata": {},
   "source": [
    "# Example: The Price of Zero Coupon United States Treasury Bills\n",
    "In this example, we will compute the price of zero coupon United States Treasury Bills, or `T-bills.`  We will use a dataset of `T-bill` auction data from `2023` and `2025` to validate our simulated prices. \n",
    "\n",
    "\n",
    "### Background\n",
    "Zero coupon United States Treasury Bills, sometimes called `T-bills` or just `Zeros,` are marketable fixed-income debt securities that pay an investor a defined amount, called the face or par value, at the bill’s maturity.  The price of a zero-coupon Treasury bill $V_{B}$ with an effective (constant) interest rate of $\\bar{r}$ and maturity of $T$-years at auction is the discounted face (par) value $V_{P}$ such that the net present value (NPV) of the bill is zero:\n",
    "$$\n",
    "\\begin{equation}    \n",
    "\\text{NPV}(T,\\bar{r}) = -V_{B} + \\mathcal{D}_{nT,0}^{-1}(\\bar{r})\\cdot{V_{P}} = 0\n",
    "\\end{equation}\n",
    "$$\n",
    "or equivalently:\n",
    "$$\n",
    "\\begin{equation}\n",
    "    V_{B}(T, \\bar{r}) = \\mathcal{D}_{nT,0}^{-1}(\\bar{r})\\cdot{V_{P}}\n",
    "\\end{equation}\n",
    "$$  \n",
    "The quantity $T$ denotes the duration of the bill (in years),  $\\bar{r}$ is the effective annualized interest rate, and $\\mathcal{D}_{nT,0}(\\bar{r})$ is the multistep discrete discount factor for the period $0\\rightarrow{nT}$. Thus, a typical discrete discount factor takes the form:\n",
    "$$\n",
    "\\mathcal{D}_{nT,0}(\\bar{r}) = \\left(1+\\frac{\\bar{r}}{n}\\right)^{n\\cdot{T}}\n",
    "$$\n",
    "For T-bills, there are (typically) two compounding events per year; thus, $n = 2$.\n",
    "\n",
    "### Learning objectives\n",
    "This example will familiarize students with computing the price of zero coupon United States Treasury Bills, or `T-bills.` \n",
    "\n",
    "* __Prerequisite__: Before we begin any calculations, we'll load a United States Treasury action dataset for `T-bills.`\n",
    "* __Task 1__: First, we'll compute the price of `T-bills` and validate our simulated prices using Treasury auction data from `2022` and `2023`. \n",
    "* __Task 2__: Then, we'll show the price of treasury bills is inversely proportional to the interest rate of the `T-bill` by selecting a random `T-bill` from the dataset and simulating its auction price $V_{B}$ for different values of the effective annual interest, $\\bar{r}$. Toward this, we will:\n",
    "  * `Check`: First, we'll randomly select a `T-bill` and check that the nominal computed price is _similar_ to the observed auction price $V_{B}$ (we'll demonstrate the use of the [@assert macro](https://docs.julialang.org/en/v1/base/base/#Base.@assert) and the [isapprox(...)](https://docs.julialang.org/en/v1/base/math/#Base.isapprox) function).\n",
    "  * `TODO`: Then, we'll specify a range of $\\bar{r}$-values to simulate using the [range function](https://docs.julialang.org/en/v1/base/math/#Base.range). \n",
    "  * `TODO`: Finally, we compute the `T-bill` price for different values of $\\bar{r}$ and visualize the results by perturbing the nominal parameters of the randomly selected `T-bill.`\n",
    "  * `Discussion question`: Is the slope of the interest rate versus the price line negative?\n",
    "\n",
    "\n",
    "Let's get started!\n",
    "___"
   ]
  },
  {
   "cell_type": "markdown",
   "id": "068183be-9396-4c77-b919-befabcdf46d2",
   "metadata": {
    "tags": []
   },
   "source": [
    "## Setup, data and prerequisites\n",
    "Set up the computational environment by including the `Include.jl` file. The `Include.jl` file loads external packages, various functions we will use in the exercise, and custom types to model the components of our example problem.\n",
    "* For additional information on functions and types used in this material, see the [Julia programming language documentation](https://docs.julialang.org/en/v1/) and the [VLQuantitativeFinancePackage.jl documentation](https://github.com/varnerlab/VLQuantitativeFinancePackage.jl). "
   ]
  },
  {
   "cell_type": "code",
   "execution_count": null,
   "id": "a19f9212-58b6-4703-8278-21d64dc7d8e6",
   "metadata": {
    "tags": []
   },
   "outputs": [],
   "source": [
    "include(\"Include.jl\");"
   ]
  },
  {
   "cell_type": "markdown",
   "id": "c042b597-6837-4b33-8fac-bb6fab45e72f",
   "metadata": {},
   "source": [
    "### Data\n",
    "We'll explore `T-bill` prices from United States Treasury auctions between April 2023 and January 2024 downloaded as a `CSV` file using the [Auction query functionality of TreasuryDirect.gov](https://www.treasurydirect.gov/auctions/auction-query/). We load the `CSV` dataset using a local `MyTreasuryBillDataSet()` function, which returns the auction data as [a `dataset::DataFrame` type](https://dataframes.juliadata.org/stable/). And then we get the number of records in the dataset."
   ]
  },
  {
   "cell_type": "code",
   "execution_count": null,
   "id": "25da4a48-62fc-45ba-ae7c-64b97313c8aa",
   "metadata": {
    "tags": []
   },
   "outputs": [],
   "source": [
    "dataset = MyTreasuryBillDataSet()"
   ]
  },
  {
   "cell_type": "markdown",
   "id": "d54d06f9-6f99-4080-9494-ae4a9a69a6b3",
   "metadata": {},
   "source": [
    "Next, let's store the dimension (number of records) of our treasury auction dataset in the `number_of_bills::Int64` variable using [the `nrow(...)` function exported by the DataFrames.jl package](https://dataframes.juliadata.org/stable/lib/functions/#DataAPI.nrow)"
   ]
  },
  {
   "cell_type": "code",
   "execution_count": null,
   "id": "7cb3298f-a9a6-43be-89ff-87221b5b75ee",
   "metadata": {
    "tags": []
   },
   "outputs": [],
   "source": [
    "number_of_bills = nrow(dataset)"
   ]
  },
  {
   "cell_type": "markdown",
   "id": "0d16edf4-811d-4fd1-bc78-1ef8bc6de136",
   "metadata": {},
   "source": [
    "## Task 1: Compute the Price of Zero-Coupon Treasury Bills at Auction\n",
    "We compute the `T-bill` price by building a discounting model in this task. In this case, let's construct an instance of the [`DiscreteCompoundingModel` type](https://varnerlab.github.io/VLQuantitativeFinancePackage.jl/dev/fixed/#VLQuantitativeFinancePackage.DiscreteCompoundingModel) and store this discount model in the `discount_model` variable.\n",
    "* The [`DiscreteCompoundingModel` type](https://varnerlab.github.io/VLQuantitativeFinancePackage.jl/dev/fixed/#VLQuantitativeFinancePackage.DiscreteCompoundingModel) has no data associated with it; instead, it is used [by the Julia multiple dispatch system](https://docs.julialang.org/en/v1/manual/methods/#Methods) so that we call the correct method version."
   ]
  },
  {
   "cell_type": "code",
   "execution_count": null,
   "id": "29d8ba89-91b5-40a2-b388-8a4e5f4b4e02",
   "metadata": {
    "tags": []
   },
   "outputs": [],
   "source": [
    "discount_model = DiscreteCompoundingModel();"
   ]
  },
  {
   "cell_type": "markdown",
   "id": "414b44bc-8716-427b-8c10-a0e1e9051a8d",
   "metadata": {},
   "source": [
    "Next, let's build a zero-coupon Treasury bill model, an instance of [the `MyUSTreasuryZeroCouponBondModel` type](https://varnerlab.github.io/VLQuantitativeFinancePackage.jl/dev/fixed/#VLQuantitativeFinancePackage.MyUSTreasuryZeroCouponBondModel) using [a custom `build(...)` method](https://varnerlab.github.io/VLQuantitativeFinancePackage.jl/dev/fixed/#VLQuantitativeFinancePackage.build-Tuple{Type{MyUSTreasuryZeroCouponBondModel},%20NamedTuple}). The [`build(...)` method](https://varnerlab.github.io/VLQuantitativeFinancePackage.jl/dev/fixed/#VLQuantitativeFinancePackage.build-Tuple{Type{MyUSTreasuryZeroCouponBondModel},%20NamedTuple}) requires two arguments: the `par` value of the `T-bill` and the `n` argument, i.e., the number of compounding periods per year. Store the zero-coupon model in the `model::MyUSTreasuryZeroCouponBondModel` variable:"
   ]
  },
  {
   "cell_type": "code",
   "execution_count": null,
   "id": "d0a68616-d274-42c5-ba91-75a14452c0d4",
   "metadata": {
    "tags": []
   },
   "outputs": [],
   "source": [
    "model = build(MyUSTreasuryZeroCouponBondModel, (\n",
    "    par = 100.0, n = 2\n",
    "));"
   ]
  },
  {
   "cell_type": "code",
   "execution_count": null,
   "id": "603814ca-a941-484e-886c-916ed1b7c4e4",
   "metadata": {},
   "outputs": [],
   "source": [
    "model"
   ]
  },
  {
   "cell_type": "markdown",
   "id": "d201bb4f-5fb7-4b9a-bd87-d840cab80fc7",
   "metadata": {},
   "source": [
    "The zero-coupon instance is missing some critical data, so let's manually add this to the `model` instance and then compute the price. We'll select an example T-bill from the `dataset`: "
   ]
  },
  {
   "cell_type": "code",
   "execution_count": null,
   "id": "400b7432-fffb-4802-904c-e6078dc2baa9",
   "metadata": {},
   "outputs": [],
   "source": [
    "model.T = \"26-Week\"  |> securityterm; # parameters for T-bill #6\n",
    "model.rate = 0.0559; # parameters for T-bill # 6\n",
    "model |> discount_model"
   ]
  },
  {
   "cell_type": "code",
   "execution_count": null,
   "id": "33dd1ebe-7728-4e95-8505-afc0b11dc5ef",
   "metadata": {},
   "outputs": [],
   "source": [
    "model.price"
   ]
  },
  {
   "cell_type": "markdown",
   "id": "12428e76-4886-4f17-ba24-0e8a08bd05eb",
   "metadata": {},
   "source": [
    "### TODO: Compute the price for all T-bills in the dataset\n",
    "Finally, we compute the zero-coupon `T-bill` price for all the T-bills in `dataset` and compare the computed price to the price observed at auction. We process each record in the `dataset::DataFrame` using [a `for-loop`](https://docs.julialang.org/en/v1/base/base/#for). During each iteration of the loop:\n",
    "* We get data from the `dataset::DataFrame` and update the `T-bill` model instance. In particular, we set the observed price to the variable `VB,` we set the duration `T` field (which we convert to the number of years using the local `securityterm` function) and the investment rate field, i.e., the annual interest rate on the `model::MyUSTreasuryZeroCouponBondModel` instance\n",
    "* Next, we compute the price of the `T-bill` using the [Julia pipe `|>` operator](https://docs.julialang.org/en/v1/manual/functions/#Function-composition-and-piping) in combination with the discounting model [using a short-cut syntax](https://varnerlab.github.io/VLQuantitativeFinancePackage.jl/dev/fixed/#Short-cut-syntax).\n",
    "* We then calculate the percentage error between the estimated and observed `T-bill` price and store the simulation data for each iteration in the `computed_price_table::DataFrame` using [the `push!(...)` function](https://dataframes.juliadata.org/stable/lib/functions/#Base.push!)"
   ]
  },
  {
   "cell_type": "code",
   "execution_count": null,
   "id": "ec79323f-74a4-4a3d-9edd-522ace748b3c",
   "metadata": {
    "jupyter": {
     "source_hidden": true
    },
    "tags": []
   },
   "outputs": [],
   "source": [
    "let \n",
    "\n",
    "    # blank model -\n",
    "    model = build(MyUSTreasuryZeroCouponBondModel, (\n",
    "        par = 100.0, n = 2\n",
    "    ));\n",
    "    \n",
    "    computed_price_table = DataFrame();\n",
    "    for i ∈ 1:number_of_bills\n",
    "        \n",
    "        VB = dataset[i, :Price];\n",
    "        model.T = dataset[i, Symbol(\"Security Term\")] |> String |> securityterm; # converts the duration in the data\n",
    "        model.rate = dataset[i, Symbol(\"Investment Rate\")];\n",
    "            \n",
    "        price_computed = model |> discount_model |> x-> x.price; # compute price assuming discrete discount\n",
    "        absrtol = abs((VB - price_computed)/(price_computed)); # compute the abs of the relative tolerance \n",
    "        \n",
    "        results_tuple = (\n",
    "            CUSIP = dataset[i, :CUSIP],\n",
    "            term = dataset[i, Symbol(\"Security Term\")],\n",
    "            rate = (dataset[i, Symbol(\"Investment Rate\")] |> x-> 100*x),\n",
    "            computed =  price_computed,\n",
    "            actual = VB,\n",
    "            rtol = absrtol\n",
    "        );\n",
    "        push!(computed_price_table, results_tuple)\n",
    "    end\n",
    "    computed_price_table\n",
    "end"
   ]
  },
  {
   "cell_type": "markdown",
   "id": "98c7e092-dca7-4db7-b7c7-927fe831a41c",
   "metadata": {},
   "source": [
    "## Task 2: Compute the T-bill price versus the interest rate\n",
    "Malkiel proposed five theorems that govern the price of fixed-income debt securities, e.g., [Treasury Bills, Notes, and Bonds](https://www.treasurydirect.gov/marketable-securities/), as a function of the duration and yield values:\n",
    "* [Malkiel, B. G. (1962). Expectations, Bond Prices, and the Term Structure of Interest Rates. The Quarterly Journal of Economics, 76(2), 197–218](https://www.jstor.org/stable/1880816)\n",
    "The first of these theorems is that T-bill/note/bond prices are inversely proportional to the yield (the `investment rate` for `T-bills`):\n",
    "> __Theorem 1__: Bond prices move inversely to bond yields.\n",
    "\n",
    "Malkiel proved Theorem 1 analytically. Let's test this relationship computationally. First, select a random bill from the `dataset::DataFrame` by randomly selecting an index from `1...number_of_bills` using [the built-in Julia `rand(...)` function](https://docs.julialang.org/en/v1/stdlib/Random/#Base.rand). We'll use this `T-bill` as our example to test `Theorem 1.`"
   ]
  },
  {
   "cell_type": "code",
   "execution_count": null,
   "id": "9feef898-63cf-49eb-8b1e-24628aa83093",
   "metadata": {
    "tags": []
   },
   "outputs": [],
   "source": [
    "random_bill_index = rand(1:number_of_bills)\n",
    "println(\"Selected bill: $(random_bill_index)\")"
   ]
  },
  {
   "cell_type": "code",
   "execution_count": null,
   "id": "59f826ea-3ef1-4ae1-9414-3060ccfa0e58",
   "metadata": {
    "tags": []
   },
   "outputs": [],
   "source": [
    "dataset[random_bill_index,:] # what is the auction data for this bill?"
   ]
  },
  {
   "cell_type": "markdown",
   "id": "321b20fa-d36e-4cab-a30c-1b8a42cc94bc",
   "metadata": {},
   "source": [
    "Create an instance of [the `MyUSTreasuryZeroCouponBondModel` model](https://varnerlab.github.io/VLQuantitativeFinancePackage.jl/dev/fixed/#VLQuantitativeFinancePackage.MyUSTreasuryZeroCouponBondModel) from the randomly selected nominal auction data using [the `build(...)` method](https://varnerlab.github.io/VLQuantitativeFinancePackage.jl/dev/fixed/#VLQuantitativeFinancePackage.build-Tuple{Type{MyUSTreasuryZeroCouponBondModel},%20NamedTuple}), assuming a par value of `100 USD` with two compounding periods per year. These values will be passed as arguments to the [`build(...)` method](https://varnerlab.github.io/VLQuantitativeFinancePackage.jl/dev/fixed/#VLQuantitativeFinancePackage.build-Tuple{Type{MyUSTreasuryZeroCouponBondModel},%20NamedTuple}) in the `par` and `n` parameters. Update the rest of the parameters on the `zero_coupon_model` instance from the `dataset.` The resulting zero-coupon model will be stored in the `model::MyUSTreasuryZeroCouponBondModel` variable.\n",
    "* See the [DataFrames.jl documentation for examples of accessing data from a `DataFrame` instance](https://dataframes.juliadata.org/stable/man/basics/). "
   ]
  },
  {
   "cell_type": "code",
   "execution_count": null,
   "id": "be57be48-2ad0-41a0-a8d1-74c90a36bea6",
   "metadata": {
    "tags": []
   },
   "outputs": [],
   "source": [
    "zero_coupon_model = build(MyUSTreasuryZeroCouponBondModel, (\n",
    "    par = 100.0, n = 2, \n",
    "    T = dataset[random_bill_index, Symbol(\"Security Term\")] |> String |> securityterm,\n",
    "    rate =  dataset[random_bill_index, Symbol(\"Investment Rate\")]\n",
    ")) |> discount_model;"
   ]
  },
  {
   "cell_type": "markdown",
   "id": "78fb07e0-99a1-4b51-a26c-993b85fce609",
   "metadata": {},
   "source": [
    "#### Check: Is the computed price _similar_ to the auction price $V_{B}$?\n",
    "The [isapprox function](https://docs.julialang.org/en/v1/base/math/#Base.isapprox) checks the equality of numerical values up to some tolerance value, where either relative `rol` or absolute tolerance `atol` can be specified. Let's use relative tolerance. \n",
    "* If two values are within `rtol` of each other, the [isapprox function](https://docs.julialang.org/en/v1/base/math/#Base.isapprox) returns `true`; otherwise, it returns `false`. When the [isapprox function](https://docs.julialang.org/en/v1/base/math/#Base.isapprox) is combined with the [@assert macro](https://docs.julialang.org/en/v1/base/base/#Base.@assert), a `false` result generates an [AssertionError](https://docs.julialang.org/en/v1/base/base/#Core.AssertionError)."
   ]
  },
  {
   "cell_type": "code",
   "execution_count": null,
   "id": "bffc26c7-e4c3-4545-bf0d-f3f67b0e01b1",
   "metadata": {
    "tags": []
   },
   "outputs": [],
   "source": [
    "VB = dataset[random_bill_index, :Price];\n",
    "computed_price = zero_coupon_model.price\n",
    "@assert isapprox(VB, computed_price; rtol=1e-3)"
   ]
  },
  {
   "cell_type": "markdown",
   "id": "8c11b399-ebae-4738-9f1d-2691ef68819a",
   "metadata": {},
   "source": [
    "#### Can we see the cash flow events?\n",
    "The cashflow events are stored in the `cashflow::Dict{Int64, Float64}` field of the zero-coupon model:"
   ]
  },
  {
   "cell_type": "code",
   "execution_count": null,
   "id": "87944e33-f460-4e72-a3a8-4c89b432fcd2",
   "metadata": {},
   "outputs": [],
   "source": [
    "zero_coupon_model.cashflow"
   ]
  },
  {
   "cell_type": "markdown",
   "id": "e17ee52d-441a-4c89-a016-86d348c4c7f7",
   "metadata": {},
   "source": [
    "### TODO: Specify a range of perturbation values\n",
    "To simulate the impact of changes in the interest rate, let's perturb the effective nominal interest rate $\\bar{r}$, with all other values held constant, i.e., generate a new rate of the form $\\bar{r}\\leftarrow\\beta\\cdot\\bar{r}$, where $\\beta$ is a perturbation value; if $\\beta<1$ the perturbed interest rate is _less than_ the nominal rate, if $\\beta=1$ the perturbed interest rate is _equals_ the nominal rate, and if $\\beta>1$ the perturbed interest rate is _greater than_ the nominal rate.\n",
    "\n",
    "* First, we specify the number of perturbation values we want to consider; we store this value in the `number_of_samples` variable. If `number_of_samples` is odd, the perturbation range will include the nominal interest rate as the center value.\n",
    "* Next, we specify the lower and upper values of the perturbation range; the lower bound is stored in the `β₁` variable, while the upper bound is stored in the `β₂` variable.\n",
    "* Finally, we compute the perturbation array (stored in the `β`-variable) using the [range function](https://docs.julialang.org/en/v1/base/math/#Base.range) in combination with the [Julia pipe |> operator](https://docs.julialang.org/en/v1/manual/functions/#Function-composition-and-piping), and [the Julia collect function](https://docs.julialang.org/en/v1/base/collections/#Base.collect-Tuple{Type,%20Any}), which converts a range type to a collection, i.e., an array"
   ]
  },
  {
   "cell_type": "code",
   "execution_count": null,
   "id": "19e90d17-897e-4407-9e42-ead7b464a504",
   "metadata": {},
   "outputs": [],
   "source": [
    "number_of_samples = 7;\n",
    "β₁ = 0.8;\n",
    "β₂ = 1.2;\n",
    "β = range(β₁, stop = β₂, length = number_of_samples) |> collect;"
   ]
  },
  {
   "cell_type": "markdown",
   "id": "4bcdf189-e492-4e2e-8329-012c05fe1d04",
   "metadata": {},
   "source": [
    "### TODO: Compute the change of the T-bill price as a function of the effective interest rate\n",
    "Compute the price of the selected `T-bill` using different values for the effective interest rate and store the results in the `theorem_1_simulation_array` variable. Iterate through each value of the $\\beta$ array using a `for` loop, where we use the [eachindex function](https://docs.julialang.org/en/v1/base/arrays/#Base.eachindex). For iteration $i$ of the loop:\n",
    "* Get a value for the perturbation $\\beta_{i}$ from the $\\beta$-array, and compute the new effective interest rate $\\bar{r}_{i} = \\beta_{i}\\cdot{\\bar{r}}$.\n",
    "* Update the `zero_coupon_model` instance with the new rate (set the `rate` field), and compute the new price\n",
    "* Store the $\\beta_{i}$ value in column 1 and the percentage difference in price in column 2 of the `theorem_1_simulation_array`\n",
    "* Store the new value of the effective interest rate and the new price in columns 3 and 4, respectively. "
   ]
  },
  {
   "cell_type": "code",
   "execution_count": null,
   "id": "70f9101b-f93c-4468-b29a-c6257ffb4581",
   "metadata": {
    "tags": []
   },
   "outputs": [],
   "source": [
    "theorem_1_simulation_array = Array{Float64,2}(undef, number_of_samples, 4);\n",
    "for i ∈ eachindex(β)\n",
    "    \n",
    "    β_value = β[i];\n",
    "    r̄ = dataset[random_bill_index, Symbol(\"Investment Rate\")];\n",
    "    r̄_value = β_value*dataset[random_bill_index, Symbol(\"Investment Rate\")];\n",
    "    zero_coupon_model.rate = r̄_value;\n",
    "    tmp = zero_coupon_model |> discount_model;\n",
    "    new_price = tmp.price\n",
    "    \n",
    "    \n",
    "    theorem_1_simulation_array[i,1] = β_value\n",
    "    theorem_1_simulation_array[i,2] = ((new_price - computed_price)/(computed_price))*100\n",
    "    theorem_1_simulation_array[i,3] = r̄_value\n",
    "    theorem_1_simulation_array[i,4] = new_price\n",
    "end\n",
    "theorem_1_simulation_array;"
   ]
  },
  {
   "cell_type": "markdown",
   "id": "92580aee-434c-423a-b712-496de833a694",
   "metadata": {},
   "source": [
    "### Visualize the perturbation $\\beta$ versus the `%-change` in price\n",
    "`Unhide` the code block below to see how we plotted the percentage change in the T-bill price versus the `β`-parameter (a surrogate for the effective interest rate). The case of `β = 1` denotes the nominal interest rate, $\\beta<1$ denotes decreased interest rates compared to the nominal value, and $\\beta>1$ denotes an increased interest rate.\n",
    "* __Summary__: The price of the T-bill appears to be inversely proportional to the $\\beta$-parameter, i.e., the effective interest rate of the instrument. Thus, we appear to confirm `Theorem 1` by simulation."
   ]
  },
  {
   "cell_type": "code",
   "execution_count": null,
   "id": "5c6c834d-986d-4302-aca2-420b018bcc84",
   "metadata": {
    "jupyter": {
     "source_hidden": true
    },
    "tags": []
   },
   "outputs": [],
   "source": [
    "let\n",
    "    q = plot(bg=\"gray95\", background_color_outside=\"white\", framestyle = :box, fg_legend = :transparent);\n",
    "    plot(q, theorem_1_simulation_array[:,1], theorem_1_simulation_array[:,2], lw=3, c=:black, xlabel=\"β\", \n",
    "            ylabel=\"Percentage change T-Bill price\", label=\"T-bill @index = $(random_bill_index)\")\n",
    "end"
   ]
  },
  {
   "cell_type": "markdown",
   "id": "a89432a1-b757-44a6-82a5-b89bd6f64e4f",
   "metadata": {},
   "source": [
    "### Discussion: Is the slope of the interest rate versus the price line negative?\n",
    "If the relationship between the price and the yield is inversely proportional, then the slope of price versus $\\bar{r}$ should be negative; let's check this condition by computing the slope from the simulation array, store this in the `slope` variable.\n",
    "* Use the [@assert macro](https://docs.julialang.org/en/v1/base/base/#Base.@assert) to test of the slope is negative: if $\\text{slope}>0$, i.e., `Theorem 1` is not supported, this test will throw an [AssertionError](https://docs.julialang.org/en/v1/base/base/#Core.AssertionError), otherwise the `Theorem 1` is supported by simulation"
   ]
  },
  {
   "cell_type": "code",
   "execution_count": null,
   "id": "86c2ae02-cfe7-4361-a5a1-4d1eddc73601",
   "metadata": {},
   "outputs": [],
   "source": [
    "slope = (theorem_1_simulation_array[end,4] - theorem_1_simulation_array[1,4])/(theorem_1_simulation_array[end,3] - theorem_1_simulation_array[1,3]);\n",
    "@assert (slope < 0.0)"
   ]
  },
  {
   "cell_type": "markdown",
   "id": "cd8da194-93e8-4af7-9f02-b02aacd98980",
   "metadata": {},
   "source": [
    "## Disclaimer and Risks\n",
    "__This content is offered solely for training and informational purposes__. No offer or solicitation to buy or sell securities or derivative products or any investment or trading advice or strategy is made, given, or endorsed by the teaching team. \n",
    "\n",
    "__Trading involves risk__. Carefully review your financial situation before investing in securities, futures contracts, options, or commodity interests. Past performance, whether actual or indicated by historical tests of strategies, is no guarantee of future performance or success. Trading is generally inappropriate for someone with limited resources, investment or trading experience, or a low-risk tolerance.  Only risk capital that is not required for living expenses.\n",
    "\n",
    "__You are fully responsible for any investment or trading decisions you make__. Such decisions should be based solely on evaluating your financial circumstances, investment or trading objectives, risk tolerance, and liquidity needs."
   ]
  }
 ],
 "metadata": {
  "kernelspec": {
   "display_name": "Julia 1.11.6",
   "language": "julia",
   "name": "julia-1.11"
  },
  "language_info": {
   "file_extension": ".jl",
   "mimetype": "application/julia",
   "name": "julia",
   "version": "1.11.6"
  }
 },
 "nbformat": 4,
 "nbformat_minor": 5
}
