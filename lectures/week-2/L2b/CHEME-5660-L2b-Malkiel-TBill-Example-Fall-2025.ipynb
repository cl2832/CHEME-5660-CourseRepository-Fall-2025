{
 "cells": [
  {
   "cell_type": "markdown",
   "id": "b0e94960-7a4f-4cd3-b64c-2694957e90fa",
   "metadata": {},
   "source": [
    "# Example: Treasury Bill Pricing, Interest Rate Risk, and Term to Maturity\n",
    "Malkiel proposed five theorems that govern the price of fixed-income debt securities, e.g., Treasury Bills, Notes, and Bonds, as a function of the duration and yield values:\n",
    "\n",
    "* [Malkiel, B. G. (1962). Expectations, Bond Prices, and the Term Structure of Interest Rates. The Quarterly Journal of Economics, 76(2), 197–218. https://doi.org/10.2307/1880816](https://www.jstor.org/stable/1880816https://www.jstor.org/stable/1880816)\n",
    "\n",
    "In this example, you will develop a simulation test of the second of the five theorems:\n",
    "\n",
    "> __Theorem 2__: For a given change in yield from the nominal yield, changes in bond prices are greater the longer the term to maturity\n",
    "\n",
    "## Learning objectives\n",
    "This example familiarizes students with computing the sensitivity of the price of United States Treasury Bills, or `T-bills,` to changes in the interest rate (yield, discount rate, etc) as a function of the instruments' duration.\n",
    "\n",
    "* __Prerequisite__: Before we begin any calculations, we'll load a United States Treasury action dataset for `T-bills` downloaded from [TreasuryDirect.gov](https://www.treasurydirect.gov/auctions/auction-query/).\n",
    "* __Objective 1__: First, you'll compute the price of a random `T-bill` and validate your simulated price using Treasury auction data from `2022` and `2023`.\n",
    "   * `TODO`: Verify the computed price of a random `T-bill` versus the observed auction price using the [@assert macro](https://docs.julialang.org/en/v1/base/base/#Base.@assert) and the [isapprox(...)](https://docs.julialang.org/en/v1/base/math/#Base.isapprox) function.\n",
    "* __Objective 2__: Next, you'll compute the sensitivity of short- and long-duration `T-bill` prices to changes in the interest rate. Long-duration `T-bills` should be more sensitive to interest rate changes than shorter-duration instruments.\n",
    "    * `TODO` Build a short-duration bill model\n",
    "    * `TODO` Build a long-duration bill model\n",
    "    * `TODO`: Specify a range of perturbation values for the effective interest rate $\\bar{r}$, and compute this array $\\beta$\n",
    "    * `TODO`: Compute the change of the short and long-duration prices as a function of the yield and visualize the percentage change in the price versus the perturbation $\\beta$\n",
    "* `Discussion question`: Why would you expect __Theorem 2__ to be true (without doing any simulation?)\n",
    "\n",
    "Let's go!\n",
    "___"
   ]
  },
  {
   "cell_type": "markdown",
   "id": "3c2e9a10-98e2-47b1-ba09-b8fe9296b991",
   "metadata": {
    "editable": true,
    "slideshow": {
     "slide_type": ""
    },
    "tags": []
   },
   "source": [
    "## Setup\n",
    "We load the [VLQuantitativeFinancePackage.jl](https://github.com/varnerlab/VLQuantitativeFinancePackage.jl) package, and several other external [Julia](https://julialang.org/downloads/https://julialang.org/downloads/) packages, as well as some helper code included in the `src` directory, by calling the [include(...)](https://docs.julialang.org/en/v1/manual/code-loading/https://docs.julialang.org/en/v1/manual/code-loading/) command on the file `Include.jl`."
   ]
  },
  {
   "cell_type": "code",
   "execution_count": 1,
   "id": "75dee4cc-4ca1-43cb-9772-b12a0aead531",
   "metadata": {
    "tags": []
   },
   "outputs": [
    {
     "name": "stderr",
     "output_type": "stream",
     "text": [
      "\u001b[32m\u001b[1m    Updating\u001b[22m\u001b[39m git-repo `https://github.com/varnerlab/VLQuantitativeFinancePackage.jl.git`\n",
      "\u001b[32m\u001b[1m    Updating\u001b[22m\u001b[39m registry at `C:\\Users\\User\\.julia\\registries\\General.toml`\n",
      "\u001b[32m\u001b[1m   Resolving\u001b[22m\u001b[39m package versions...\n",
      "\u001b[32m\u001b[1m   Installed\u001b[22m\u001b[39m MLDataDevices ── v1.11.2\n",
      "\u001b[32m\u001b[1m   Installed\u001b[22m\u001b[39m EnzymeCore ───── v0.8.13\n",
      "\u001b[32m\u001b[1m   Installed\u001b[22m\u001b[39m ArrayInterface ─ v7.20.0\n",
      "\u001b[32m\u001b[1m   Installed\u001b[22m\u001b[39m JuMP ─────────── v1.29.0\n",
      "\u001b[32m\u001b[1m    Updating\u001b[22m\u001b[39m `C:\\Users\\User\\Documents\\GitHub\\CHEME-5660-CourseRepository-Fall-2025\\lectures\\week-2\\L2b\\Project.toml`\n",
      "  \u001b[90m[336ed68f] \u001b[39m\u001b[92m+ CSV v0.10.15\u001b[39m\n",
      "  \u001b[90m[5ae59095] \u001b[39m\u001b[92m+ Colors v0.13.1\u001b[39m\n",
      "  \u001b[90m[a93c6f00] \u001b[39m\u001b[92m+ DataFrames v1.7.1\u001b[39m\n",
      "\u001b[33m⌅\u001b[39m \u001b[90m[864edb3b] \u001b[39m\u001b[92m+ DataStructures v0.18.22\u001b[39m\n",
      "  \u001b[90m[31c24e10] \u001b[39m\u001b[92m+ Distributions v0.25.120\u001b[39m\n",
      "  \u001b[90m[5789e2e9] \u001b[39m\u001b[92m+ FileIO v1.17.0\u001b[39m\n",
      "  \u001b[90m[587475ba] \u001b[39m\u001b[92m+ Flux v0.16.5\u001b[39m\n",
      "\u001b[32m⌃\u001b[39m \u001b[90m[033835bb] \u001b[39m\u001b[92m+ JLD2 v0.5.15\u001b[39m\n",
      "  \u001b[90m[2fda8390] \u001b[39m\u001b[92m+ LsqFit v0.15.1\u001b[39m\n",
      "  \u001b[90m[b8f27783] \u001b[39m\u001b[92m+ MathOptInterface v1.43.0\u001b[39m\n",
      "  \u001b[90m[0b1bfda6] \u001b[39m\u001b[92m+ OneHotArrays v0.2.10\u001b[39m\n",
      "  \u001b[90m[91a5bcdd] \u001b[39m\u001b[92m+ Plots v1.40.19\u001b[39m\n",
      "\u001b[33m⌅\u001b[39m \u001b[90m[08abe8d2] \u001b[39m\u001b[92m+ PrettyTables v2.4.0\u001b[39m\n",
      "  \u001b[90m[10745b16] \u001b[39m\u001b[92m+ Statistics v1.11.1\u001b[39m\n",
      "  \u001b[90m[2913bbd2] \u001b[39m\u001b[92m+ StatsBase v0.34.6\u001b[39m\n",
      "  \u001b[90m[f3b207a7] \u001b[39m\u001b[92m+ StatsPlots v0.15.7\u001b[39m\n",
      "  \u001b[90m[4119e0bf] \u001b[39m\u001b[92m+ VLQuantitativeFinancePackage v1.0.0-DEV `https://github.com/varnerlab/VLQuantitativeFinancePackage.jl.git#main`\u001b[39m\n",
      "  \u001b[90m[ade2ca70] \u001b[39m\u001b[93m~ Dates ⇒ v1.11.0\u001b[39m\n",
      "  \u001b[90m[37e2e46d] \u001b[39m\u001b[93m~ LinearAlgebra ⇒ v1.11.0\u001b[39m\n",
      "\u001b[32m\u001b[1m    Updating\u001b[22m\u001b[39m `C:\\Users\\User\\Documents\\GitHub\\CHEME-5660-CourseRepository-Fall-2025\\lectures\\week-2\\L2b\\Manifest.toml`\n",
      "  \u001b[90m[47edcb42] \u001b[39m\u001b[92m+ ADTypes v1.17.0\u001b[39m\n",
      "  \u001b[90m[621f4979] \u001b[39m\u001b[92m+ AbstractFFTs v1.5.0\u001b[39m\n",
      "  \u001b[90m[7d9f7c33] \u001b[39m\u001b[92m+ Accessors v0.1.42\u001b[39m\n",
      "  \u001b[90m[79e6a3ab] \u001b[39m\u001b[92m+ Adapt v4.3.0\u001b[39m\n",
      "  \u001b[90m[66dad0bd] \u001b[39m\u001b[92m+ AliasTables v1.1.3\u001b[39m\n",
      "  \u001b[90m[dce04be8] \u001b[39m\u001b[92m+ ArgCheck v2.5.0\u001b[39m\n",
      "  \u001b[90m[7d9fca2a] \u001b[39m\u001b[92m+ Arpack v0.5.4\u001b[39m\n",
      "  \u001b[90m[4fba245c] \u001b[39m\u001b[92m+ ArrayInterface v7.20.0\u001b[39m\n",
      "  \u001b[90m[a9b6321e] \u001b[39m\u001b[92m+ Atomix v1.1.2\u001b[39m\n",
      "  \u001b[90m[13072b0f] \u001b[39m\u001b[92m+ AxisAlgorithms v1.1.0\u001b[39m\n",
      "  \u001b[90m[198e06fe] \u001b[39m\u001b[92m+ BangBang v0.4.4\u001b[39m\n",
      "  \u001b[90m[9718e550] \u001b[39m\u001b[92m+ Baselet v0.1.1\u001b[39m\n",
      "  \u001b[90m[6e4b80f9] \u001b[39m\u001b[92m+ BenchmarkTools v1.6.0\u001b[39m\n",
      "  \u001b[90m[d1d4a3ce] \u001b[39m\u001b[92m+ BitFlags v0.1.9\u001b[39m\n",
      "  \u001b[90m[336ed68f] \u001b[39m\u001b[92m+ CSV v0.10.15\u001b[39m\n",
      "  \u001b[90m[082447d4] \u001b[39m\u001b[92m+ ChainRules v1.72.5\u001b[39m\n",
      "  \u001b[90m[d360d2e6] \u001b[39m\u001b[92m+ ChainRulesCore v1.26.0\u001b[39m\n",
      "  \u001b[90m[aaaa29a8] \u001b[39m\u001b[92m+ Clustering v0.15.8\u001b[39m\n",
      "  \u001b[90m[523fee87] \u001b[39m\u001b[92m+ CodecBzip2 v0.8.5\u001b[39m\n",
      "  \u001b[90m[944b1d66] \u001b[39m\u001b[92m+ CodecZlib v0.7.8\u001b[39m\n",
      "  \u001b[90m[35d6a980] \u001b[39m\u001b[92m+ ColorSchemes v3.30.0\u001b[39m\n",
      "  \u001b[90m[3da002f7] \u001b[39m\u001b[92m+ ColorTypes v0.12.1\u001b[39m\n",
      "  \u001b[90m[c3611d14] \u001b[39m\u001b[92m+ ColorVectorSpace v0.11.0\u001b[39m\n",
      "  \u001b[90m[5ae59095] \u001b[39m\u001b[92m+ Colors v0.13.1\u001b[39m\n",
      "  \u001b[90m[bbf7d656] \u001b[39m\u001b[92m+ CommonSubexpressions v0.3.1\u001b[39m\n",
      "  \u001b[90m[34da2185] \u001b[39m\u001b[92m+ Compat v4.18.0\u001b[39m\n",
      "  \u001b[90m[a33af91c] \u001b[39m\u001b[92m+ CompositionsBase v0.1.2\u001b[39m\n",
      "  \u001b[90m[f0e56b4a] \u001b[39m\u001b[92m+ ConcurrentUtilities v2.5.0\u001b[39m\n",
      "  \u001b[90m[187b0558] \u001b[39m\u001b[92m+ ConstructionBase v1.6.0\u001b[39m\n",
      "  \u001b[90m[6add18c4] \u001b[39m\u001b[92m+ ContextVariablesX v0.1.3\u001b[39m\n",
      "  \u001b[90m[d38c429a] \u001b[39m\u001b[92m+ Contour v0.6.3\u001b[39m\n",
      "  \u001b[90m[a8cc5b0e] \u001b[39m\u001b[92m+ Crayons v4.1.1\u001b[39m\n",
      "  \u001b[90m[9a962f9c] \u001b[39m\u001b[92m+ DataAPI v1.16.0\u001b[39m\n",
      "  \u001b[90m[a93c6f00] \u001b[39m\u001b[92m+ DataFrames v1.7.1\u001b[39m\n",
      "\u001b[33m⌅\u001b[39m \u001b[90m[864edb3b] \u001b[39m\u001b[92m+ DataStructures v0.18.22\u001b[39m\n",
      "  \u001b[90m[e2d170a0] \u001b[39m\u001b[92m+ DataValueInterfaces v1.0.0\u001b[39m\n",
      "  \u001b[90m[244e2a9f] \u001b[39m\u001b[92m+ DefineSingletons v0.1.2\u001b[39m\n",
      "  \u001b[90m[8bb1440f] \u001b[39m\u001b[92m+ DelimitedFiles v1.9.1\u001b[39m\n",
      "  \u001b[90m[163ba53b] \u001b[39m\u001b[92m+ DiffResults v1.1.0\u001b[39m\n",
      "  \u001b[90m[b552c78f] \u001b[39m\u001b[92m+ DiffRules v1.15.1\u001b[39m\n",
      "  \u001b[90m[a0c0ee7d] \u001b[39m\u001b[92m+ DifferentiationInterface v0.7.7\u001b[39m\n",
      "  \u001b[90m[b4f34e82] \u001b[39m\u001b[92m+ Distances v0.10.12\u001b[39m\n",
      "  \u001b[90m[31c24e10] \u001b[39m\u001b[92m+ Distributions v0.25.120\u001b[39m\n",
      "  \u001b[90m[ffbed154] \u001b[39m\u001b[92m+ DocStringExtensions v0.9.5\u001b[39m\n",
      "  \u001b[90m[4e289a0a] \u001b[39m\u001b[92m+ EnumX v1.0.5\u001b[39m\n",
      "  \u001b[90m[f151be2c] \u001b[39m\u001b[92m+ EnzymeCore v0.8.13\u001b[39m\n",
      "  \u001b[90m[460bff9d] \u001b[39m\u001b[92m+ ExceptionUnwrapping v0.1.11\u001b[39m\n",
      "  \u001b[90m[e2ba6199] \u001b[39m\u001b[92m+ ExprTools v0.1.10\u001b[39m\n",
      "  \u001b[90m[c87230d0] \u001b[39m\u001b[92m+ FFMPEG v0.4.4\u001b[39m\n",
      "  \u001b[90m[7a1cc6ca] \u001b[39m\u001b[92m+ FFTW v1.9.0\u001b[39m\n",
      "  \u001b[90m[cc61a311] \u001b[39m\u001b[92m+ FLoops v0.2.2\u001b[39m\n",
      "  \u001b[90m[b9860ae5] \u001b[39m\u001b[92m+ FLoopsBase v0.1.1\u001b[39m\n",
      "  \u001b[90m[9aa1b823] \u001b[39m\u001b[92m+ FastClosures v0.3.2\u001b[39m\n",
      "  \u001b[90m[5789e2e9] \u001b[39m\u001b[92m+ FileIO v1.17.0\u001b[39m\n",
      "  \u001b[90m[48062228] \u001b[39m\u001b[92m+ FilePathsBase v0.9.24\u001b[39m\n",
      "  \u001b[90m[1a297f60] \u001b[39m\u001b[92m+ FillArrays v1.13.0\u001b[39m\n",
      "  \u001b[90m[6a86dc24] \u001b[39m\u001b[92m+ FiniteDiff v2.28.1\u001b[39m\n",
      "  \u001b[90m[53c48c17] \u001b[39m\u001b[92m+ FixedPointNumbers v0.8.5\u001b[39m\n",
      "  \u001b[90m[587475ba] \u001b[39m\u001b[92m+ Flux v0.16.5\u001b[39m\n",
      "  \u001b[90m[1fa38f19] \u001b[39m\u001b[92m+ Format v1.3.7\u001b[39m\n",
      "  \u001b[90m[f6369f11] \u001b[39m\u001b[92m+ ForwardDiff v1.1.0\u001b[39m\n",
      "  \u001b[90m[d9f16b24] \u001b[39m\u001b[92m+ Functors v0.5.2\u001b[39m\n",
      "  \u001b[90m[46192b85] \u001b[39m\u001b[92m+ GPUArraysCore v0.2.0\u001b[39m\n",
      "  \u001b[90m[28b8d3ca] \u001b[39m\u001b[92m+ GR v0.73.17\u001b[39m\n",
      "  \u001b[90m[42e2da0e] \u001b[39m\u001b[92m+ Grisu v1.0.2\u001b[39m\n",
      "  \u001b[90m[cd3eb016] \u001b[39m\u001b[92m+ HTTP v1.10.17\u001b[39m\n",
      "  \u001b[90m[076d061b] \u001b[39m\u001b[92m+ HashArrayMappedTries v0.2.0\u001b[39m\n",
      "  \u001b[90m[34004b35] \u001b[39m\u001b[92m+ HypergeometricFunctions v0.3.28\u001b[39m\n",
      "  \u001b[90m[7869d1d1] \u001b[39m\u001b[92m+ IRTools v0.4.15\u001b[39m\n",
      "  \u001b[90m[22cec73e] \u001b[39m\u001b[92m+ InitialValues v0.3.1\u001b[39m\n",
      "  \u001b[90m[842dd82b] \u001b[39m\u001b[92m+ InlineStrings v1.4.5\u001b[39m\n",
      "\u001b[33m⌅\u001b[39m \u001b[90m[a98d9a8b] \u001b[39m\u001b[92m+ Interpolations v0.15.1\u001b[39m\n",
      "  \u001b[90m[3587e190] \u001b[39m\u001b[92m+ InverseFunctions v0.1.17\u001b[39m\n",
      "  \u001b[90m[41ab1584] \u001b[39m\u001b[92m+ InvertedIndices v1.3.1\u001b[39m\n",
      "  \u001b[90m[92d709cd] \u001b[39m\u001b[92m+ IrrationalConstants v0.2.4\u001b[39m\n",
      "  \u001b[90m[82899510] \u001b[39m\u001b[92m+ IteratorInterfaceExtensions v1.0.0\u001b[39m\n",
      "\u001b[32m⌃\u001b[39m \u001b[90m[033835bb] \u001b[39m\u001b[92m+ JLD2 v0.5.15\u001b[39m\n",
      "  \u001b[90m[1019f520] \u001b[39m\u001b[92m+ JLFzf v0.1.11\u001b[39m\n",
      "  \u001b[90m[692b3bcd] \u001b[39m\u001b[92m+ JLLWrappers v1.7.1\u001b[39m\n",
      "  \u001b[90m[682c06a0] \u001b[39m\u001b[92m+ JSON v0.21.4\u001b[39m\n",
      "  \u001b[90m[0f8b85d8] \u001b[39m\u001b[92m+ JSON3 v1.14.3\u001b[39m\n",
      "  \u001b[90m[4076af6c] \u001b[39m\u001b[92m+ JuMP v1.29.0\u001b[39m\n",
      "  \u001b[90m[b14d175d] \u001b[39m\u001b[92m+ JuliaVariables v0.2.4\u001b[39m\n",
      "  \u001b[90m[63c18a36] \u001b[39m\u001b[92m+ KernelAbstractions v0.9.38\u001b[39m\n",
      "  \u001b[90m[5ab0869b] \u001b[39m\u001b[92m+ KernelDensity v0.6.10\u001b[39m\n",
      "  \u001b[90m[b964fa9f] \u001b[39m\u001b[92m+ LaTeXStrings v1.4.0\u001b[39m\n",
      "  \u001b[90m[23fbe1c1] \u001b[39m\u001b[92m+ Latexify v0.16.9\u001b[39m\n",
      "  \u001b[90m[d3d80556] \u001b[39m\u001b[92m+ LineSearches v7.4.0\u001b[39m\n",
      "  \u001b[90m[5c8ed15e] \u001b[39m\u001b[92m+ LinearOperators v2.11.0\u001b[39m\n",
      "  \u001b[90m[2ab3a3ac] \u001b[39m\u001b[92m+ LogExpFunctions v0.3.29\u001b[39m\n",
      "  \u001b[90m[e6f89c97] \u001b[39m\u001b[92m+ LoggingExtras v1.1.0\u001b[39m\n",
      "  \u001b[90m[2fda8390] \u001b[39m\u001b[92m+ LsqFit v0.15.1\u001b[39m\n",
      "  \u001b[90m[c2834f40] \u001b[39m\u001b[92m+ MLCore v1.0.0\u001b[39m\n",
      "  \u001b[90m[7e8f7934] \u001b[39m\u001b[92m+ MLDataDevices v1.11.2\u001b[39m\n",
      "  \u001b[90m[d8e11817] \u001b[39m\u001b[92m+ MLStyle v0.4.17\u001b[39m\n",
      "  \u001b[90m[f1d291b0] \u001b[39m\u001b[92m+ MLUtils v0.4.8\u001b[39m\n",
      "  \u001b[90m[1914dd2f] \u001b[39m\u001b[92m+ MacroTools v0.5.16\u001b[39m\n",
      "\u001b[32m⌃\u001b[39m \u001b[90m[2621e9c9] \u001b[39m\u001b[92m+ MadNLP v0.7.0\u001b[39m\n",
      "  \u001b[90m[b8f27783] \u001b[39m\u001b[92m+ MathOptInterface v1.43.0\u001b[39m\n",
      "  \u001b[90m[739be429] \u001b[39m\u001b[92m+ MbedTLS v1.1.9\u001b[39m\n",
      "  \u001b[90m[442fdcdd] \u001b[39m\u001b[92m+ Measures v0.3.2\u001b[39m\n",
      "  \u001b[90m[128add7d] \u001b[39m\u001b[92m+ MicroCollections v0.2.0\u001b[39m\n",
      "  \u001b[90m[e1d29d7a] \u001b[39m\u001b[92m+ Missings v1.2.0\u001b[39m\n",
      "  \u001b[90m[6f286f6a] \u001b[39m\u001b[92m+ MultivariateStats v0.10.3\u001b[39m\n",
      "  \u001b[90m[d8a4904e] \u001b[39m\u001b[92m+ MutableArithmetics v1.6.4\u001b[39m\n",
      "\u001b[33m⌅\u001b[39m \u001b[90m[a4795742] \u001b[39m\u001b[92m+ NLPModels v0.20.0\u001b[39m\n",
      "  \u001b[90m[d41bc354] \u001b[39m\u001b[92m+ NLSolversBase v7.10.0\u001b[39m\n",
      "  \u001b[90m[872c559c] \u001b[39m\u001b[92m+ NNlib v0.9.31\u001b[39m\n",
      "  \u001b[90m[77ba4419] \u001b[39m\u001b[92m+ NaNMath v1.1.3\u001b[39m\n",
      "  \u001b[90m[71a1bf82] \u001b[39m\u001b[92m+ NameResolution v0.1.5\u001b[39m\n",
      "  \u001b[90m[b8a86587] \u001b[39m\u001b[92m+ NearestNeighbors v0.4.22\u001b[39m\n",
      "  \u001b[90m[510215fc] \u001b[39m\u001b[92m+ Observables v0.5.5\u001b[39m\n",
      "  \u001b[90m[6fe1bfb0] \u001b[39m\u001b[92m+ OffsetArrays v1.17.0\u001b[39m\n",
      "  \u001b[90m[0b1bfda6] \u001b[39m\u001b[92m+ OneHotArrays v0.2.10\u001b[39m\n",
      "  \u001b[90m[4d8831e6] \u001b[39m\u001b[92m+ OpenSSL v1.5.0\u001b[39m\n",
      "  \u001b[90m[429524aa] \u001b[39m\u001b[92m+ Optim v1.13.2\u001b[39m\n",
      "  \u001b[90m[3bd65402] \u001b[39m\u001b[92m+ Optimisers v0.4.6\u001b[39m\n",
      "  \u001b[90m[bac558e1] \u001b[39m\u001b[92m+ OrderedCollections v1.8.1\u001b[39m\n",
      "  \u001b[90m[90014a1f] \u001b[39m\u001b[92m+ PDMats v0.11.35\u001b[39m\n",
      "  \u001b[90m[d96e819e] \u001b[39m\u001b[92m+ Parameters v0.12.3\u001b[39m\n",
      "  \u001b[90m[69de0a69] \u001b[39m\u001b[92m+ Parsers v2.8.3\u001b[39m\n",
      "  \u001b[90m[ccf2f8ad] \u001b[39m\u001b[92m+ PlotThemes v3.3.0\u001b[39m\n",
      "  \u001b[90m[995b91a9] \u001b[39m\u001b[92m+ PlotUtils v1.4.3\u001b[39m\n",
      "  \u001b[90m[91a5bcdd] \u001b[39m\u001b[92m+ Plots v1.40.19\u001b[39m\n",
      "  \u001b[90m[2dfb63ee] \u001b[39m\u001b[92m+ PooledArrays v1.4.3\u001b[39m\n",
      "  \u001b[90m[85a6dd25] \u001b[39m\u001b[92m+ PositiveFactorizations v0.2.4\u001b[39m\n",
      "\u001b[33m⌅\u001b[39m \u001b[90m[aea7be01] \u001b[39m\u001b[92m+ PrecompileTools v1.2.1\u001b[39m\n",
      "  \u001b[90m[21216c6a] \u001b[39m\u001b[92m+ Preferences v1.5.0\u001b[39m\n",
      "  \u001b[90m[8162dcfd] \u001b[39m\u001b[92m+ PrettyPrint v0.2.0\u001b[39m\n",
      "\u001b[33m⌅\u001b[39m \u001b[90m[08abe8d2] \u001b[39m\u001b[92m+ PrettyTables v2.4.0\u001b[39m\n",
      "  \u001b[90m[33c8b6b6] \u001b[39m\u001b[92m+ ProgressLogging v0.1.5\u001b[39m\n",
      "  \u001b[90m[43287f4e] \u001b[39m\u001b[92m+ PtrArrays v1.3.0\u001b[39m\n",
      "  \u001b[90m[1fd47b50] \u001b[39m\u001b[92m+ QuadGK v2.11.2\u001b[39m\n",
      "  \u001b[90m[c84ed2f1] \u001b[39m\u001b[92m+ Ratios v0.4.5\u001b[39m\n",
      "  \u001b[90m[c1ae055f] \u001b[39m\u001b[92m+ RealDot v0.1.0\u001b[39m\n",
      "  \u001b[90m[3cdcf5f2] \u001b[39m\u001b[92m+ RecipesBase v1.3.4\u001b[39m\n",
      "  \u001b[90m[01d81517] \u001b[39m\u001b[92m+ RecipesPipeline v0.6.12\u001b[39m\n",
      "  \u001b[90m[189a3867] \u001b[39m\u001b[92m+ Reexport v1.2.2\u001b[39m\n",
      "  \u001b[90m[05181044] \u001b[39m\u001b[92m+ RelocatableFolders v1.0.1\u001b[39m\n",
      "  \u001b[90m[ae029012] \u001b[39m\u001b[92m+ Requires v1.3.1\u001b[39m\n",
      "  \u001b[90m[79098fc4] \u001b[39m\u001b[92m+ Rmath v0.8.0\u001b[39m\n",
      "  \u001b[90m[7e506255] \u001b[39m\u001b[92m+ ScopedValues v1.5.0\u001b[39m\n",
      "  \u001b[90m[6c6a2e73] \u001b[39m\u001b[92m+ Scratch v1.3.0\u001b[39m\n",
      "  \u001b[90m[91c51154] \u001b[39m\u001b[92m+ SentinelArrays v1.4.8\u001b[39m\n",
      "  \u001b[90m[efcf1570] \u001b[39m\u001b[92m+ Setfield v1.1.2\u001b[39m\n",
      "  \u001b[90m[605ecd9f] \u001b[39m\u001b[92m+ ShowCases v0.1.0\u001b[39m\n",
      "  \u001b[90m[992d4aef] \u001b[39m\u001b[92m+ Showoff v1.0.3\u001b[39m\n",
      "  \u001b[90m[777ac1f9] \u001b[39m\u001b[92m+ SimpleBufferStream v1.2.0\u001b[39m\n",
      "  \u001b[90m[699a6c99] \u001b[39m\u001b[92m+ SimpleTraits v0.9.5\u001b[39m\n",
      "  \u001b[90m[ff4d7338] \u001b[39m\u001b[92m+ SolverCore v0.3.8\u001b[39m\n",
      "  \u001b[90m[a2af1166] \u001b[39m\u001b[92m+ SortingAlgorithms v1.2.2\u001b[39m\n",
      "  \u001b[90m[dc90abb0] \u001b[39m\u001b[92m+ SparseInverseSubset v0.1.2\u001b[39m\n",
      "  \u001b[90m[276daf66] \u001b[39m\u001b[92m+ SpecialFunctions v2.5.1\u001b[39m\n",
      "  \u001b[90m[171d559e] \u001b[39m\u001b[92m+ SplittablesBase v0.1.15\u001b[39m\n",
      "  \u001b[90m[860ef19b] \u001b[39m\u001b[92m+ StableRNGs v1.0.3\u001b[39m\n",
      "  \u001b[90m[90137ffa] \u001b[39m\u001b[92m+ StaticArrays v1.9.15\u001b[39m\n",
      "  \u001b[90m[1e83bf80] \u001b[39m\u001b[92m+ StaticArraysCore v1.4.3\u001b[39m\n",
      "  \u001b[90m[10745b16] \u001b[39m\u001b[92m+ Statistics v1.11.1\u001b[39m\n",
      "  \u001b[90m[82ae8749] \u001b[39m\u001b[92m+ StatsAPI v1.7.1\u001b[39m\n",
      "  \u001b[90m[2913bbd2] \u001b[39m\u001b[92m+ StatsBase v0.34.6\u001b[39m\n",
      "  \u001b[90m[4c63d2b9] \u001b[39m\u001b[92m+ StatsFuns v1.5.0\u001b[39m\n",
      "  \u001b[90m[f3b207a7] \u001b[39m\u001b[92m+ StatsPlots v0.15.7\u001b[39m\n",
      "  \u001b[90m[892a3eda] \u001b[39m\u001b[92m+ StringManipulation v0.4.1\u001b[39m\n",
      "  \u001b[90m[09ab397b] \u001b[39m\u001b[92m+ StructArrays v0.7.1\u001b[39m\n",
      "  \u001b[90m[856f2bd8] \u001b[39m\u001b[92m+ StructTypes v1.11.0\u001b[39m\n",
      "  \u001b[90m[ab02a1b2] \u001b[39m\u001b[92m+ TableOperations v1.2.0\u001b[39m\n",
      "  \u001b[90m[3783bdb8] \u001b[39m\u001b[92m+ TableTraits v1.0.1\u001b[39m\n",
      "  \u001b[90m[bd369af6] \u001b[39m\u001b[92m+ Tables v1.12.1\u001b[39m\n",
      "  \u001b[90m[62fd8b95] \u001b[39m\u001b[92m+ TensorCore v0.1.1\u001b[39m\n",
      "  \u001b[90m[a759f4b9] \u001b[39m\u001b[92m+ TimerOutputs v0.5.29\u001b[39m\n",
      "  \u001b[90m[3bb67fe8] \u001b[39m\u001b[92m+ TranscodingStreams v0.11.3\u001b[39m\n",
      "  \u001b[90m[28d57a85] \u001b[39m\u001b[92m+ Transducers v0.4.84\u001b[39m\n",
      "  \u001b[90m[5c2747f8] \u001b[39m\u001b[92m+ URIs v1.6.1\u001b[39m\n",
      "  \u001b[90m[3a884ed6] \u001b[39m\u001b[92m+ UnPack v1.0.2\u001b[39m\n",
      "  \u001b[90m[1cfade01] \u001b[39m\u001b[92m+ UnicodeFun v0.4.1\u001b[39m\n",
      "  \u001b[90m[1986cc42] \u001b[39m\u001b[92m+ Unitful v1.24.0\u001b[39m\n",
      "  \u001b[90m[45397f5d] \u001b[39m\u001b[92m+ UnitfulLatexify v1.7.0\u001b[39m\n",
      "  \u001b[90m[013be700] \u001b[39m\u001b[92m+ UnsafeAtomics v0.3.0\u001b[39m\n",
      "  \u001b[90m[41fe7b60] \u001b[39m\u001b[92m+ Unzip v0.2.0\u001b[39m\n",
      "  \u001b[90m[4119e0bf] \u001b[39m\u001b[92m+ VLQuantitativeFinancePackage v1.0.0-DEV `https://github.com/varnerlab/VLQuantitativeFinancePackage.jl.git#main`\u001b[39m\n",
      "  \u001b[90m[ea10d353] \u001b[39m\u001b[92m+ WeakRefStrings v1.4.2\u001b[39m\n",
      "  \u001b[90m[cc8bc4a8] \u001b[39m\u001b[92m+ Widgets v0.6.7\u001b[39m\n",
      "  \u001b[90m[efce3f68] \u001b[39m\u001b[92m+ WoodburyMatrices v1.0.0\u001b[39m\n",
      "  \u001b[90m[76eceee3] \u001b[39m\u001b[92m+ WorkerUtilities v1.6.1\u001b[39m\n",
      "  \u001b[90m[e88e6eb3] \u001b[39m\u001b[92m+ Zygote v0.7.10\u001b[39m\n",
      "  \u001b[90m[700de1a5] \u001b[39m\u001b[92m+ ZygoteRules v0.2.7\u001b[39m\n",
      "\u001b[33m⌅\u001b[39m \u001b[90m[68821587] \u001b[39m\u001b[92m+ Arpack_jll v3.5.1+1\u001b[39m\n",
      "  \u001b[90m[6e34b625] \u001b[39m\u001b[92m+ Bzip2_jll v1.0.9+0\u001b[39m\n",
      "  \u001b[90m[83423d85] \u001b[39m\u001b[92m+ Cairo_jll v1.18.5+0\u001b[39m\n",
      "  \u001b[90m[ee1fde0b] \u001b[39m\u001b[92m+ Dbus_jll v1.16.2+0\u001b[39m\n",
      "  \u001b[90m[2702e6a9] \u001b[39m\u001b[92m+ EpollShim_jll v0.0.20230411+1\u001b[39m\n",
      "  \u001b[90m[2e619515] \u001b[39m\u001b[92m+ Expat_jll v2.7.1+0\u001b[39m\n",
      "  \u001b[90m[b22a6f82] \u001b[39m\u001b[92m+ FFMPEG_jll v7.1.1+0\u001b[39m\n",
      "  \u001b[90m[f5851436] \u001b[39m\u001b[92m+ FFTW_jll v3.3.11+0\u001b[39m\n",
      "  \u001b[90m[a3f928ae] \u001b[39m\u001b[92m+ Fontconfig_jll v2.17.1+0\u001b[39m\n",
      "  \u001b[90m[d7e528f0] \u001b[39m\u001b[92m+ FreeType2_jll v2.13.4+0\u001b[39m\n",
      "  \u001b[90m[559328eb] \u001b[39m\u001b[92m+ FriBidi_jll v1.0.17+0\u001b[39m\n",
      "  \u001b[90m[0656b61e] \u001b[39m\u001b[92m+ GLFW_jll v3.4.0+2\u001b[39m\n",
      "  \u001b[90m[d2c73de3] \u001b[39m\u001b[92m+ GR_jll v0.73.17+0\u001b[39m\n",
      "  \u001b[90m[b0724c58] \u001b[39m\u001b[92m+ GettextRuntime_jll v0.22.4+0\u001b[39m\n",
      "  \u001b[90m[7746bdde] \u001b[39m\u001b[92m+ Glib_jll v2.84.3+0\u001b[39m\n",
      "  \u001b[90m[3b182d85] \u001b[39m\u001b[92m+ Graphite2_jll v1.3.15+0\u001b[39m\n",
      "  \u001b[90m[2e76f6c2] \u001b[39m\u001b[92m+ HarfBuzz_jll v8.5.1+0\u001b[39m\n",
      "  \u001b[90m[1d5cc7b8] \u001b[39m\u001b[92m+ IntelOpenMP_jll v2025.2.0+0\u001b[39m\n",
      "  \u001b[90m[aacddb02] \u001b[39m\u001b[92m+ JpegTurbo_jll v3.1.2+0\u001b[39m\n",
      "  \u001b[90m[c1c5ebd0] \u001b[39m\u001b[92m+ LAME_jll v3.100.3+0\u001b[39m\n",
      "  \u001b[90m[88015f11] \u001b[39m\u001b[92m+ LERC_jll v4.0.1+0\u001b[39m\n",
      "  \u001b[90m[1d63c593] \u001b[39m\u001b[92m+ LLVMOpenMP_jll v18.1.8+0\u001b[39m\n",
      "  \u001b[90m[dd4b983a] \u001b[39m\u001b[92m+ LZO_jll v2.10.3+0\u001b[39m\n",
      "  \u001b[90m[e9f186c6] \u001b[39m\u001b[92m+ Libffi_jll v3.4.7+0\u001b[39m\n",
      "  \u001b[90m[7e76a0d4] \u001b[39m\u001b[92m+ Libglvnd_jll v1.7.1+1\u001b[39m\n",
      "  \u001b[90m[94ce4f54] \u001b[39m\u001b[92m+ Libiconv_jll v1.18.0+0\u001b[39m\n",
      "  \u001b[90m[4b2f31a3] \u001b[39m\u001b[92m+ Libmount_jll v2.41.1+0\u001b[39m\n",
      "  \u001b[90m[89763e89] \u001b[39m\u001b[92m+ Libtiff_jll v4.7.1+0\u001b[39m\n",
      "  \u001b[90m[38a345b3] \u001b[39m\u001b[92m+ Libuuid_jll v2.41.1+0\u001b[39m\n",
      "  \u001b[90m[856f044c] \u001b[39m\u001b[92m+ MKL_jll v2025.2.0+0\u001b[39m\n",
      "  \u001b[90m[e7412a2a] \u001b[39m\u001b[92m+ Ogg_jll v1.3.6+0\u001b[39m\n",
      "  \u001b[90m[458c3c95] \u001b[39m\u001b[92m+ OpenSSL_jll v3.5.2+0\u001b[39m\n",
      "  \u001b[90m[efe28fd5] \u001b[39m\u001b[92m+ OpenSpecFun_jll v0.5.6+0\u001b[39m\n",
      "  \u001b[90m[91d4177d] \u001b[39m\u001b[92m+ Opus_jll v1.5.2+0\u001b[39m\n",
      "  \u001b[90m[36c8627f] \u001b[39m\u001b[92m+ Pango_jll v1.56.3+0\u001b[39m\n",
      "\u001b[33m⌅\u001b[39m \u001b[90m[30392449] \u001b[39m\u001b[92m+ Pixman_jll v0.44.2+0\u001b[39m\n",
      "  \u001b[90m[c0090381] \u001b[39m\u001b[92m+ Qt6Base_jll v6.8.2+1\u001b[39m\n",
      "  \u001b[90m[629bc702] \u001b[39m\u001b[92m+ Qt6Declarative_jll v6.8.2+1\u001b[39m\n",
      "  \u001b[90m[ce943373] \u001b[39m\u001b[92m+ Qt6ShaderTools_jll v6.8.2+1\u001b[39m\n",
      "  \u001b[90m[e99dba38] \u001b[39m\u001b[92m+ Qt6Wayland_jll v6.8.2+1\u001b[39m\n",
      "  \u001b[90m[f50d1b31] \u001b[39m\u001b[92m+ Rmath_jll v0.5.1+0\u001b[39m\n",
      "  \u001b[90m[a44049a8] \u001b[39m\u001b[92m+ Vulkan_Loader_jll v1.3.243+0\u001b[39m\n",
      "  \u001b[90m[a2964d1f] \u001b[39m\u001b[92m+ Wayland_jll v1.24.0+0\u001b[39m\n",
      "  \u001b[90m[ffd25f8a] \u001b[39m\u001b[92m+ XZ_jll v5.8.1+0\u001b[39m\n",
      "  \u001b[90m[f67eecfb] \u001b[39m\u001b[92m+ Xorg_libICE_jll v1.1.2+0\u001b[39m\n",
      "  \u001b[90m[c834827a] \u001b[39m\u001b[92m+ Xorg_libSM_jll v1.2.6+0\u001b[39m\n",
      "  \u001b[90m[4f6342f7] \u001b[39m\u001b[92m+ Xorg_libX11_jll v1.8.12+0\u001b[39m\n",
      "  \u001b[90m[0c0b7dd1] \u001b[39m\u001b[92m+ Xorg_libXau_jll v1.0.13+0\u001b[39m\n",
      "  \u001b[90m[935fb764] \u001b[39m\u001b[92m+ Xorg_libXcursor_jll v1.2.4+0\u001b[39m\n",
      "  \u001b[90m[a3789734] \u001b[39m\u001b[92m+ Xorg_libXdmcp_jll v1.1.6+0\u001b[39m\n",
      "  \u001b[90m[1082639a] \u001b[39m\u001b[92m+ Xorg_libXext_jll v1.3.7+0\u001b[39m\n",
      "  \u001b[90m[d091e8ba] \u001b[39m\u001b[92m+ Xorg_libXfixes_jll v6.0.1+0\u001b[39m\n",
      "  \u001b[90m[a51aa0fd] \u001b[39m\u001b[92m+ Xorg_libXi_jll v1.8.3+0\u001b[39m\n",
      "  \u001b[90m[d1454406] \u001b[39m\u001b[92m+ Xorg_libXinerama_jll v1.1.6+0\u001b[39m\n",
      "  \u001b[90m[ec84b674] \u001b[39m\u001b[92m+ Xorg_libXrandr_jll v1.5.5+0\u001b[39m\n",
      "  \u001b[90m[ea2f1a96] \u001b[39m\u001b[92m+ Xorg_libXrender_jll v0.9.12+0\u001b[39m\n",
      "  \u001b[90m[c7cfdc94] \u001b[39m\u001b[92m+ Xorg_libxcb_jll v1.17.1+0\u001b[39m\n",
      "  \u001b[90m[cc61e674] \u001b[39m\u001b[92m+ Xorg_libxkbfile_jll v1.1.3+0\u001b[39m\n",
      "  \u001b[90m[e920d4aa] \u001b[39m\u001b[92m+ Xorg_xcb_util_cursor_jll v0.1.5+0\u001b[39m\n",
      "  \u001b[90m[12413925] \u001b[39m\u001b[92m+ Xorg_xcb_util_image_jll v0.4.1+0\u001b[39m\n",
      "  \u001b[90m[2def613f] \u001b[39m\u001b[92m+ Xorg_xcb_util_jll v0.4.1+0\u001b[39m\n",
      "  \u001b[90m[975044d2] \u001b[39m\u001b[92m+ Xorg_xcb_util_keysyms_jll v0.4.1+0\u001b[39m\n",
      "  \u001b[90m[0d47668e] \u001b[39m\u001b[92m+ Xorg_xcb_util_renderutil_jll v0.3.10+0\u001b[39m\n",
      "  \u001b[90m[c22f9ab0] \u001b[39m\u001b[92m+ Xorg_xcb_util_wm_jll v0.4.2+0\u001b[39m\n",
      "  \u001b[90m[35661453] \u001b[39m\u001b[92m+ Xorg_xkbcomp_jll v1.4.7+0\u001b[39m\n",
      "  \u001b[90m[33bec58e] \u001b[39m\u001b[92m+ Xorg_xkeyboard_config_jll v2.44.0+0\u001b[39m\n",
      "  \u001b[90m[c5fb5394] \u001b[39m\u001b[92m+ Xorg_xtrans_jll v1.6.0+0\u001b[39m\n",
      "  \u001b[90m[3161d3a3] \u001b[39m\u001b[92m+ Zstd_jll v1.5.7+1\u001b[39m\n",
      "  \u001b[90m[35ca27e7] \u001b[39m\u001b[92m+ eudev_jll v3.2.14+0\u001b[39m\n",
      "  \u001b[90m[214eeab7] \u001b[39m\u001b[92m+ fzf_jll v0.61.1+0\u001b[39m\n",
      "  \u001b[90m[a4ae2306] \u001b[39m\u001b[92m+ libaom_jll v3.12.1+0\u001b[39m\n",
      "  \u001b[90m[0ac62f75] \u001b[39m\u001b[92m+ libass_jll v0.17.4+0\u001b[39m\n",
      "  \u001b[90m[1183f4f0] \u001b[39m\u001b[92m+ libdecor_jll v0.2.2+0\u001b[39m\n",
      "  \u001b[90m[2db6ffa8] \u001b[39m\u001b[92m+ libevdev_jll v1.13.4+0\u001b[39m\n",
      "  \u001b[90m[f638f0a6] \u001b[39m\u001b[92m+ libfdk_aac_jll v2.0.4+0\u001b[39m\n",
      "  \u001b[90m[36db933b] \u001b[39m\u001b[92m+ libinput_jll v1.28.1+0\u001b[39m\n",
      "  \u001b[90m[b53b4c65] \u001b[39m\u001b[92m+ libpng_jll v1.6.50+0\u001b[39m\n",
      "  \u001b[90m[f27f6e37] \u001b[39m\u001b[92m+ libvorbis_jll v1.3.8+0\u001b[39m\n",
      "  \u001b[90m[009596ad] \u001b[39m\u001b[92m+ mtdev_jll v1.1.7+0\u001b[39m\n",
      "  \u001b[90m[1317d2d5] \u001b[39m\u001b[92m+ oneTBB_jll v2022.0.0+0\u001b[39m\n",
      "  \u001b[90m[1270edf5] \u001b[39m\u001b[92m+ x264_jll v10164.0.1+0\u001b[39m\n",
      "  \u001b[90m[dfaa095f] \u001b[39m\u001b[92m+ x265_jll v4.1.0+0\u001b[39m\n",
      "  \u001b[90m[d8fb68d0] \u001b[39m\u001b[92m+ xkbcommon_jll v1.9.2+0\u001b[39m\n",
      "  \u001b[90m[0dad84c5] \u001b[39m\u001b[92m+ ArgTools v1.1.2\u001b[39m\n",
      "  \u001b[90m[56f22d72] \u001b[39m\u001b[92m+ Artifacts v1.11.0\u001b[39m\n",
      "  \u001b[90m[2a0f44e3] \u001b[39m\u001b[92m+ Base64 v1.11.0\u001b[39m\n",
      "  \u001b[90m[ade2ca70] \u001b[39m\u001b[92m+ Dates v1.11.0\u001b[39m\n",
      "  \u001b[90m[8ba89e20] \u001b[39m\u001b[92m+ Distributed v1.11.0\u001b[39m\n",
      "  \u001b[90m[f43a241f] \u001b[39m\u001b[92m+ Downloads v1.6.0\u001b[39m\n",
      "  \u001b[90m[7b1f6079] \u001b[39m\u001b[92m+ FileWatching v1.11.0\u001b[39m\n",
      "  \u001b[90m[9fa8497b] \u001b[39m\u001b[92m+ Future v1.11.0\u001b[39m\n",
      "  \u001b[90m[b77e0a4c] \u001b[39m\u001b[92m+ InteractiveUtils v1.11.0\u001b[39m\n",
      "  \u001b[90m[4af54fe1] \u001b[39m\u001b[92m+ LazyArtifacts v1.11.0\u001b[39m\n",
      "  \u001b[90m[b27032c2] \u001b[39m\u001b[92m+ LibCURL v0.6.4\u001b[39m\n",
      "  \u001b[90m[76f85450] \u001b[39m\u001b[92m+ LibGit2 v1.11.0\u001b[39m\n",
      "  \u001b[90m[8f399da3] \u001b[39m\u001b[92m+ Libdl v1.11.0\u001b[39m\n",
      "  \u001b[90m[37e2e46d] \u001b[39m\u001b[92m+ LinearAlgebra v1.11.0\u001b[39m\n",
      "  \u001b[90m[56ddb016] \u001b[39m\u001b[92m+ Logging v1.11.0\u001b[39m\n",
      "  \u001b[90m[d6f4376e] \u001b[39m\u001b[92m+ Markdown v1.11.0\u001b[39m\n",
      "  \u001b[90m[a63ad114] \u001b[39m\u001b[92m+ Mmap v1.11.0\u001b[39m\n",
      "  \u001b[90m[ca575930] \u001b[39m\u001b[92m+ NetworkOptions v1.2.0\u001b[39m\n",
      "  \u001b[90m[44cfe95a] \u001b[39m\u001b[92m+ Pkg v1.11.0\u001b[39m\n",
      "  \u001b[90m[de0858da] \u001b[39m\u001b[92m+ Printf v1.11.0\u001b[39m\n",
      "  \u001b[90m[9abbd945] \u001b[39m\u001b[92m+ Profile v1.11.0\u001b[39m\n",
      "  \u001b[90m[3fa0cd96] \u001b[39m\u001b[92m+ REPL v1.11.0\u001b[39m\n",
      "  \u001b[90m[9a3f8284] \u001b[39m\u001b[92m+ Random v1.11.0\u001b[39m\n",
      "  \u001b[90m[ea8e919c] \u001b[39m\u001b[92m+ SHA v0.7.0\u001b[39m\n",
      "  \u001b[90m[9e88b42a] \u001b[39m\u001b[92m+ Serialization v1.11.0\u001b[39m\n",
      "  \u001b[90m[1a1011a3] \u001b[39m\u001b[92m+ SharedArrays v1.11.0\u001b[39m\n",
      "  \u001b[90m[6462fe0b] \u001b[39m\u001b[92m+ Sockets v1.11.0\u001b[39m\n",
      "  \u001b[90m[2f01184e] \u001b[39m\u001b[92m+ SparseArrays v1.11.0\u001b[39m\n",
      "  \u001b[90m[f489334b] \u001b[39m\u001b[92m+ StyledStrings v1.11.0\u001b[39m\n",
      "  \u001b[90m[4607b0f0] \u001b[39m\u001b[92m+ SuiteSparse\u001b[39m\n",
      "  \u001b[90m[fa267f1f] \u001b[39m\u001b[92m+ TOML v1.0.3\u001b[39m\n",
      "  \u001b[90m[a4e569a6] \u001b[39m\u001b[92m+ Tar v1.10.0\u001b[39m\n",
      "  \u001b[90m[8dfed614] \u001b[39m\u001b[92m+ Test v1.11.0\u001b[39m\n",
      "  \u001b[90m[cf7118a7] \u001b[39m\u001b[92m+ UUIDs v1.11.0\u001b[39m\n",
      "  \u001b[90m[4ec0a83e] \u001b[39m\u001b[92m+ Unicode v1.11.0\u001b[39m\n",
      "  \u001b[90m[e66e0078] \u001b[39m\u001b[92m+ CompilerSupportLibraries_jll v1.1.1+0\u001b[39m\n",
      "  \u001b[90m[deac9b47] \u001b[39m\u001b[92m+ LibCURL_jll v8.6.0+0\u001b[39m\n",
      "  \u001b[90m[e37daf67] \u001b[39m\u001b[92m+ LibGit2_jll v1.7.2+0\u001b[39m\n",
      "  \u001b[90m[29816b5a] \u001b[39m\u001b[92m+ LibSSH2_jll v1.11.0+1\u001b[39m\n",
      "  \u001b[90m[c8ffd9c3] \u001b[39m\u001b[92m+ MbedTLS_jll v2.28.6+0\u001b[39m\n",
      "  \u001b[90m[14a3606d] \u001b[39m\u001b[92m+ MozillaCACerts_jll v2023.12.12\u001b[39m\n",
      "  \u001b[90m[4536629a] \u001b[39m\u001b[92m+ OpenBLAS_jll v0.3.27+1\u001b[39m\n",
      "  \u001b[90m[05823500] \u001b[39m\u001b[92m+ OpenLibm_jll v0.8.5+0\u001b[39m\n",
      "  \u001b[90m[efcefdf7] \u001b[39m\u001b[92m+ PCRE2_jll v10.42.0+1\u001b[39m\n",
      "  \u001b[90m[bea87d4a] \u001b[39m\u001b[92m+ SuiteSparse_jll v7.7.0+0\u001b[39m\n",
      "  \u001b[90m[83775a58] \u001b[39m\u001b[92m+ Zlib_jll v1.2.13+1\u001b[39m\n",
      "  \u001b[90m[8e850b90] \u001b[39m\u001b[92m+ libblastrampoline_jll v5.11.0+0\u001b[39m\n",
      "  \u001b[90m[8e850ede] \u001b[39m\u001b[92m+ nghttp2_jll v1.59.0+0\u001b[39m\n",
      "  \u001b[90m[3f19e933] \u001b[39m\u001b[92m+ p7zip_jll v17.4.0+2\u001b[39m\n",
      "\u001b[36m\u001b[1m        Info\u001b[22m\u001b[39m Packages marked with \u001b[32m⌃\u001b[39m and \u001b[33m⌅\u001b[39m have new versions available. Those with \u001b[32m⌃\u001b[39m may be upgradable, but those with \u001b[33m⌅\u001b[39m are restricted by compatibility constraints from upgrading. To see why use `status --outdated -m`\n",
      "\u001b[92m\u001b[1mPrecompiling\u001b[22m\u001b[39m project...\n",
      "  20695.4 ms\u001b[32m  ✓ \u001b[39m\u001b[90mEnzymeCore\u001b[39m\n",
      "  15529.6 ms\u001b[32m  ✓ \u001b[39m\u001b[90mArrayInterface\u001b[39m\n",
      "  15522.0 ms\u001b[32m  ✓ \u001b[39m\u001b[90mMLDataDevices\u001b[39m\n",
      "  14535.3 ms\u001b[32m  ✓ \u001b[39m\u001b[90mDifferentiationInterface → DifferentiationInterfaceStaticArraysExt\u001b[39m\n",
      "  14899.0 ms\u001b[32m  ✓ \u001b[39m\u001b[90mConstructionBase → ConstructionBaseStaticArraysExt\u001b[39m\n",
      "  14528.8 ms\u001b[32m  ✓ \u001b[39m\u001b[90mAccessors → StaticArraysExt\u001b[39m\n",
      "  14491.1 ms\u001b[32m  ✓ \u001b[39m\u001b[90mStructArrays → StructArraysStaticArraysExt\u001b[39m\n",
      "  14441.6 ms\u001b[32m  ✓ \u001b[39m\u001b[90mBangBang → BangBangStaticArraysExt\u001b[39m\n",
      "   6845.0 ms\u001b[32m  ✓ \u001b[39m\u001b[90mBangBang → BangBangDataFramesExt\u001b[39m\n",
      "  11977.7 ms\u001b[32m  ✓ \u001b[39m\u001b[90mTransducers → TransducersDataFramesExt\u001b[39m\n",
      "   8042.5 ms\u001b[32m  ✓ \u001b[39m\u001b[90mKernelAbstractions\u001b[39m\n",
      "\u001b[33m\u001b[1m┌ \u001b[22m\u001b[39m\u001b[33m\u001b[1mWarning: \u001b[22m\u001b[39mattempting to remove probably stale pidfile\n",
      "\u001b[33m\u001b[1m│ \u001b[22m\u001b[39m  path = \"C:\\\\Users\\\\User\\\\.julia\\\\compiled\\\\v1.11\\\\Zygote\\\\4kbLI_RyqJC.ji.pidfile\"\n",
      "\u001b[33m\u001b[1m└ \u001b[22m\u001b[39m\u001b[90m@ FileWatching.Pidfile C:\\Users\\User\\.julia\\juliaup\\julia-1.11.6+0.x64.w64.mingw32\\share\\julia\\stdlib\\v1.11\\FileWatching\\src\\pidfile.jl:249\u001b[39m\n",
      "\u001b[33m\u001b[1m┌ \u001b[22m\u001b[39m\u001b[33m\u001b[1mWarning: \u001b[22m\u001b[39mattempting to remove probably stale pidfile\n",
      "\u001b[33m\u001b[1m│ \u001b[22m\u001b[39m  path = \"C:\\\\Users\\\\User\\\\.julia\\\\compiled\\\\v1.11\\\\MathOptInterface\\\\tyub8_RyqJC.ji.pidfile\"\n",
      "\u001b[33m\u001b[1m└ \u001b[22m\u001b[39m\u001b[90m@ FileWatching.Pidfile C:\\Users\\User\\.julia\\juliaup\\julia-1.11.6+0.x64.w64.mingw32\\share\\julia\\stdlib\\v1.11\\FileWatching\\src\\pidfile.jl:249\u001b[39m\n",
      "   1057.3 ms\u001b[32m  ✓ \u001b[39m\u001b[90mADTypes → ADTypesEnzymeCoreExt\u001b[39m\n",
      "   1074.1 ms\u001b[32m  ✓ \u001b[39m\u001b[90mEnzymeCore → AdaptExt\u001b[39m\n",
      "   1020.4 ms\u001b[32m  ✓ \u001b[39m\u001b[90mArrayInterface → ArrayInterfaceGPUArraysCoreExt\u001b[39m\n",
      "    979.6 ms\u001b[32m  ✓ \u001b[39m\u001b[90mArrayInterface → ArrayInterfaceStaticArraysCoreExt\u001b[39m\n",
      "   1353.0 ms\u001b[32m  ✓ \u001b[39m\u001b[90mArrayInterface → ArrayInterfaceChainRulesCoreExt\u001b[39m\n",
      "   1406.5 ms\u001b[32m  ✓ \u001b[39m\u001b[90mOptimisers → OptimisersEnzymeCoreExt\u001b[39m\n",
      "   1792.2 ms\u001b[32m  ✓ \u001b[39m\u001b[90mForwardDiff → ForwardDiffStaticArraysExt\u001b[39m\n",
      "   1916.0 ms\u001b[32m  ✓ \u001b[39m\u001b[90mArrayInterface → ArrayInterfaceSparseArraysExt\u001b[39m\n",
      "    963.8 ms\u001b[32m  ✓ \u001b[39m\u001b[90mMLDataDevices → MLDataDevicesFillArraysExt\u001b[39m\n",
      "   1312.5 ms\u001b[32m  ✓ \u001b[39m\u001b[90mMLDataDevices → MLDataDevicesChainRulesCoreExt\u001b[39m\n",
      "   1215.6 ms\u001b[32m  ✓ \u001b[39m\u001b[90mMLDataDevices → MLDataDevicesSparseArraysExt\u001b[39m\n",
      "   4536.1 ms\u001b[32m  ✓ \u001b[39mJLD2 → UnPackExt\n",
      "   1520.4 ms\u001b[32m  ✓ \u001b[39m\u001b[90mArrayInterface → ArrayInterfaceChainRulesExt\u001b[39m\n",
      "   1587.9 ms\u001b[32m  ✓ \u001b[39m\u001b[90mMLDataDevices → MLDataDevicesChainRulesExt\u001b[39m\n",
      "   1781.5 ms\u001b[32m  ✓ \u001b[39m\u001b[90mKernelAbstractions → SparseArraysExt\u001b[39m\n",
      "   1451.1 ms\u001b[32m  ✓ \u001b[39m\u001b[90mKernelAbstractions → LinearAlgebraExt\u001b[39m\n",
      "   1800.4 ms\u001b[32m  ✓ \u001b[39m\u001b[90mFiniteDiff\u001b[39m\n",
      "   2278.8 ms\u001b[32m  ✓ \u001b[39m\u001b[90mKernelAbstractions → EnzymeExt\u001b[39m\n",
      "   2149.2 ms\u001b[32m  ✓ \u001b[39m\u001b[90mStructArrays → StructArraysGPUArraysCoreExt\u001b[39m\n",
      "    784.3 ms\u001b[32m  ✓ \u001b[39m\u001b[90mFiniteDiff → FiniteDiffSparseArraysExt\u001b[39m\n",
      "    759.9 ms\u001b[32m  ✓ \u001b[39m\u001b[90mDifferentiationInterface → DifferentiationInterfaceFiniteDiffExt\u001b[39m\n",
      "   1154.6 ms\u001b[32m  ✓ \u001b[39m\u001b[90mFiniteDiff → FiniteDiffStaticArraysExt\u001b[39m\n",
      "   1173.2 ms\u001b[32m  ✓ \u001b[39m\u001b[90mNLSolversBase\u001b[39m\n",
      "   2012.2 ms\u001b[32m  ✓ \u001b[39mLsqFit\n",
      "   2200.4 ms\u001b[32m  ✓ \u001b[39m\u001b[90mLineSearches\u001b[39m\n",
      "   6140.5 ms\u001b[32m  ✓ \u001b[39m\u001b[90mNNlib\u001b[39m\n",
      "   2391.0 ms\u001b[32m  ✓ \u001b[39m\u001b[90mNNlib → NNlibForwardDiffExt\u001b[39m\n",
      "   2511.3 ms\u001b[32m  ✓ \u001b[39m\u001b[90mNNlib → NNlibSpecialFunctionsExt\u001b[39m\n",
      "   2567.5 ms\u001b[32m  ✓ \u001b[39m\u001b[90mNNlib → NNlibEnzymeCoreExt\u001b[39m\n",
      "   2312.4 ms\u001b[32m  ✓ \u001b[39mOneHotArrays\n",
      "   2944.6 ms\u001b[32m  ✓ \u001b[39m\u001b[90mNNlib → NNlibFFTWExt\u001b[39m\n",
      "   4050.6 ms\u001b[32m  ✓ \u001b[39m\u001b[90mOptim\u001b[39m\n",
      "   1547.5 ms\u001b[32m  ✓ \u001b[39m\u001b[90mMLDataDevices → MLDataDevicesOneHotArraysExt\u001b[39m\n",
      "   9691.7 ms\u001b[32m  ✓ \u001b[39m\u001b[90mMLUtils\u001b[39m\n",
      "   2781.9 ms\u001b[32m  ✓ \u001b[39m\u001b[90mMLDataDevices → MLDataDevicesMLUtilsExt\u001b[39m\n",
      "  59458.2 ms\u001b[32m  ✓ \u001b[39m\u001b[90mZygote\u001b[39m\n",
      "   2127.7 ms\u001b[32m  ✓ \u001b[39m\u001b[90mDifferentiationInterface → DifferentiationInterfaceZygoteExt\u001b[39m\n",
      "   2113.8 ms\u001b[32m  ✓ \u001b[39m\u001b[90mMLDataDevices → MLDataDevicesZygoteExt\u001b[39m\n",
      "   2318.2 ms\u001b[32m  ✓ \u001b[39m\u001b[90mZygote → ZygoteColorsExt\u001b[39m\n",
      "   2939.2 ms\u001b[32m  ✓ \u001b[39m\u001b[90mZygote → ZygoteDistancesExt\u001b[39m\n",
      "   9728.0 ms\u001b[32m  ✓ \u001b[39mFlux\n",
      "  84641.4 ms\u001b[32m  ✓ \u001b[39mMathOptInterface\n",
      "   2831.6 ms\u001b[32m  ✓ \u001b[39m\u001b[90mOptim → OptimMOIExt\u001b[39m\n",
      "   5509.6 ms\u001b[32m  ✓ \u001b[39m\u001b[90mMadNLP\u001b[39m\n",
      "  31091.6 ms\u001b[32m  ✓ \u001b[39m\u001b[90mJuMP\u001b[39m\n",
      "   7775.1 ms\u001b[32m  ✓ \u001b[39mVLQuantitativeFinancePackage\n",
      "  57 dependencies successfully precompiled in 183 seconds. 353 already precompiled.\n",
      "\u001b[32m\u001b[1m  Activating\u001b[22m\u001b[39m project at `C:\\Users\\User\\Documents\\GitHub\\CHEME-5660-CourseRepository-Fall-2025\\lectures\\week-2\\L2b`\n",
      "\u001b[32m\u001b[1m  No Changes\u001b[22m\u001b[39m to `C:\\Users\\User\\Documents\\GitHub\\CHEME-5660-CourseRepository-Fall-2025\\lectures\\week-2\\L2b\\Project.toml`\n",
      "\u001b[32m\u001b[1m  No Changes\u001b[22m\u001b[39m to `C:\\Users\\User\\Documents\\GitHub\\CHEME-5660-CourseRepository-Fall-2025\\lectures\\week-2\\L2b\\Manifest.toml`\n",
      "\u001b[32m\u001b[1m    Updating\u001b[22m\u001b[39m registry at `C:\\Users\\User\\.julia\\registries\\General.toml`\n",
      "\u001b[32m\u001b[1m    Updating\u001b[22m\u001b[39m git-repo `https://github.com/varnerlab/VLQuantitativeFinancePackage.jl.git`\n",
      "\u001b[32m\u001b[1m  No Changes\u001b[22m\u001b[39m to `C:\\Users\\User\\Documents\\GitHub\\CHEME-5660-CourseRepository-Fall-2025\\lectures\\week-2\\L2b\\Project.toml`\n",
      "\u001b[32m\u001b[1m  No Changes\u001b[22m\u001b[39m to `C:\\Users\\User\\Documents\\GitHub\\CHEME-5660-CourseRepository-Fall-2025\\lectures\\week-2\\L2b\\Manifest.toml`\n",
      "\u001b[36m\u001b[1m        Info\u001b[22m\u001b[39m We haven't cleaned this depot up for a bit, running Pkg.gc()...\n",
      "\u001b[32m\u001b[1m      Active\u001b[22m\u001b[39m manifest files: 7 found\n",
      "\u001b[32m\u001b[1m      Active\u001b[22m\u001b[39m artifact files: 85 found\n",
      "\u001b[32m\u001b[1m      Active\u001b[22m\u001b[39m scratchspaces: 2 found\n",
      "\u001b[32m\u001b[1m     Deleted\u001b[22m\u001b[39m no artifacts, repos, packages or scratchspaces\n"
     ]
    }
   ],
   "source": [
    "include(\"Include.jl\");"
   ]
  },
  {
   "cell_type": "markdown",
   "id": "0493eec2-adcf-409a-b7db-2e37c3cb6366",
   "metadata": {},
   "source": [
    "##  Prerequisite: Load the Treasury Auction Dataset\n",
    "We'll explore `T-bill` prices from United States Treasury auctions between April 2023 and January 2024 downloaded as a `CSV` file using the [Auction query functionality of TreasuryDirect.gov](https://www.treasurydirect.gov/auctions/auction-query/). We load the `CSV` dataset using the `MyTreasuryBillDataSet()` function, which returns the auction data [as a `DataFrame`](https://dataframes.juliadata.org/stable/):"
   ]
  },
  {
   "cell_type": "code",
   "execution_count": 2,
   "id": "f9d9ec70-85a2-4964-bd0e-833ff9b2ddd7",
   "metadata": {
    "tags": []
   },
   "outputs": [
    {
     "data": {
      "text/html": [
       "<div><div style = \"float: left;\"><span>96×8 DataFrame</span></div><div style = \"float: right;\"><span style = \"font-style: italic;\">71 rows omitted</span></div><div style = \"clear: both;\"></div></div><div class = \"data-frame\" style = \"overflow-x: scroll;\"><table class = \"data-frame\" style = \"margin-bottom: 6px;\"><thead><tr class = \"header\"><th class = \"rowNumber\" style = \"font-weight: bold; text-align: right;\">Row</th><th style = \"text-align: left;\">CUSIP</th><th style = \"text-align: left;\">Security Type</th><th style = \"text-align: left;\">Security Term</th><th style = \"text-align: left;\">Auction Date</th><th style = \"text-align: left;\">Issue Date</th><th style = \"text-align: left;\">Maturity Date</th><th style = \"text-align: left;\">Price</th><th style = \"text-align: left;\">Investment Rate</th></tr><tr class = \"subheader headerLastRow\"><th class = \"rowNumber\" style = \"font-weight: bold; text-align: right;\"></th><th title = \"String15\" style = \"text-align: left;\">String15</th><th title = \"String7\" style = \"text-align: left;\">String7</th><th title = \"String7\" style = \"text-align: left;\">String7</th><th title = \"String15\" style = \"text-align: left;\">String15</th><th title = \"String15\" style = \"text-align: left;\">String15</th><th title = \"String15\" style = \"text-align: left;\">String15</th><th title = \"Float64\" style = \"text-align: left;\">Float64</th><th title = \"Float64\" style = \"text-align: left;\">Float64</th></tr></thead><tbody><tr><td class = \"rowNumber\" style = \"font-weight: bold; text-align: right;\">1</td><td style = \"text-align: left;\">912797GV3</td><td style = \"text-align: left;\">Bill</td><td style = \"text-align: left;\">4-Week</td><td style = \"text-align: left;\">08/31/2023</td><td style = \"text-align: left;\">09/05/2023</td><td style = \"text-align: left;\">10/03/2023</td><td style = \"text-align: right;\">99.5893</td><td style = \"text-align: right;\">0.0539</td></tr><tr><td class = \"rowNumber\" style = \"font-weight: bold; text-align: right;\">2</td><td style = \"text-align: left;\">912797HD2</td><td style = \"text-align: left;\">Bill</td><td style = \"text-align: left;\">8-Week</td><td style = \"text-align: left;\">08/31/2023</td><td style = \"text-align: left;\">09/05/2023</td><td style = \"text-align: left;\">10/31/2023</td><td style = \"text-align: right;\">99.1771</td><td style = \"text-align: right;\">0.05423</td></tr><tr><td class = \"rowNumber\" style = \"font-weight: bold; text-align: right;\">3</td><td style = \"text-align: left;\">912797HX8</td><td style = \"text-align: left;\">Bill</td><td style = \"text-align: left;\">17-Week</td><td style = \"text-align: left;\">08/30/2023</td><td style = \"text-align: left;\">09/05/2023</td><td style = \"text-align: left;\">01/02/2024</td><td style = \"text-align: right;\">98.2381</td><td style = \"text-align: right;\">0.05516</td></tr><tr><td class = \"rowNumber\" style = \"font-weight: bold; text-align: right;\">4</td><td style = \"text-align: left;\">912797FA0</td><td style = \"text-align: left;\">Bill</td><td style = \"text-align: left;\">42-Day</td><td style = \"text-align: left;\">08/29/2023</td><td style = \"text-align: left;\">08/31/2023</td><td style = \"text-align: left;\">10/12/2023</td><td style = \"text-align: right;\">99.3828</td><td style = \"text-align: right;\">0.05412</td></tr><tr><td class = \"rowNumber\" style = \"font-weight: bold; text-align: right;\">5</td><td style = \"text-align: left;\">912796ZD4</td><td style = \"text-align: left;\">Bill</td><td style = \"text-align: left;\">13-Week</td><td style = \"text-align: left;\">08/28/2023</td><td style = \"text-align: left;\">08/31/2023</td><td style = \"text-align: left;\">11/30/2023</td><td style = \"text-align: right;\">98.6502</td><td style = \"text-align: right;\">0.05503</td></tr><tr><td class = \"rowNumber\" style = \"font-weight: bold; text-align: right;\">6</td><td style = \"text-align: left;\">912797GP6</td><td style = \"text-align: left;\">Bill</td><td style = \"text-align: left;\">26-Week</td><td style = \"text-align: left;\">08/28/2023</td><td style = \"text-align: left;\">08/31/2023</td><td style = \"text-align: left;\">02/29/2024</td><td style = \"text-align: right;\">97.2953</td><td style = \"text-align: right;\">0.0559</td></tr><tr><td class = \"rowNumber\" style = \"font-weight: bold; text-align: right;\">7</td><td style = \"text-align: left;\">912797GU5</td><td style = \"text-align: left;\">Bill</td><td style = \"text-align: left;\">4-Week</td><td style = \"text-align: left;\">08/24/2023</td><td style = \"text-align: left;\">08/29/2023</td><td style = \"text-align: left;\">09/26/2023</td><td style = \"text-align: right;\">99.5889</td><td style = \"text-align: right;\">0.05395</td></tr><tr><td class = \"rowNumber\" style = \"font-weight: bold; text-align: right;\">8</td><td style = \"text-align: left;\">912797HC4</td><td style = \"text-align: left;\">Bill</td><td style = \"text-align: left;\">8-Week</td><td style = \"text-align: left;\">08/24/2023</td><td style = \"text-align: left;\">08/29/2023</td><td style = \"text-align: left;\">10/24/2023</td><td style = \"text-align: right;\">99.1771</td><td style = \"text-align: right;\">0.05423</td></tr><tr><td class = \"rowNumber\" style = \"font-weight: bold; text-align: right;\">9</td><td style = \"text-align: left;\">912797HW0</td><td style = \"text-align: left;\">Bill</td><td style = \"text-align: left;\">17-Week</td><td style = \"text-align: left;\">08/23/2023</td><td style = \"text-align: left;\">08/29/2023</td><td style = \"text-align: left;\">12/26/2023</td><td style = \"text-align: right;\">98.2431</td><td style = \"text-align: right;\">0.055</td></tr><tr><td class = \"rowNumber\" style = \"font-weight: bold; text-align: right;\">10</td><td style = \"text-align: left;\">912796YJ2</td><td style = \"text-align: left;\">Bill</td><td style = \"text-align: left;\">42-Day</td><td style = \"text-align: left;\">08/22/2023</td><td style = \"text-align: left;\">08/24/2023</td><td style = \"text-align: left;\">10/05/2023</td><td style = \"text-align: right;\">99.384</td><td style = \"text-align: right;\">0.05401</td></tr><tr><td class = \"rowNumber\" style = \"font-weight: bold; text-align: right;\">11</td><td style = \"text-align: left;\">912797FL6</td><td style = \"text-align: left;\">Bill</td><td style = \"text-align: left;\">13-Week</td><td style = \"text-align: left;\">08/21/2023</td><td style = \"text-align: left;\">08/24/2023</td><td style = \"text-align: left;\">11/24/2023</td><td style = \"text-align: right;\">98.6456</td><td style = \"text-align: right;\">0.05462</td></tr><tr><td class = \"rowNumber\" style = \"font-weight: bold; text-align: right;\">12</td><td style = \"text-align: left;\">912796Z28</td><td style = \"text-align: left;\">Bill</td><td style = \"text-align: left;\">26-Week</td><td style = \"text-align: left;\">08/21/2023</td><td style = \"text-align: left;\">08/24/2023</td><td style = \"text-align: left;\">02/22/2024</td><td style = \"text-align: right;\">97.3231</td><td style = \"text-align: right;\">0.05531</td></tr><tr><td class = \"rowNumber\" style = \"font-weight: bold; text-align: right;\">13</td><td style = \"text-align: left;\">912797GJ0</td><td style = \"text-align: left;\">Bill</td><td style = \"text-align: left;\">7-Day</td><td style = \"text-align: left;\">08/17/2023</td><td style = \"text-align: left;\">08/22/2023</td><td style = \"text-align: left;\">08/29/2023</td><td style = \"text-align: right;\">99.8985</td><td style = \"text-align: right;\">0.05312</td></tr><tr><td style = \"text-align: right;\">&vellip;</td><td style = \"text-align: right;\">&vellip;</td><td style = \"text-align: right;\">&vellip;</td><td style = \"text-align: right;\">&vellip;</td><td style = \"text-align: right;\">&vellip;</td><td style = \"text-align: right;\">&vellip;</td><td style = \"text-align: right;\">&vellip;</td><td style = \"text-align: right;\">&vellip;</td><td style = \"text-align: right;\">&vellip;</td></tr><tr><td class = \"rowNumber\" style = \"font-weight: bold; text-align: right;\">85</td><td style = \"text-align: left;\">912797FR3</td><td style = \"text-align: left;\">Bill</td><td style = \"text-align: left;\">4-Week</td><td style = \"text-align: left;\">06/01/2023</td><td style = \"text-align: left;\">06/06/2023</td><td style = \"text-align: left;\">07/05/2023</td><td style = \"text-align: right;\">99.5867</td><td style = \"text-align: right;\">0.05237</td></tr><tr><td class = \"rowNumber\" style = \"font-weight: bold; text-align: right;\">86</td><td style = \"text-align: left;\">912797GA9</td><td style = \"text-align: left;\">Bill</td><td style = \"text-align: left;\">8-Week</td><td style = \"text-align: left;\">06/01/2023</td><td style = \"text-align: left;\">06/06/2023</td><td style = \"text-align: left;\">08/01/2023</td><td style = \"text-align: right;\">99.188</td><td style = \"text-align: right;\">0.0535</td></tr><tr><td class = \"rowNumber\" style = \"font-weight: bold; text-align: right;\">87</td><td style = \"text-align: left;\">912797MF1</td><td style = \"text-align: left;\">Bill</td><td style = \"text-align: left;\">3-Day</td><td style = \"text-align: left;\">06/01/2023</td><td style = \"text-align: left;\">06/02/2023</td><td style = \"text-align: left;\">06/05/2023</td><td style = \"text-align: right;\">99.9488</td><td style = \"text-align: right;\">0.06256</td></tr><tr><td class = \"rowNumber\" style = \"font-weight: bold; text-align: right;\">88</td><td style = \"text-align: left;\">912797GV3</td><td style = \"text-align: left;\">Bill</td><td style = \"text-align: left;\">17-Week</td><td style = \"text-align: left;\">05/31/2023</td><td style = \"text-align: left;\">06/06/2023</td><td style = \"text-align: left;\">10/03/2023</td><td style = \"text-align: right;\">98.2398</td><td style = \"text-align: right;\">0.05511</td></tr><tr><td class = \"rowNumber\" style = \"font-weight: bold; text-align: right;\">89</td><td style = \"text-align: left;\">912796Z51</td><td style = \"text-align: left;\">Bill</td><td style = \"text-align: left;\">13-Week</td><td style = \"text-align: left;\">05/30/2023</td><td style = \"text-align: left;\">06/01/2023</td><td style = \"text-align: left;\">08/31/2023</td><td style = \"text-align: right;\">98.6603</td><td style = \"text-align: right;\">0.05462</td></tr><tr><td class = \"rowNumber\" style = \"font-weight: bold; text-align: right;\">90</td><td style = \"text-align: left;\">912797FJ1</td><td style = \"text-align: left;\">Bill</td><td style = \"text-align: left;\">161-Day</td><td style = \"text-align: left;\">05/30/2023</td><td style = \"text-align: left;\">06/01/2023</td><td style = \"text-align: left;\">11/09/2023</td><td style = \"text-align: right;\">97.6118</td><td style = \"text-align: right;\">0.05562</td></tr><tr><td class = \"rowNumber\" style = \"font-weight: bold; text-align: right;\">91</td><td style = \"text-align: left;\">912796ZD4</td><td style = \"text-align: left;\">Bill</td><td style = \"text-align: left;\">26-Week</td><td style = \"text-align: left;\">05/30/2023</td><td style = \"text-align: left;\">06/01/2023</td><td style = \"text-align: left;\">11/30/2023</td><td style = \"text-align: right;\">97.3256</td><td style = \"text-align: right;\">0.05526</td></tr><tr><td class = \"rowNumber\" style = \"font-weight: bold; text-align: right;\">92</td><td style = \"text-align: left;\">912797FQ5</td><td style = \"text-align: left;\">Bill</td><td style = \"text-align: left;\">4-Week</td><td style = \"text-align: left;\">05/25/2023</td><td style = \"text-align: left;\">05/30/2023</td><td style = \"text-align: left;\">06/27/2023</td><td style = \"text-align: right;\">99.5528</td><td style = \"text-align: right;\">0.05872</td></tr><tr><td class = \"rowNumber\" style = \"font-weight: bold; text-align: right;\">93</td><td style = \"text-align: left;\">912797FZ5</td><td style = \"text-align: left;\">Bill</td><td style = \"text-align: left;\">8-Week</td><td style = \"text-align: left;\">05/25/2023</td><td style = \"text-align: left;\">05/30/2023</td><td style = \"text-align: left;\">07/25/2023</td><td style = \"text-align: right;\">99.1678</td><td style = \"text-align: right;\">0.05485</td></tr><tr><td class = \"rowNumber\" style = \"font-weight: bold; text-align: right;\">94</td><td style = \"text-align: left;\">912797GU5</td><td style = \"text-align: left;\">Bill</td><td style = \"text-align: left;\">17-Week</td><td style = \"text-align: left;\">05/24/2023</td><td style = \"text-align: left;\">05/30/2023</td><td style = \"text-align: left;\">09/26/2023</td><td style = \"text-align: right;\">98.2613</td><td style = \"text-align: right;\">0.05442</td></tr><tr><td class = \"rowNumber\" style = \"font-weight: bold; text-align: right;\">95</td><td style = \"text-align: left;\">912796X53</td><td style = \"text-align: left;\">Bill</td><td style = \"text-align: left;\">21-Day</td><td style = \"text-align: left;\">05/23/2023</td><td style = \"text-align: left;\">05/25/2023</td><td style = \"text-align: left;\">06/15/2023</td><td style = \"text-align: right;\">99.6383</td><td style = \"text-align: right;\">0.06326</td></tr><tr><td class = \"rowNumber\" style = \"font-weight: bold; text-align: right;\">96</td><td style = \"text-align: left;\">912796Z44</td><td style = \"text-align: left;\">Bill</td><td style = \"text-align: left;\">13-Week</td><td style = \"text-align: left;\">05/22/2023</td><td style = \"text-align: left;\">05/25/2023</td><td style = \"text-align: left;\">08/24/2023</td><td style = \"text-align: right;\">98.6729</td><td style = \"text-align: right;\">0.05409</td></tr></tbody></table></div>"
      ],
      "text/latex": [
       "\\begin{tabular}{r|ccccccc}\n",
       "\t& CUSIP & Security Type & Security Term & Auction Date & Issue Date & Maturity Date & \\\\\n",
       "\t\\hline\n",
       "\t& String15 & String7 & String7 & String15 & String15 & String15 & \\\\\n",
       "\t\\hline\n",
       "\t1 & 912797GV3 & Bill & 4-Week & 08/31/2023 & 09/05/2023 & 10/03/2023 & $\\dots$ \\\\\n",
       "\t2 & 912797HD2 & Bill & 8-Week & 08/31/2023 & 09/05/2023 & 10/31/2023 & $\\dots$ \\\\\n",
       "\t3 & 912797HX8 & Bill & 17-Week & 08/30/2023 & 09/05/2023 & 01/02/2024 & $\\dots$ \\\\\n",
       "\t4 & 912797FA0 & Bill & 42-Day & 08/29/2023 & 08/31/2023 & 10/12/2023 & $\\dots$ \\\\\n",
       "\t5 & 912796ZD4 & Bill & 13-Week & 08/28/2023 & 08/31/2023 & 11/30/2023 & $\\dots$ \\\\\n",
       "\t6 & 912797GP6 & Bill & 26-Week & 08/28/2023 & 08/31/2023 & 02/29/2024 & $\\dots$ \\\\\n",
       "\t7 & 912797GU5 & Bill & 4-Week & 08/24/2023 & 08/29/2023 & 09/26/2023 & $\\dots$ \\\\\n",
       "\t8 & 912797HC4 & Bill & 8-Week & 08/24/2023 & 08/29/2023 & 10/24/2023 & $\\dots$ \\\\\n",
       "\t9 & 912797HW0 & Bill & 17-Week & 08/23/2023 & 08/29/2023 & 12/26/2023 & $\\dots$ \\\\\n",
       "\t10 & 912796YJ2 & Bill & 42-Day & 08/22/2023 & 08/24/2023 & 10/05/2023 & $\\dots$ \\\\\n",
       "\t11 & 912797FL6 & Bill & 13-Week & 08/21/2023 & 08/24/2023 & 11/24/2023 & $\\dots$ \\\\\n",
       "\t12 & 912796Z28 & Bill & 26-Week & 08/21/2023 & 08/24/2023 & 02/22/2024 & $\\dots$ \\\\\n",
       "\t13 & 912797GJ0 & Bill & 7-Day & 08/17/2023 & 08/22/2023 & 08/29/2023 & $\\dots$ \\\\\n",
       "\t14 & 912797GT8 & Bill & 4-Week & 08/17/2023 & 08/22/2023 & 09/19/2023 & $\\dots$ \\\\\n",
       "\t15 & 912797HB6 & Bill & 8-Week & 08/17/2023 & 08/22/2023 & 10/17/2023 & $\\dots$ \\\\\n",
       "\t16 & 912797HV2 & Bill & 17-Week & 08/16/2023 & 08/22/2023 & 12/19/2023 & $\\dots$ \\\\\n",
       "\t17 & 912796CS6 & Bill & 42-Day & 08/15/2023 & 08/17/2023 & 09/28/2023 & $\\dots$ \\\\\n",
       "\t18 & 912797FK8 & Bill & 13-Week & 08/14/2023 & 08/17/2023 & 11/16/2023 & $\\dots$ \\\\\n",
       "\t19 & 912797GN1 & Bill & 26-Week & 08/14/2023 & 08/17/2023 & 02/15/2024 & $\\dots$ \\\\\n",
       "\t20 & 912797GS0 & Bill & 4-Week & 08/10/2023 & 08/15/2023 & 09/12/2023 & $\\dots$ \\\\\n",
       "\t21 & 912797HA8 & Bill & 8-Week & 08/10/2023 & 08/15/2023 & 10/10/2023 & $\\dots$ \\\\\n",
       "\t22 & 912797HU4 & Bill & 17-Week & 08/09/2023 & 08/15/2023 & 12/12/2023 & $\\dots$ \\\\\n",
       "\t23 & 912796CR8 & Bill & 42-Day & 08/08/2023 & 08/10/2023 & 09/21/2023 & $\\dots$ \\\\\n",
       "\t24 & 912797GK7 & Bill & 52-Week & 08/08/2023 & 08/10/2023 & 08/08/2024 & $\\dots$ \\\\\n",
       "\t25 & 912797FJ1 & Bill & 13-Week & 08/07/2023 & 08/10/2023 & 11/09/2023 & $\\dots$ \\\\\n",
       "\t26 & 912797GM3 & Bill & 26-Week & 08/07/2023 & 08/10/2023 & 02/08/2024 & $\\dots$ \\\\\n",
       "\t27 & 912797GR2 & Bill & 4-Week & 08/03/2023 & 08/08/2023 & 09/05/2023 & $\\dots$ \\\\\n",
       "\t28 & 912797GV3 & Bill & 8-Week & 08/03/2023 & 08/08/2023 & 10/03/2023 & $\\dots$ \\\\\n",
       "\t29 & 912797HN0 & Bill & 17-Week & 08/02/2023 & 08/08/2023 & 12/05/2023 & $\\dots$ \\\\\n",
       "\t30 & 912796CQ0 & Bill & 42-Day & 08/01/2023 & 08/03/2023 & 09/14/2023 & $\\dots$ \\\\\n",
       "\t$\\dots$ & $\\dots$ & $\\dots$ & $\\dots$ & $\\dots$ & $\\dots$ & $\\dots$ &  \\\\\n",
       "\\end{tabular}\n"
      ],
      "text/plain": [
       "\u001b[1m96×8 DataFrame\u001b[0m\n",
       "\u001b[1m Row \u001b[0m│\u001b[1m CUSIP     \u001b[0m\u001b[1m Security Type \u001b[0m\u001b[1m Security Term \u001b[0m\u001b[1m Auction Date \u001b[0m\u001b[1m Issue Date \u001b[0m\u001b[1m Matu\u001b[0m ⋯\n",
       "     │\u001b[90m String15  \u001b[0m\u001b[90m String7       \u001b[0m\u001b[90m String7       \u001b[0m\u001b[90m String15     \u001b[0m\u001b[90m String15   \u001b[0m\u001b[90m Stri\u001b[0m ⋯\n",
       "─────┼──────────────────────────────────────────────────────────────────────────\n",
       "   1 │ 912797GV3  Bill           4-Week         08/31/2023    09/05/2023  10/0 ⋯\n",
       "   2 │ 912797HD2  Bill           8-Week         08/31/2023    09/05/2023  10/3\n",
       "   3 │ 912797HX8  Bill           17-Week        08/30/2023    09/05/2023  01/0\n",
       "   4 │ 912797FA0  Bill           42-Day         08/29/2023    08/31/2023  10/1\n",
       "   5 │ 912796ZD4  Bill           13-Week        08/28/2023    08/31/2023  11/3 ⋯\n",
       "   6 │ 912797GP6  Bill           26-Week        08/28/2023    08/31/2023  02/2\n",
       "   7 │ 912797GU5  Bill           4-Week         08/24/2023    08/29/2023  09/2\n",
       "   8 │ 912797HC4  Bill           8-Week         08/24/2023    08/29/2023  10/2\n",
       "   9 │ 912797HW0  Bill           17-Week        08/23/2023    08/29/2023  12/2 ⋯\n",
       "  10 │ 912796YJ2  Bill           42-Day         08/22/2023    08/24/2023  10/0\n",
       "  11 │ 912797FL6  Bill           13-Week        08/21/2023    08/24/2023  11/2\n",
       "  ⋮  │     ⋮            ⋮              ⋮             ⋮            ⋮            ⋱\n",
       "  87 │ 912797MF1  Bill           3-Day          06/01/2023    06/02/2023  06/0\n",
       "  88 │ 912797GV3  Bill           17-Week        05/31/2023    06/06/2023  10/0 ⋯\n",
       "  89 │ 912796Z51  Bill           13-Week        05/30/2023    06/01/2023  08/3\n",
       "  90 │ 912797FJ1  Bill           161-Day        05/30/2023    06/01/2023  11/0\n",
       "  91 │ 912796ZD4  Bill           26-Week        05/30/2023    06/01/2023  11/3\n",
       "  92 │ 912797FQ5  Bill           4-Week         05/25/2023    05/30/2023  06/2 ⋯\n",
       "  93 │ 912797FZ5  Bill           8-Week         05/25/2023    05/30/2023  07/2\n",
       "  94 │ 912797GU5  Bill           17-Week        05/24/2023    05/30/2023  09/2\n",
       "  95 │ 912796X53  Bill           21-Day         05/23/2023    05/25/2023  06/1\n",
       "  96 │ 912796Z44  Bill           13-Week        05/22/2023    05/25/2023  08/2 ⋯\n",
       "\u001b[36m                                                   3 columns and 75 rows omitted\u001b[0m"
      ]
     },
     "execution_count": 2,
     "metadata": {},
     "output_type": "execute_result"
    }
   ],
   "source": [
    "dataset = MyTreasuryBillDataSet()"
   ]
  },
  {
   "cell_type": "markdown",
   "id": "b7cd5e10-08ea-47dd-979d-83c0bc9848b5",
   "metadata": {},
   "source": [
    "Next, let's set the dimension of our auction dataset in the `number_of_bills` variable:"
   ]
  },
  {
   "cell_type": "code",
   "execution_count": 3,
   "id": "bf8a103a-6c31-426c-b338-940d141c1651",
   "metadata": {
    "tags": []
   },
   "outputs": [],
   "source": [
    "number_of_bills = nrow(dataset);"
   ]
  },
  {
   "cell_type": "markdown",
   "id": "f91735d9-bef7-4ae5-853e-1365196ea545",
   "metadata": {},
   "source": [
    "## Objective 1: Compute and Verify the Price of a Random Treasury Bill\n",
    "Before we do any sensitivity calculations, let's double-check our Treasury pricing implementation.\n",
    "We begin computing the price of a random T-bill selected from the `dataset` by building a discounting model, in this case, a discrete compounding model. Let's construct [an instance of the `DiscreteCompoundingModel` type](https://varnerlab.github.io/VLQuantitativeFinancePackage.jl/dev/fixed/#VLQuantitativeFinancePackage.DiscreteCompoundingModel) and store this discount model in the `discount_model` variable."
   ]
  },
  {
   "cell_type": "code",
   "execution_count": 4,
   "id": "bd002a3e-445c-4e8e-8d00-ec32b2f90179",
   "metadata": {
    "tags": []
   },
   "outputs": [],
   "source": [
    "discount_model = DiscreteCompoundingModel();"
   ]
  },
  {
   "cell_type": "markdown",
   "id": "9b438522-c995-4432-888d-4534a6947e47",
   "metadata": {},
   "source": [
    "Next, select a bill from the `dataset` by randomly selecting an index from `1...number_of_bills` using the [built-in Julia rand function](https://docs.julialang.org/en/v1/stdlib/Random/#Base.rand):"
   ]
  },
  {
   "cell_type": "code",
   "execution_count": 5,
   "id": "68fa2606-24cd-40df-9d08-9984e7530945",
   "metadata": {
    "tags": []
   },
   "outputs": [
    {
     "name": "stdout",
     "output_type": "stream",
     "text": [
      "Selected bill: 45\n"
     ]
    }
   ],
   "source": [
    "random_bill_index = rand(1:number_of_bills)\n",
    "println(\"Selected bill: $(random_bill_index)\")"
   ]
  },
  {
   "cell_type": "code",
   "execution_count": 6,
   "id": "bea8f0e9-64dd-41a2-8f65-e2b5fa4b2e33",
   "metadata": {
    "tags": []
   },
   "outputs": [
    {
     "data": {
      "text/html": [
       "<div><div style = \"float: left;\"><span>DataFrameRow (8 columns)</span></div><div style = \"clear: both;\"></div></div><div class = \"data-frame\" style = \"overflow-x: scroll;\"><table class = \"data-frame\" style = \"margin-bottom: 6px;\"><thead><tr class = \"header\"><th class = \"rowLabel\" style = \"font-weight: bold; text-align: right;\">Row</th><th style = \"text-align: left;\">CUSIP</th><th style = \"text-align: left;\">Security Type</th><th style = \"text-align: left;\">Security Term</th><th style = \"text-align: left;\">Auction Date</th><th style = \"text-align: left;\">Issue Date</th><th style = \"text-align: left;\">Maturity Date</th><th style = \"text-align: left;\">Price</th><th style = \"text-align: left;\">Investment Rate</th></tr><tr class = \"subheader headerLastRow\"><th class = \"rowLabel\" style = \"font-weight: bold; text-align: right;\"></th><th title = \"String15\" style = \"text-align: left;\">String15</th><th title = \"String7\" style = \"text-align: left;\">String7</th><th title = \"String7\" style = \"text-align: left;\">String7</th><th title = \"String15\" style = \"text-align: left;\">String15</th><th title = \"String15\" style = \"text-align: left;\">String15</th><th title = \"String15\" style = \"text-align: left;\">String15</th><th title = \"Float64\" style = \"text-align: left;\">Float64</th><th title = \"Float64\" style = \"text-align: left;\">Float64</th></tr></thead><tbody><tr><td class = \"rowLabel\" style = \"font-weight: bold; text-align: right;\">45</td><td style = \"text-align: left;\">912797GG6</td><td style = \"text-align: left;\">Bill</td><td style = \"text-align: left;\">4-Week</td><td style = \"text-align: left;\">07/13/2023</td><td style = \"text-align: left;\">07/18/2023</td><td style = \"text-align: left;\">08/15/2023</td><td style = \"text-align: right;\">99.5948</td><td style = \"text-align: right;\">0.05318</td></tr></tbody></table></div>"
      ],
      "text/latex": [
       "\\begin{tabular}{r|ccccccc}\n",
       "\t& CUSIP & Security Type & Security Term & Auction Date & Issue Date & Maturity Date & \\\\\n",
       "\t\\hline\n",
       "\t& String15 & String7 & String7 & String15 & String15 & String15 & \\\\\n",
       "\t\\hline\n",
       "\t45 & 912797GG6 & Bill & 4-Week & 07/13/2023 & 07/18/2023 & 08/15/2023 & $\\dots$ \\\\\n",
       "\\end{tabular}\n"
      ],
      "text/plain": [
       "\u001b[1mDataFrameRow\u001b[0m\n",
       "\u001b[1m Row \u001b[0m│\u001b[1m CUSIP     \u001b[0m\u001b[1m Security Type \u001b[0m\u001b[1m Security Term \u001b[0m\u001b[1m Auction Date \u001b[0m\u001b[1m Issue Date \u001b[0m\u001b[1m Matu\u001b[0m ⋯\n",
       "     │\u001b[90m String15  \u001b[0m\u001b[90m String7       \u001b[0m\u001b[90m String7       \u001b[0m\u001b[90m String15     \u001b[0m\u001b[90m String15   \u001b[0m\u001b[90m Stri\u001b[0m ⋯\n",
       "─────┼──────────────────────────────────────────────────────────────────────────\n",
       "  45 │ 912797GG6  Bill           4-Week         07/13/2023    07/18/2023  08/1 ⋯\n",
       "\u001b[36m                                                               3 columns omitted\u001b[0m"
      ]
     },
     "execution_count": 6,
     "metadata": {},
     "output_type": "execute_result"
    }
   ],
   "source": [
    "dataset[random_bill_index,:]"
   ]
  },
  {
   "cell_type": "markdown",
   "id": "b29d9910-facc-407e-a175-b5edf5af0e9a",
   "metadata": {},
   "source": [
    "### Check: Verify the computed price of a random T-bill\n",
    "Create an instance of [the `MyUSTreasuryZeroCouponBondModel` model](https://varnerlab.github.io/VLQuantitativeFinancePackage.jl/dev/fixed/#VLQuantitativeFinancePackage.MyUSTreasuryZeroCouponBondModel) using a [custom `build(...)` method](https://varnerlab.github.io/VLQuantitativeFinancePackage.jl/dev/fixed/#VLQuantitativeFinancePackage.build-Tuple{Type{MyUSTreasuryZeroCouponBondModel},%20NamedTuple}), assuming a par value of `100 USD` and two compounding periods per year. Update the duration `T` and `rate` fields from random Bill data, and use the short-cut syntax to compute the price. Save the updated model in the `zero_coupon_model` variable. "
   ]
  },
  {
   "cell_type": "code",
   "execution_count": 7,
   "id": "5d801fa5-2efb-4c50-9548-37964911b06e",
   "metadata": {
    "tags": []
   },
   "outputs": [],
   "source": [
    "zero_coupon_model = build(MyUSTreasuryZeroCouponBondModel, (\n",
    "    par = 100.0, n = 2, \n",
    "        \n",
    "    ### BEGIN SOLUTION    \n",
    "    T = dataset[random_bill_index, Symbol(\"Security Term\")] |> String |> securityterm,\n",
    "    rate =  dataset[random_bill_index, Symbol(\"Investment Rate\")]\n",
    "    ### END SOLUTION    \n",
    "        \n",
    ")) |> discount_model;"
   ]
  },
  {
   "cell_type": "code",
   "execution_count": 8,
   "id": "d3d291da-315a-42e7-8c5c-6ce277da5615",
   "metadata": {},
   "outputs": [
    {
     "data": {
      "text/plain": [
       "99.59818279920309"
      ]
     },
     "execution_count": 8,
     "metadata": {},
     "output_type": "execute_result"
    }
   ],
   "source": [
    "zero_coupon_model.price"
   ]
  },
  {
   "cell_type": "markdown",
   "id": "3cb722cc-1837-4557-9463-166358da65aa",
   "metadata": {},
   "source": [
    "__Check__: If the computed and observed price are different, i.e., they have relative difference tolerance of `rtol`$>$`1e-4`, then the [@assert macro](https://docs.julialang.org/en/v1/base/base/#Base.@assert) will `fail`, resulting in an [AssertionError](https://docs.julialang.org/en/v1/base/base/#Core.AssertionError):"
   ]
  },
  {
   "cell_type": "code",
   "execution_count": 9,
   "id": "e1ca6df0-aa89-49bd-87a4-97eeb680d1fc",
   "metadata": {
    "tags": []
   },
   "outputs": [],
   "source": [
    "@assert isapprox(zero_coupon_model.price, dataset[random_bill_index,:Price], rtol=1e-4)"
   ]
  },
  {
   "cell_type": "markdown",
   "id": "075fed7c-1967-49fa-a1e9-f7bc02db17f9",
   "metadata": {},
   "source": [
    "## Objective 2: Compute the sensitivity of the T-bill price to interest rate and term to maturity"
   ]
  },
  {
   "cell_type": "markdown",
   "id": "5dd276fc-1e39-48d2-bcc6-4192490e5a1c",
   "metadata": {},
   "source": [
    "Let's test Theorem 2 by simulating prices as a function of interest rate and term to maturity. \n",
    "* Create models for two bills $i$ and $j$ from the `dataset`. Bills $i$ and $j$ should have a significant difference in duration, for example, `4 weeks` versus `52 weeks`\n",
    "* Then simulate how these instruments' prices change as we vary the yield by the same percentage. Assume a $V_{P} = 100$ USD for both instruments and semiannual compounding, i.e., $n = 2$."
   ]
  },
  {
   "cell_type": "markdown",
   "id": "fc3de9b4-2700-4cfe-a769-368c8f87fb2f",
   "metadata": {},
   "source": [
    "### TODO: Build a short-duration bill model\n",
    "Select the index of a random `4-Week` duration treasury bill, and save this index in the variable `i`, and then build [a `MyUSTreasuryZeroCouponBondModel` instance](https://varnerlab.github.io/VLQuantitativeFinancePackage.jl/dev/fixed/#VLQuantitativeFinancePackage.build-Tuple{Type{MyUSTreasuryCouponSecurityModel},%20NamedTuple}).\n",
    "* We can select data from `dataset` using [the `filter(...)` method exported by the DataFrames.jl package](https://dataframes.juliadata.org/stable/lib/functions/#Base.filter). The [`filter(...)` method](https://dataframes.juliadata.org/stable/lib/functions/#Base.filter) takes a function `func` as its first argument and a data frame `df` as its second argument. It returns a data frame containing only the rows from df for which `func` returns `true.`"
   ]
  },
  {
   "cell_type": "code",
   "execution_count": 10,
   "id": "0997d073-5a20-452a-9815-085e48c8e5ad",
   "metadata": {
    "tags": []
   },
   "outputs": [
    {
     "data": {
      "text/html": [
       "<div><div style = \"float: left;\"><span>DataFrameRow (8 columns)</span></div><div style = \"clear: both;\"></div></div><div class = \"data-frame\" style = \"overflow-x: scroll;\"><table class = \"data-frame\" style = \"margin-bottom: 6px;\"><thead><tr class = \"header\"><th class = \"rowLabel\" style = \"font-weight: bold; text-align: right;\">Row</th><th style = \"text-align: left;\">CUSIP</th><th style = \"text-align: left;\">Security Type</th><th style = \"text-align: left;\">Security Term</th><th style = \"text-align: left;\">Auction Date</th><th style = \"text-align: left;\">Issue Date</th><th style = \"text-align: left;\">Maturity Date</th><th style = \"text-align: left;\">Price</th><th style = \"text-align: left;\">Investment Rate</th></tr><tr class = \"subheader headerLastRow\"><th class = \"rowLabel\" style = \"font-weight: bold; text-align: right;\"></th><th title = \"String15\" style = \"text-align: left;\">String15</th><th title = \"String7\" style = \"text-align: left;\">String7</th><th title = \"String7\" style = \"text-align: left;\">String7</th><th title = \"String15\" style = \"text-align: left;\">String15</th><th title = \"String15\" style = \"text-align: left;\">String15</th><th title = \"String15\" style = \"text-align: left;\">String15</th><th title = \"Float64\" style = \"text-align: left;\">Float64</th><th title = \"Float64\" style = \"text-align: left;\">Float64</th></tr></thead><tbody><tr><td class = \"rowLabel\" style = \"font-weight: bold; text-align: right;\">4</td><td style = \"text-align: left;\">912797GS0</td><td style = \"text-align: left;\">Bill</td><td style = \"text-align: left;\">4-Week</td><td style = \"text-align: left;\">08/10/2023</td><td style = \"text-align: left;\">08/15/2023</td><td style = \"text-align: left;\">09/12/2023</td><td style = \"text-align: right;\">99.5893</td><td style = \"text-align: right;\">0.0539</td></tr></tbody></table></div>"
      ],
      "text/latex": [
       "\\begin{tabular}{r|ccccccc}\n",
       "\t& CUSIP & Security Type & Security Term & Auction Date & Issue Date & Maturity Date & \\\\\n",
       "\t\\hline\n",
       "\t& String15 & String7 & String7 & String15 & String15 & String15 & \\\\\n",
       "\t\\hline\n",
       "\t4 & 912797GS0 & Bill & 4-Week & 08/10/2023 & 08/15/2023 & 09/12/2023 & $\\dots$ \\\\\n",
       "\\end{tabular}\n"
      ],
      "text/plain": [
       "\u001b[1mDataFrameRow\u001b[0m\n",
       "\u001b[1m Row \u001b[0m│\u001b[1m CUSIP     \u001b[0m\u001b[1m Security Type \u001b[0m\u001b[1m Security Term \u001b[0m\u001b[1m Auction Date \u001b[0m\u001b[1m Issue Date \u001b[0m\u001b[1m Matu\u001b[0m ⋯\n",
       "     │\u001b[90m String15  \u001b[0m\u001b[90m String7       \u001b[0m\u001b[90m String7       \u001b[0m\u001b[90m String15     \u001b[0m\u001b[90m String15   \u001b[0m\u001b[90m Stri\u001b[0m ⋯\n",
       "─────┼──────────────────────────────────────────────────────────────────────────\n",
       "   4 │ 912797GS0  Bill           4-Week         08/10/2023    08/15/2023  09/1 ⋯\n",
       "\u001b[36m                                                               3 columns omitted\u001b[0m"
      ]
     },
     "execution_count": 10,
     "metadata": {},
     "output_type": "execute_result"
    }
   ],
   "source": [
    "short_duruation_dataset = filter(Symbol(\"Security Term\") => x-> x == \"4-Week\", dataset)\n",
    "i = nrow(short_duruation_dataset) |> x-> rand(1:x);\n",
    "short_duruation_dataset[i,:]"
   ]
  },
  {
   "cell_type": "markdown",
   "id": "5d157bed-4d1d-4bb4-95e0-3ddc3af073cb",
   "metadata": {},
   "source": [
    "Build [an `MyUSTreasuryZeroCouponBondModel` instance](https://varnerlab.github.io/VLQuantitativeFinancePackage.jl/dev/fixed/#VLQuantitativeFinancePackage.MyUSTreasuryZeroCouponBondModel) to model the randomly selected  `4-Week` treasury bill, save this model in the `short_duration_model` variable, and then compute the price using the short-cut syntax:"
   ]
  },
  {
   "cell_type": "code",
   "execution_count": 11,
   "id": "142bbd84-301d-4fba-b504-926247519b46",
   "metadata": {
    "tags": []
   },
   "outputs": [],
   "source": [
    "short_duration_model = build(MyUSTreasuryZeroCouponBondModel, (\n",
    "    \n",
    "    ### BEGIN SOLUTION    \n",
    "    par = 100, n = 2, \n",
    "    T = short_duruation_dataset[i, Symbol(\"Security Term\")] |> String |> securityterm,\n",
    "    rate = short_duruation_dataset[i, Symbol(\"Investment Rate\")],\n",
    "    ### END SOLUTION\n",
    "        \n",
    ")) |> discount_model; # short cut price calculation"
   ]
  },
  {
   "cell_type": "markdown",
   "id": "8e73d734-7d6d-4c3e-9da1-a1db25bfeb3a",
   "metadata": {},
   "source": [
    "#### Check: Is the short-duration price `similar` to the dataset?"
   ]
  },
  {
   "cell_type": "code",
   "execution_count": 12,
   "id": "1e298676-a8b3-4856-be0f-d9f3fb0b0c8a",
   "metadata": {
    "tags": []
   },
   "outputs": [],
   "source": [
    "short_duration_price = short_duration_model.price\n",
    "@assert isapprox(short_duration_price, short_duruation_dataset[i,:Price], rtol = 1e-3)"
   ]
  },
  {
   "cell_type": "markdown",
   "id": "a5fb47d2-d6e2-42a5-9a87-f4eb03e095f5",
   "metadata": {},
   "source": [
    "### TODO: Build a long-duration bill model"
   ]
  },
  {
   "cell_type": "markdown",
   "id": "89cd0f6f-1db3-4724-81e1-2a8a4c745f2c",
   "metadata": {},
   "source": [
    "Select the index of a random `52-Week` duration treasury bill, save this index as the variable `j`:"
   ]
  },
  {
   "cell_type": "code",
   "execution_count": 13,
   "id": "95dc7123-be5d-4ed2-94f7-baced4852c73",
   "metadata": {
    "tags": []
   },
   "outputs": [
    {
     "data": {
      "text/html": [
       "<div><div style = \"float: left;\"><span>DataFrameRow (8 columns)</span></div><div style = \"clear: both;\"></div></div><div class = \"data-frame\" style = \"overflow-x: scroll;\"><table class = \"data-frame\" style = \"margin-bottom: 6px;\"><thead><tr class = \"header\"><th class = \"rowLabel\" style = \"font-weight: bold; text-align: right;\">Row</th><th style = \"text-align: left;\">CUSIP</th><th style = \"text-align: left;\">Security Type</th><th style = \"text-align: left;\">Security Term</th><th style = \"text-align: left;\">Auction Date</th><th style = \"text-align: left;\">Issue Date</th><th style = \"text-align: left;\">Maturity Date</th><th style = \"text-align: left;\">Price</th><th style = \"text-align: left;\">Investment Rate</th></tr><tr class = \"subheader headerLastRow\"><th class = \"rowLabel\" style = \"font-weight: bold; text-align: right;\"></th><th title = \"String15\" style = \"text-align: left;\">String15</th><th title = \"String7\" style = \"text-align: left;\">String7</th><th title = \"String7\" style = \"text-align: left;\">String7</th><th title = \"String15\" style = \"text-align: left;\">String15</th><th title = \"String15\" style = \"text-align: left;\">String15</th><th title = \"String15\" style = \"text-align: left;\">String15</th><th title = \"Float64\" style = \"text-align: left;\">Float64</th><th title = \"Float64\" style = \"text-align: left;\">Float64</th></tr></thead><tbody><tr><td class = \"rowLabel\" style = \"font-weight: bold; text-align: right;\">1</td><td style = \"text-align: left;\">912797GK7</td><td style = \"text-align: left;\">Bill</td><td style = \"text-align: left;\">52-Week</td><td style = \"text-align: left;\">08/08/2023</td><td style = \"text-align: left;\">08/10/2023</td><td style = \"text-align: left;\">08/08/2024</td><td style = \"text-align: right;\">94.8838</td><td style = \"text-align: right;\">0.05351</td></tr></tbody></table></div>"
      ],
      "text/latex": [
       "\\begin{tabular}{r|ccccccc}\n",
       "\t& CUSIP & Security Type & Security Term & Auction Date & Issue Date & Maturity Date & \\\\\n",
       "\t\\hline\n",
       "\t& String15 & String7 & String7 & String15 & String15 & String15 & \\\\\n",
       "\t\\hline\n",
       "\t1 & 912797GK7 & Bill & 52-Week & 08/08/2023 & 08/10/2023 & 08/08/2024 & $\\dots$ \\\\\n",
       "\\end{tabular}\n"
      ],
      "text/plain": [
       "\u001b[1mDataFrameRow\u001b[0m\n",
       "\u001b[1m Row \u001b[0m│\u001b[1m CUSIP     \u001b[0m\u001b[1m Security Type \u001b[0m\u001b[1m Security Term \u001b[0m\u001b[1m Auction Date \u001b[0m\u001b[1m Issue Date \u001b[0m\u001b[1m Matu\u001b[0m ⋯\n",
       "     │\u001b[90m String15  \u001b[0m\u001b[90m String7       \u001b[0m\u001b[90m String7       \u001b[0m\u001b[90m String15     \u001b[0m\u001b[90m String15   \u001b[0m\u001b[90m Stri\u001b[0m ⋯\n",
       "─────┼──────────────────────────────────────────────────────────────────────────\n",
       "   1 │ 912797GK7  Bill           52-Week        08/08/2023    08/10/2023  08/0 ⋯\n",
       "\u001b[36m                                                               3 columns omitted\u001b[0m"
      ]
     },
     "execution_count": 13,
     "metadata": {},
     "output_type": "execute_result"
    }
   ],
   "source": [
    "long_duruation_dataset = filter(Symbol(\"Security Term\") => x-> x == \"52-Week\", dataset)\n",
    "j = nrow(long_duruation_dataset) |> x-> rand(1:x);\n",
    "long_duruation_dataset[j,:]"
   ]
  },
  {
   "cell_type": "markdown",
   "id": "a4f74597-fd74-4427-bd40-07b97aa88ca7",
   "metadata": {},
   "source": [
    "Next, build [a `MyUSTreasuryZeroCouponBondModel` instance](https://varnerlab.github.io/VLQuantitativeFinancePackage.jl/dev/fixed/#VLQuantitativeFinancePackage.MyUSTreasuryZeroCouponBondModel) to model the random `52-Week` treasury bill and compute the price using the short-cut syntax:"
   ]
  },
  {
   "cell_type": "code",
   "execution_count": 14,
   "id": "9ed83950-881d-44c0-8970-9a93c10fe805",
   "metadata": {
    "tags": []
   },
   "outputs": [],
   "source": [
    "long_duration_model = build(MyUSTreasuryZeroCouponBondModel, (\n",
    "    \n",
    "    ### BEGIN SOLUTION   \n",
    "    par = 100, n = 2, \n",
    "    T = long_duruation_dataset[j, Symbol(\"Security Term\")] |> String |> securityterm,\n",
    "    rate = long_duruation_dataset[j, Symbol(\"Investment Rate\")],\n",
    "    ### END SOLUTION\n",
    "        \n",
    ")) |> discount_model;"
   ]
  },
  {
   "cell_type": "markdown",
   "id": "a5b5fe89-88bc-4364-9ea8-18f8d0c95859",
   "metadata": {},
   "source": [
    "#### Check: Is the long-duration price `similar` to the dataset?"
   ]
  },
  {
   "cell_type": "code",
   "execution_count": 15,
   "id": "feb42530-bc75-4258-b385-e07ea1eb4446",
   "metadata": {
    "tags": []
   },
   "outputs": [],
   "source": [
    "long_duration_price = long_duration_model.price\n",
    "@assert isapprox(long_duration_price, long_duruation_dataset[j,:Price], rtol = 1e-3)"
   ]
  },
  {
   "cell_type": "markdown",
   "id": "d6e17841-7d29-466b-b532-f56f1a615363",
   "metadata": {},
   "source": [
    "### TODO: Specify a range of perturbation values\n",
    "To simulate the impact of changes in the interest rate, let's perturb the effective nominal interest rate $\\bar{r}$, with all other values held constant, i.e., generate a new rate of the form $\\bar{r}\\leftarrow\\beta\\cdot\\bar{r}$, where $\\beta$ is a perturbation value; if $\\beta<1$ the perturbed interest rate is _less than_ the nominal rate, if $\\beta=1$ the perturbed interest rate is _equals_ the nominal rate, and if $\\beta>1$ the perturbed interest rate is _greater than_ the nominal rate.\n",
    "\n",
    "* First, we specify the number of perturbation values we want to consider; we store this value in the `number_of_samples` variable. Note: if `number_of_samples` is odd, the perturbation range will include the nominal interest rate as the center value.\n",
    "* Next, we specify the lower and upper values of the perturbation range; the lower bound is stored in the `β₁` variable, while the upper bound is stored in the `β₂` variable.\n",
    "* Finally, we compute the perturbation array (stored in the `β`-variable) using the [range function](https://docs.julialang.org/en/v1/base/math/#Base.range) in combination with the [Julia pipe |> operator](https://docs.julialang.org/en/v1/manual/functions/#Function-composition-and-piping), and the [collect function](https://docs.julialang.org/en/v1/base/collections/#Base.collect-Tuple{Type,%20Any}), which converts a range type to a collection, i.e., an array"
   ]
  },
  {
   "cell_type": "code",
   "execution_count": 16,
   "id": "f17be63b-732b-4959-9347-0ee7991ac0f1",
   "metadata": {},
   "outputs": [],
   "source": [
    "### BEGIN SOLUTION\n",
    "number_of_samples = 11;\n",
    "β₁ = 0.8;\n",
    "β₂ = 1.2;\n",
    "β = range(β₁, stop = β₂, length = number_of_samples) |> collect;\n",
    "### END SOLUTION"
   ]
  },
  {
   "cell_type": "markdown",
   "id": "b78c39c5-c1e8-48a2-b077-96296ca05c1b",
   "metadata": {},
   "source": [
    "### TODO: Compute the change of the short and long-duration prices as a function of the yield \n",
    "Compute the price of the short and long-duration notes or bonds using different values for the yield (stored in the `rate` field), and store the results in the `theorem_2_simulation_array` variable. Iterate through each value of the $\\beta$ array using a `for` loop. For iteration $i$ of the loop:\n",
    "\n",
    "* Get a value for the perturbation $\\beta_{i}$ from the $\\beta$-array, and compute the new effective rate value for each model $\\bar{r}_{i} = \\beta_{i}\\cdot{\\bar{r}}$.\n",
    "* Update the `short_duration_model` and the `long_duration_model` models instances with the new rates (set the `rate` field), and compute the new prices\n",
    "* Store the $\\beta_{i}$ value in column 1, and the percentage difference in price for each instrument in column 2 (short) and column 3 (long) of the `theorem_2_simulation_array`"
   ]
  },
  {
   "cell_type": "code",
   "execution_count": 17,
   "id": "e7f642f9-c2df-4f9d-9747-f8b245b8d7b4",
   "metadata": {
    "tags": []
   },
   "outputs": [],
   "source": [
    "theorem_2_simulation_array = Array{Float64,2}(undef, number_of_samples, 3);\n",
    "for i ∈ eachindex(β)\n",
    "    \n",
    "    β_value = β[i];\n",
    "    \n",
    "    ### BEGIN SOLUTION\n",
    "    short_duration_model.rate = β_value*(short_duruation_dataset[i, Symbol(\"Investment Rate\")]);\n",
    "    long_duration_model.rate = β_value*(long_duruation_dataset[j, Symbol(\"Investment Rate\")]);\n",
    "    new_short_duration_price = short_duration_model |> discount_model |> x-> x.price\n",
    "    new_long_duration_price = long_duration_model |> discount_model |> x-> x.price\n",
    "    \n",
    "    theorem_2_simulation_array[i,1] = β_value\n",
    "    theorem_2_simulation_array[i,2] = ((new_short_duration_price - short_duration_price)/short_duration_price)*100\n",
    "    theorem_2_simulation_array[i,3] = ((new_long_duration_price - long_duration_price)/long_duration_price)*100\n",
    "    ### END SOLUTION\n",
    "end"
   ]
  },
  {
   "cell_type": "markdown",
   "id": "be60b7d7-69be-491e-ad3d-3a002fc7b030",
   "metadata": {},
   "source": [
    "#### Visualize\n",
    "`Unhide` the code block below to see how we plotted the short- and long-duration T-bills response to changes in the interest (discount) rate $\\bar{r}$.\n",
    "* __Summary__: The longer maturity T-bill is more sensitive to changes in the interest rate (light-gray line) than the shorter duration instrument (black line). Thus, our simulations support Theorem 4."
   ]
  },
  {
   "cell_type": "code",
   "execution_count": 18,
   "id": "e110cdae-6cce-45b1-bbca-683dd7054a91",
   "metadata": {
    "jupyter": {
     "source_hidden": true
    },
    "tags": []
   },
   "outputs": [
    {
     "data": {
      "image/png": "[encoded data removed]",
      "image/svg+xml": [
       "<?xml version=\"1.0\" encoding=\"utf-8\"?>\n",
       "<svg xmlns=\"http://www.w3.org/2000/svg\" xmlns:xlink=\"http://www.w3.org/1999/xlink\" width=\"600\" height=\"400\" viewBox=\"0 0 2400 1600\">\n",
       "<defs>\n",
       "  <clipPath id=\"clip140\">\n",
       "    <rect x=\"0\" y=\"0\" width=\"2400\" height=\"1600\"/>\n",
       "  </clipPath>\n",
       "</defs>\n",
       "<path clip-path=\"url(#clip140)\" d=\"M0 1600 L2400 1600 L2400 0 L0 0  Z\" fill=\"#ffffff\" fill-rule=\"evenodd\" fill-opacity=\"1\"/>\n",
       "<defs>\n",
       "  <clipPath id=\"clip141\">\n",
       "    <rect x=\"480\" y=\"0\" width=\"1681\" height=\"1600\"/>\n",
       "  </clipPath>\n",
       "</defs>\n",
       "<path clip-path=\"url(#clip140)\" d=\"M257.204 1423.18 L2352.76 1423.18 L2352.76 47.2441 L257.204 47.2441  Z\" fill=\"#ffffff\" fill-rule=\"evenodd\" fill-opacity=\"1\"/>\n",
       "<defs>\n",
       "  <clipPath id=\"clip142\">\n",
       "    <rect x=\"257\" y=\"47\" width=\"2097\" height=\"1377\"/>\n",
       "  </clipPath>\n",
       "</defs>\n",
       "<polyline clip-path=\"url(#clip142)\" style=\"stroke:#000000; stroke-linecap:round; stroke-linejoin:round; stroke-width:2; stroke-opacity:0.1; fill:none\" points=\"316.512,1423.18 316.512,47.2441 \"/>\n",
       "<polyline clip-path=\"url(#clip142)\" style=\"stroke:#000000; stroke-linecap:round; stroke-linejoin:round; stroke-width:2; stroke-opacity:0.1; fill:none\" points=\"810.746,1423.18 810.746,47.2441 \"/>\n",
       "<polyline clip-path=\"url(#clip142)\" style=\"stroke:#000000; stroke-linecap:round; stroke-linejoin:round; stroke-width:2; stroke-opacity:0.1; fill:none\" points=\"1304.98,1423.18 1304.98,47.2441 \"/>\n",
       "<polyline clip-path=\"url(#clip142)\" style=\"stroke:#000000; stroke-linecap:round; stroke-linejoin:round; stroke-width:2; stroke-opacity:0.1; fill:none\" points=\"1799.21,1423.18 1799.21,47.2441 \"/>\n",
       "<polyline clip-path=\"url(#clip142)\" style=\"stroke:#000000; stroke-linecap:round; stroke-linejoin:round; stroke-width:2; stroke-opacity:0.1; fill:none\" points=\"2293.45,1423.18 2293.45,47.2441 \"/>\n",
       "<polyline clip-path=\"url(#clip142)\" style=\"stroke:#000000; stroke-linecap:round; stroke-linejoin:round; stroke-width:2; stroke-opacity:0.1; fill:none\" points=\"257.204,1364.63 2352.76,1364.63 \"/>\n",
       "<polyline clip-path=\"url(#clip142)\" style=\"stroke:#000000; stroke-linecap:round; stroke-linejoin:round; stroke-width:2; stroke-opacity:0.1; fill:none\" points=\"257.204,1052.45 2352.76,1052.45 \"/>\n",
       "<polyline clip-path=\"url(#clip142)\" style=\"stroke:#000000; stroke-linecap:round; stroke-linejoin:round; stroke-width:2; stroke-opacity:0.1; fill:none\" points=\"257.204,740.276 2352.76,740.276 \"/>\n",
       "<polyline clip-path=\"url(#clip142)\" style=\"stroke:#000000; stroke-linecap:round; stroke-linejoin:round; stroke-width:2; stroke-opacity:0.1; fill:none\" points=\"257.204,428.098 2352.76,428.098 \"/>\n",
       "<polyline clip-path=\"url(#clip142)\" style=\"stroke:#000000; stroke-linecap:round; stroke-linejoin:round; stroke-width:2; stroke-opacity:0.1; fill:none\" points=\"257.204,115.921 2352.76,115.921 \"/>\n",
       "<polyline clip-path=\"url(#clip140)\" style=\"stroke:#000000; stroke-linecap:round; stroke-linejoin:round; stroke-width:4; stroke-opacity:1; fill:none\" points=\"257.204,1423.18 2352.76,1423.18 \"/>\n",
       "<polyline clip-path=\"url(#clip140)\" style=\"stroke:#000000; stroke-linecap:round; stroke-linejoin:round; stroke-width:4; stroke-opacity:1; fill:none\" points=\"316.512,1423.18 316.512,1404.28 \"/>\n",
       "<polyline clip-path=\"url(#clip140)\" style=\"stroke:#000000; stroke-linecap:round; stroke-linejoin:round; stroke-width:4; stroke-opacity:1; fill:none\" points=\"810.746,1423.18 810.746,1404.28 \"/>\n",
       "<polyline clip-path=\"url(#clip140)\" style=\"stroke:#000000; stroke-linecap:round; stroke-linejoin:round; stroke-width:4; stroke-opacity:1; fill:none\" points=\"1304.98,1423.18 1304.98,1404.28 \"/>\n",
       "<polyline clip-path=\"url(#clip140)\" style=\"stroke:#000000; stroke-linecap:round; stroke-linejoin:round; stroke-width:4; stroke-opacity:1; fill:none\" points=\"1799.21,1423.18 1799.21,1404.28 \"/>\n",
       "<polyline clip-path=\"url(#clip140)\" style=\"stroke:#000000; stroke-linecap:round; stroke-linejoin:round; stroke-width:4; stroke-opacity:1; fill:none\" points=\"2293.45,1423.18 2293.45,1404.28 \"/>\n",
       "<path clip-path=\"url(#clip140)\" d=\"M293.943 1454.1 Q290.332 1454.1 288.503 1457.66 Q286.697 1461.2 286.697 1468.33 Q286.697 1475.44 288.503 1479.01 Q290.332 1482.55 293.943 1482.55 Q297.577 1482.55 299.383 1479.01 Q301.211 1475.44 301.211 1468.33 Q301.211 1461.2 299.383 1457.66 Q297.577 1454.1 293.943 1454.1 M293.943 1450.39 Q299.753 1450.39 302.808 1455 Q305.887 1459.58 305.887 1468.33 Q305.887 1477.06 302.808 1481.67 Q299.753 1486.25 293.943 1486.25 Q288.133 1486.25 285.054 1481.67 Q281.998 1477.06 281.998 1468.33 Q281.998 1459.58 285.054 1455 Q288.133 1450.39 293.943 1450.39 Z\" fill=\"#000000\" fill-rule=\"nonzero\" fill-opacity=\"1\" /><path clip-path=\"url(#clip140)\" d=\"M314.105 1479.7 L318.989 1479.7 L318.989 1485.58 L314.105 1485.58 L314.105 1479.7 Z\" fill=\"#000000\" fill-rule=\"nonzero\" fill-opacity=\"1\" /><path clip-path=\"url(#clip140)\" d=\"M339.174 1469.17 Q335.841 1469.17 333.919 1470.95 Q332.021 1472.73 332.021 1475.86 Q332.021 1478.98 333.919 1480.77 Q335.841 1482.55 339.174 1482.55 Q342.507 1482.55 344.429 1480.77 Q346.35 1478.96 346.35 1475.86 Q346.35 1472.73 344.429 1470.95 Q342.53 1469.17 339.174 1469.17 M334.498 1467.18 Q331.489 1466.44 329.799 1464.38 Q328.132 1462.32 328.132 1459.35 Q328.132 1455.21 331.072 1452.8 Q334.035 1450.39 339.174 1450.39 Q344.336 1450.39 347.276 1452.8 Q350.216 1455.21 350.216 1459.35 Q350.216 1462.32 348.526 1464.38 Q346.859 1466.44 343.873 1467.18 Q347.253 1467.96 349.128 1470.26 Q351.026 1472.55 351.026 1475.86 Q351.026 1480.88 347.947 1483.57 Q344.892 1486.25 339.174 1486.25 Q333.456 1486.25 330.378 1483.57 Q327.322 1480.88 327.322 1475.86 Q327.322 1472.55 329.22 1470.26 Q331.119 1467.96 334.498 1467.18 M332.785 1459.79 Q332.785 1462.48 334.452 1463.98 Q336.142 1465.49 339.174 1465.49 Q342.183 1465.49 343.873 1463.98 Q345.586 1462.48 345.586 1459.79 Q345.586 1457.11 343.873 1455.6 Q342.183 1454.1 339.174 1454.1 Q336.142 1454.1 334.452 1455.6 Q332.785 1457.11 332.785 1459.79 Z\" fill=\"#000000\" fill-rule=\"nonzero\" fill-opacity=\"1\" /><path clip-path=\"url(#clip140)\" d=\"M788.223 1454.1 Q784.612 1454.1 782.783 1457.66 Q780.978 1461.2 780.978 1468.33 Q780.978 1475.44 782.783 1479.01 Q784.612 1482.55 788.223 1482.55 Q791.857 1482.55 793.663 1479.01 Q795.491 1475.44 795.491 1468.33 Q795.491 1461.2 793.663 1457.66 Q791.857 1454.1 788.223 1454.1 M788.223 1450.39 Q794.033 1450.39 797.089 1455 Q800.167 1459.58 800.167 1468.33 Q800.167 1477.06 797.089 1481.67 Q794.033 1486.25 788.223 1486.25 Q782.413 1486.25 779.334 1481.67 Q776.279 1477.06 776.279 1468.33 Q776.279 1459.58 779.334 1455 Q782.413 1450.39 788.223 1450.39 Z\" fill=\"#000000\" fill-rule=\"nonzero\" fill-opacity=\"1\" /><path clip-path=\"url(#clip140)\" d=\"M808.385 1479.7 L813.269 1479.7 L813.269 1485.58 L808.385 1485.58 L808.385 1479.7 Z\" fill=\"#000000\" fill-rule=\"nonzero\" fill-opacity=\"1\" /><path clip-path=\"url(#clip140)\" d=\"M823.593 1484.86 L823.593 1480.6 Q825.352 1481.44 827.158 1481.88 Q828.964 1482.32 830.7 1482.32 Q835.329 1482.32 837.76 1479.21 Q840.213 1476.09 840.561 1469.75 Q839.218 1471.74 837.158 1472.8 Q835.098 1473.87 832.598 1473.87 Q827.413 1473.87 824.38 1470.74 Q821.371 1467.59 821.371 1462.15 Q821.371 1456.83 824.519 1453.61 Q827.667 1450.39 832.899 1450.39 Q838.894 1450.39 842.042 1455 Q845.213 1459.58 845.213 1468.33 Q845.213 1476.51 841.325 1481.39 Q837.459 1486.25 830.908 1486.25 Q829.149 1486.25 827.343 1485.9 Q825.538 1485.56 823.593 1484.86 M832.899 1470.21 Q836.047 1470.21 837.876 1468.06 Q839.727 1465.9 839.727 1462.15 Q839.727 1458.43 837.876 1456.27 Q836.047 1454.1 832.899 1454.1 Q829.751 1454.1 827.899 1456.27 Q826.07 1458.43 826.07 1462.15 Q826.07 1465.9 827.899 1468.06 Q829.751 1470.21 832.899 1470.21 Z\" fill=\"#000000\" fill-rule=\"nonzero\" fill-opacity=\"1\" /><path clip-path=\"url(#clip140)\" d=\"M1272.13 1481.64 L1279.77 1481.64 L1279.77 1455.28 L1271.46 1456.95 L1271.46 1452.69 L1279.73 1451.02 L1284.4 1451.02 L1284.4 1481.64 L1292.04 1481.64 L1292.04 1485.58 L1272.13 1485.58 L1272.13 1481.64 Z\" fill=\"#000000\" fill-rule=\"nonzero\" fill-opacity=\"1\" /><path clip-path=\"url(#clip140)\" d=\"M1301.48 1479.7 L1306.37 1479.7 L1306.37 1485.58 L1301.48 1485.58 L1301.48 1479.7 Z\" fill=\"#000000\" fill-rule=\"nonzero\" fill-opacity=\"1\" /><path clip-path=\"url(#clip140)\" d=\"M1326.55 1454.1 Q1322.94 1454.1 1321.11 1457.66 Q1319.31 1461.2 1319.31 1468.33 Q1319.31 1475.44 1321.11 1479.01 Q1322.94 1482.55 1326.55 1482.55 Q1330.19 1482.55 1331.99 1479.01 Q1333.82 1475.44 1333.82 1468.33 Q1333.82 1461.2 1331.99 1457.66 Q1330.19 1454.1 1326.55 1454.1 M1326.55 1450.39 Q1332.36 1450.39 1335.42 1455 Q1338.5 1459.58 1338.5 1468.33 Q1338.5 1477.06 1335.42 1481.67 Q1332.36 1486.25 1326.55 1486.25 Q1320.74 1486.25 1317.67 1481.67 Q1314.61 1477.06 1314.61 1468.33 Q1314.61 1459.58 1317.67 1455 Q1320.74 1450.39 1326.55 1450.39 Z\" fill=\"#000000\" fill-rule=\"nonzero\" fill-opacity=\"1\" /><path clip-path=\"url(#clip140)\" d=\"M1766.98 1481.64 L1774.62 1481.64 L1774.62 1455.28 L1766.31 1456.95 L1766.31 1452.69 L1774.57 1451.02 L1779.25 1451.02 L1779.25 1481.64 L1786.89 1481.64 L1786.89 1485.58 L1766.98 1485.58 L1766.98 1481.64 Z\" fill=\"#000000\" fill-rule=\"nonzero\" fill-opacity=\"1\" /><path clip-path=\"url(#clip140)\" d=\"M1796.33 1479.7 L1801.22 1479.7 L1801.22 1485.58 L1796.33 1485.58 L1796.33 1479.7 Z\" fill=\"#000000\" fill-rule=\"nonzero\" fill-opacity=\"1\" /><path clip-path=\"url(#clip140)\" d=\"M1812.21 1481.64 L1819.85 1481.64 L1819.85 1455.28 L1811.54 1456.95 L1811.54 1452.69 L1819.8 1451.02 L1824.48 1451.02 L1824.48 1481.64 L1832.12 1481.64 L1832.12 1485.58 L1812.21 1485.58 L1812.21 1481.64 Z\" fill=\"#000000\" fill-rule=\"nonzero\" fill-opacity=\"1\" /><path clip-path=\"url(#clip140)\" d=\"M2261.4 1481.64 L2269.04 1481.64 L2269.04 1455.28 L2260.73 1456.95 L2260.73 1452.69 L2268.99 1451.02 L2273.67 1451.02 L2273.67 1481.64 L2281.31 1481.64 L2281.31 1485.58 L2261.4 1485.58 L2261.4 1481.64 Z\" fill=\"#000000\" fill-rule=\"nonzero\" fill-opacity=\"1\" /><path clip-path=\"url(#clip140)\" d=\"M2290.75 1479.7 L2295.64 1479.7 L2295.64 1485.58 L2290.75 1485.58 L2290.75 1479.7 Z\" fill=\"#000000\" fill-rule=\"nonzero\" fill-opacity=\"1\" /><path clip-path=\"url(#clip140)\" d=\"M2309.85 1481.64 L2326.17 1481.64 L2326.17 1485.58 L2304.22 1485.58 L2304.22 1481.64 Q2306.89 1478.89 2311.47 1474.26 Q2316.08 1469.61 2317.26 1468.27 Q2319.5 1465.74 2320.38 1464.01 Q2321.28 1462.25 2321.28 1460.56 Q2321.28 1457.8 2319.34 1456.07 Q2317.42 1454.33 2314.32 1454.33 Q2312.12 1454.33 2309.66 1455.09 Q2307.23 1455.86 2304.45 1457.41 L2304.45 1452.69 Q2307.28 1451.55 2309.73 1450.97 Q2312.19 1450.39 2314.22 1450.39 Q2319.59 1450.39 2322.79 1453.08 Q2325.98 1455.77 2325.98 1460.26 Q2325.98 1462.39 2325.17 1464.31 Q2324.39 1466.2 2322.28 1468.8 Q2321.7 1469.47 2318.6 1472.69 Q2315.5 1475.88 2309.85 1481.64 Z\" fill=\"#000000\" fill-rule=\"nonzero\" fill-opacity=\"1\" /><path clip-path=\"url(#clip140)\" d=\"M1295.46 1565.85 L1295.46 1581.6 L1289.57 1581.6 L1289.57 1532.62 Q1289.57 1518.1 1303.13 1518.1 Q1316.95 1518.1 1316.95 1530.36 Q1316.95 1539.08 1311.47 1542.26 Q1320.38 1545.13 1320.38 1553.63 Q1320.38 1568.71 1305.04 1568.71 Q1298.3 1568.71 1295.46 1565.85 M1295.46 1558.21 Q1299 1563.72 1305.27 1563.72 Q1314.43 1563.72 1314.43 1553.72 Q1314.43 1544.75 1299.66 1545.45 L1299.66 1540.03 Q1311.22 1540.03 1311.22 1529.85 Q1311.22 1522.88 1303.77 1522.88 Q1295.46 1522.88 1295.46 1532.81 L1295.46 1558.21 Z\" fill=\"#000000\" fill-rule=\"nonzero\" fill-opacity=\"1\" /><polyline clip-path=\"url(#clip140)\" style=\"stroke:#000000; stroke-linecap:round; stroke-linejoin:round; stroke-width:4; stroke-opacity:1; fill:none\" points=\"257.204,1423.18 257.204,47.2441 \"/>\n",
       "<polyline clip-path=\"url(#clip140)\" style=\"stroke:#000000; stroke-linecap:round; stroke-linejoin:round; stroke-width:4; stroke-opacity:1; fill:none\" points=\"257.204,1364.63 276.102,1364.63 \"/>\n",
       "<polyline clip-path=\"url(#clip140)\" style=\"stroke:#000000; stroke-linecap:round; stroke-linejoin:round; stroke-width:4; stroke-opacity:1; fill:none\" points=\"257.204,1052.45 276.102,1052.45 \"/>\n",
       "<polyline clip-path=\"url(#clip140)\" style=\"stroke:#000000; stroke-linecap:round; stroke-linejoin:round; stroke-width:4; stroke-opacity:1; fill:none\" points=\"257.204,740.276 276.102,740.276 \"/>\n",
       "<polyline clip-path=\"url(#clip140)\" style=\"stroke:#000000; stroke-linecap:round; stroke-linejoin:round; stroke-width:4; stroke-opacity:1; fill:none\" points=\"257.204,428.098 276.102,428.098 \"/>\n",
       "<polyline clip-path=\"url(#clip140)\" style=\"stroke:#000000; stroke-linecap:round; stroke-linejoin:round; stroke-width:4; stroke-opacity:1; fill:none\" points=\"257.204,115.921 276.102,115.921 \"/>\n",
       "<path clip-path=\"url(#clip140)\" d=\"M114.26 1365.08 L143.936 1365.08 L143.936 1369.02 L114.26 1369.02 L114.26 1365.08 Z\" fill=\"#000000\" fill-rule=\"nonzero\" fill-opacity=\"1\" /><path clip-path=\"url(#clip140)\" d=\"M154.839 1377.98 L162.477 1377.98 L162.477 1351.61 L154.167 1353.28 L154.167 1349.02 L162.431 1347.35 L167.107 1347.35 L167.107 1377.98 L174.746 1377.98 L174.746 1381.91 L154.839 1381.91 L154.839 1377.98 Z\" fill=\"#000000\" fill-rule=\"nonzero\" fill-opacity=\"1\" /><path clip-path=\"url(#clip140)\" d=\"M184.19 1376.03 L189.075 1376.03 L189.075 1381.91 L184.19 1381.91 L184.19 1376.03 Z\" fill=\"#000000\" fill-rule=\"nonzero\" fill-opacity=\"1\" /><path clip-path=\"url(#clip140)\" d=\"M209.26 1350.43 Q205.649 1350.43 203.82 1354 Q202.014 1357.54 202.014 1364.67 Q202.014 1371.77 203.82 1375.34 Q205.649 1378.88 209.26 1378.88 Q212.894 1378.88 214.699 1375.34 Q216.528 1371.77 216.528 1364.67 Q216.528 1357.54 214.699 1354 Q212.894 1350.43 209.26 1350.43 M209.26 1346.73 Q215.07 1346.73 218.125 1351.33 Q221.204 1355.92 221.204 1364.67 Q221.204 1373.39 218.125 1378 Q215.07 1382.58 209.26 1382.58 Q203.449 1382.58 200.371 1378 Q197.315 1373.39 197.315 1364.67 Q197.315 1355.92 200.371 1351.33 Q203.449 1346.73 209.26 1346.73 Z\" fill=\"#000000\" fill-rule=\"nonzero\" fill-opacity=\"1\" /><path clip-path=\"url(#clip140)\" d=\"M115.256 1052.91 L144.931 1052.91 L144.931 1056.84 L115.256 1056.84 L115.256 1052.91 Z\" fill=\"#000000\" fill-rule=\"nonzero\" fill-opacity=\"1\" /><path clip-path=\"url(#clip140)\" d=\"M165.024 1038.25 Q161.413 1038.25 159.584 1041.82 Q157.778 1045.36 157.778 1052.49 Q157.778 1059.6 159.584 1063.16 Q161.413 1066.7 165.024 1066.7 Q168.658 1066.7 170.464 1063.16 Q172.292 1059.6 172.292 1052.49 Q172.292 1045.36 170.464 1041.82 Q168.658 1038.25 165.024 1038.25 M165.024 1034.55 Q170.834 1034.55 173.889 1039.16 Q176.968 1043.74 176.968 1052.49 Q176.968 1061.22 173.889 1065.82 Q170.834 1070.41 165.024 1070.41 Q159.214 1070.41 156.135 1065.82 Q153.079 1061.22 153.079 1052.49 Q153.079 1043.74 156.135 1039.16 Q159.214 1034.55 165.024 1034.55 Z\" fill=\"#000000\" fill-rule=\"nonzero\" fill-opacity=\"1\" /><path clip-path=\"url(#clip140)\" d=\"M185.186 1063.85 L190.07 1063.85 L190.07 1069.73 L185.186 1069.73 L185.186 1063.85 Z\" fill=\"#000000\" fill-rule=\"nonzero\" fill-opacity=\"1\" /><path clip-path=\"url(#clip140)\" d=\"M200.301 1035.17 L218.658 1035.17 L218.658 1039.11 L204.584 1039.11 L204.584 1047.58 Q205.602 1047.23 206.621 1047.07 Q207.639 1046.89 208.658 1046.89 Q214.445 1046.89 217.824 1050.06 Q221.204 1053.23 221.204 1058.65 Q221.204 1064.22 217.732 1067.33 Q214.26 1070.41 207.94 1070.41 Q205.764 1070.41 203.496 1070.04 Q201.25 1069.66 198.843 1068.92 L198.843 1064.22 Q200.926 1065.36 203.149 1065.91 Q205.371 1066.47 207.848 1066.47 Q211.852 1066.47 214.19 1064.36 Q216.528 1062.26 216.528 1058.65 Q216.528 1055.04 214.19 1052.93 Q211.852 1050.82 207.848 1050.82 Q205.973 1050.82 204.098 1051.24 Q202.246 1051.66 200.301 1052.54 L200.301 1035.17 Z\" fill=\"#000000\" fill-rule=\"nonzero\" fill-opacity=\"1\" /><path clip-path=\"url(#clip140)\" d=\"M164.028 726.075 Q160.417 726.075 158.589 729.64 Q156.783 733.181 156.783 740.311 Q156.783 747.417 158.589 750.982 Q160.417 754.524 164.028 754.524 Q167.663 754.524 169.468 750.982 Q171.297 747.417 171.297 740.311 Q171.297 733.181 169.468 729.64 Q167.663 726.075 164.028 726.075 M164.028 722.371 Q169.839 722.371 172.894 726.978 Q175.973 731.561 175.973 740.311 Q175.973 749.038 172.894 753.644 Q169.839 758.228 164.028 758.228 Q158.218 758.228 155.14 753.644 Q152.084 749.038 152.084 740.311 Q152.084 731.561 155.14 726.978 Q158.218 722.371 164.028 722.371 Z\" fill=\"#000000\" fill-rule=\"nonzero\" fill-opacity=\"1\" /><path clip-path=\"url(#clip140)\" d=\"M184.19 751.677 L189.075 751.677 L189.075 757.556 L184.19 757.556 L184.19 751.677 Z\" fill=\"#000000\" fill-rule=\"nonzero\" fill-opacity=\"1\" /><path clip-path=\"url(#clip140)\" d=\"M209.26 726.075 Q205.649 726.075 203.82 729.64 Q202.014 733.181 202.014 740.311 Q202.014 747.417 203.82 750.982 Q205.649 754.524 209.26 754.524 Q212.894 754.524 214.699 750.982 Q216.528 747.417 216.528 740.311 Q216.528 733.181 214.699 729.64 Q212.894 726.075 209.26 726.075 M209.26 722.371 Q215.07 722.371 218.125 726.978 Q221.204 731.561 221.204 740.311 Q221.204 749.038 218.125 753.644 Q215.07 758.228 209.26 758.228 Q203.449 758.228 200.371 753.644 Q197.315 749.038 197.315 740.311 Q197.315 731.561 200.371 726.978 Q203.449 722.371 209.26 722.371 Z\" fill=\"#000000\" fill-rule=\"nonzero\" fill-opacity=\"1\" /><path clip-path=\"url(#clip140)\" d=\"M165.024 413.897 Q161.413 413.897 159.584 417.462 Q157.778 421.004 157.778 428.133 Q157.778 435.24 159.584 438.804 Q161.413 442.346 165.024 442.346 Q168.658 442.346 170.464 438.804 Q172.292 435.24 172.292 428.133 Q172.292 421.004 170.464 417.462 Q168.658 413.897 165.024 413.897 M165.024 410.193 Q170.834 410.193 173.889 414.8 Q176.968 419.383 176.968 428.133 Q176.968 436.86 173.889 441.466 Q170.834 446.05 165.024 446.05 Q159.214 446.05 156.135 441.466 Q153.079 436.86 153.079 428.133 Q153.079 419.383 156.135 414.8 Q159.214 410.193 165.024 410.193 Z\" fill=\"#000000\" fill-rule=\"nonzero\" fill-opacity=\"1\" /><path clip-path=\"url(#clip140)\" d=\"M185.186 439.499 L190.07 439.499 L190.07 445.378 L185.186 445.378 L185.186 439.499 Z\" fill=\"#000000\" fill-rule=\"nonzero\" fill-opacity=\"1\" /><path clip-path=\"url(#clip140)\" d=\"M200.301 410.818 L218.658 410.818 L218.658 414.754 L204.584 414.754 L204.584 423.226 Q205.602 422.879 206.621 422.717 Q207.639 422.531 208.658 422.531 Q214.445 422.531 217.824 425.703 Q221.204 428.874 221.204 434.291 Q221.204 439.869 217.732 442.971 Q214.26 446.05 207.94 446.05 Q205.764 446.05 203.496 445.679 Q201.25 445.309 198.843 444.568 L198.843 439.869 Q200.926 441.003 203.149 441.559 Q205.371 442.115 207.848 442.115 Q211.852 442.115 214.19 440.008 Q216.528 437.902 216.528 434.291 Q216.528 430.679 214.19 428.573 Q211.852 426.466 207.848 426.466 Q205.973 426.466 204.098 426.883 Q202.246 427.3 200.301 428.179 L200.301 410.818 Z\" fill=\"#000000\" fill-rule=\"nonzero\" fill-opacity=\"1\" /><path clip-path=\"url(#clip140)\" d=\"M154.839 129.265 L162.477 129.265 L162.477 102.9 L154.167 104.566 L154.167 100.307 L162.431 98.6405 L167.107 98.6405 L167.107 129.265 L174.746 129.265 L174.746 133.201 L154.839 133.201 L154.839 129.265 Z\" fill=\"#000000\" fill-rule=\"nonzero\" fill-opacity=\"1\" /><path clip-path=\"url(#clip140)\" d=\"M184.19 127.321 L189.075 127.321 L189.075 133.201 L184.19 133.201 L184.19 127.321 Z\" fill=\"#000000\" fill-rule=\"nonzero\" fill-opacity=\"1\" /><path clip-path=\"url(#clip140)\" d=\"M209.26 101.719 Q205.649 101.719 203.82 105.284 Q202.014 108.826 202.014 115.955 Q202.014 123.062 203.82 126.626 Q205.649 130.168 209.26 130.168 Q212.894 130.168 214.699 126.626 Q216.528 123.062 216.528 115.955 Q216.528 108.826 214.699 105.284 Q212.894 101.719 209.26 101.719 M209.26 98.0155 Q215.07 98.0155 218.125 102.622 Q221.204 107.205 221.204 115.955 Q221.204 124.682 218.125 129.289 Q215.07 133.872 209.26 133.872 Q203.449 133.872 200.371 129.289 Q197.315 124.682 197.315 115.955 Q197.315 107.205 200.371 102.622 Q203.449 98.0155 209.26 98.0155 Z\" fill=\"#000000\" fill-rule=\"nonzero\" fill-opacity=\"1\" /><path clip-path=\"url(#clip140)\" d=\"M21.7677 1426.45 L39.6235 1426.45 L39.6235 1418.36 Q39.6235 1413.88 37.3 1411.43 Q34.9765 1408.97 30.6797 1408.97 Q26.4147 1408.97 24.0912 1411.43 Q21.7677 1413.88 21.7677 1418.36 L21.7677 1426.45 M16.4842 1432.88 L16.4842 1418.36 Q16.4842 1410.37 20.1126 1406.3 Q23.7092 1402.19 30.6797 1402.19 Q37.7138 1402.19 41.3104 1406.3 Q44.907 1410.37 44.907 1418.36 L44.907 1426.45 L64.0042 1426.45 L64.0042 1432.88 L16.4842 1432.88 Z\" fill=\"#000000\" fill-rule=\"nonzero\" fill-opacity=\"1\" /><path clip-path=\"url(#clip140)\" d=\"M44.7161 1365.66 L47.5806 1365.66 L47.5806 1392.58 Q53.6281 1392.2 56.8109 1388.95 Q59.9619 1385.68 59.9619 1379.85 Q59.9619 1376.48 59.1344 1373.33 Q58.3069 1370.14 56.6518 1367.02 L62.1899 1367.02 Q63.5267 1370.18 64.227 1373.49 Q64.9272 1376.8 64.9272 1380.2 Q64.9272 1388.73 59.9619 1393.73 Q54.9967 1398.69 46.5303 1398.69 Q37.7774 1398.69 32.6531 1393.98 Q27.4968 1389.24 27.4968 1381.22 Q27.4968 1374.03 32.1438 1369.86 Q36.7589 1365.66 44.7161 1365.66 M42.9973 1371.51 Q38.1912 1371.58 35.3266 1374.22 Q32.4621 1376.83 32.4621 1381.16 Q32.4621 1386.06 35.2312 1389.02 Q38.0002 1391.95 43.0292 1392.39 L42.9973 1371.51 Z\" fill=\"#000000\" fill-rule=\"nonzero\" fill-opacity=\"1\" /><path clip-path=\"url(#clip140)\" d=\"M33.8307 1335.39 Q33.2578 1336.37 33.0032 1337.55 Q32.7167 1338.7 32.7167 1340.1 Q32.7167 1345.06 35.9632 1347.74 Q39.1779 1350.38 45.2253 1350.38 L64.0042 1350.38 L64.0042 1356.27 L28.3562 1356.27 L28.3562 1350.38 L33.8944 1350.38 Q30.6479 1348.53 29.0883 1345.57 Q27.4968 1342.61 27.4968 1338.38 Q27.4968 1337.77 27.5923 1337.04 Q27.656 1336.31 27.8151 1335.42 L33.8307 1335.39 Z\" fill=\"#000000\" fill-rule=\"nonzero\" fill-opacity=\"1\" /><path clip-path=\"url(#clip140)\" d=\"M29.7248 1305.02 L35.1993 1305.02 Q33.8307 1307.5 33.1623 1310.02 Q32.4621 1312.5 32.4621 1315.05 Q32.4621 1320.75 36.0905 1323.9 Q39.6872 1327.05 46.212 1327.05 Q52.7369 1327.05 56.3653 1323.9 Q59.9619 1320.75 59.9619 1315.05 Q59.9619 1312.5 59.2935 1310.02 Q58.5933 1307.5 57.2247 1305.02 L62.6355 1305.02 Q63.7814 1307.47 64.3543 1310.11 Q64.9272 1312.72 64.9272 1315.68 Q64.9272 1323.74 59.8664 1328.48 Q54.8057 1333.22 46.212 1333.22 Q37.491 1333.22 32.4939 1328.45 Q27.4968 1323.64 27.4968 1315.3 Q27.4968 1312.6 28.0697 1310.02 Q28.6108 1307.44 29.7248 1305.02 Z\" fill=\"#000000\" fill-rule=\"nonzero\" fill-opacity=\"1\" /><path clip-path=\"url(#clip140)\" d=\"M44.7161 1264.35 L47.5806 1264.35 L47.5806 1291.27 Q53.6281 1290.89 56.8109 1287.64 Q59.9619 1284.37 59.9619 1278.54 Q59.9619 1275.17 59.1344 1272.02 Q58.3069 1268.83 56.6518 1265.71 L62.1899 1265.71 Q63.5267 1268.87 64.227 1272.18 Q64.9272 1275.49 64.9272 1278.89 Q64.9272 1287.42 59.9619 1292.42 Q54.9967 1297.38 46.5303 1297.38 Q37.7774 1297.38 32.6531 1292.67 Q27.4968 1287.93 27.4968 1279.91 Q27.4968 1272.72 32.1438 1268.55 Q36.7589 1264.35 44.7161 1264.35 M42.9973 1270.2 Q38.1912 1270.27 35.3266 1272.91 Q32.4621 1275.52 32.4621 1279.85 Q32.4621 1284.75 35.2312 1287.71 Q38.0002 1290.64 43.0292 1291.08 L42.9973 1270.2 Z\" fill=\"#000000\" fill-rule=\"nonzero\" fill-opacity=\"1\" /><path clip-path=\"url(#clip140)\" d=\"M42.4881 1225.1 L64.0042 1225.1 L64.0042 1230.96 L42.679 1230.96 Q37.6183 1230.96 35.1038 1232.93 Q32.5894 1234.9 32.5894 1238.85 Q32.5894 1243.59 35.6131 1246.33 Q38.6368 1249.07 43.8567 1249.07 L64.0042 1249.07 L64.0042 1254.96 L28.3562 1254.96 L28.3562 1249.07 L33.8944 1249.07 Q30.6797 1246.97 29.0883 1244.13 Q27.4968 1241.27 27.4968 1237.55 Q27.4968 1231.4 31.3163 1228.25 Q35.1038 1225.1 42.4881 1225.1 Z\" fill=\"#000000\" fill-rule=\"nonzero\" fill-opacity=\"1\" /><path clip-path=\"url(#clip140)\" d=\"M18.2347 1207.63 L28.3562 1207.63 L28.3562 1195.56 L32.9077 1195.56 L32.9077 1207.63 L52.2594 1207.63 Q56.6199 1207.63 57.8613 1206.45 Q59.1026 1205.24 59.1026 1201.58 L59.1026 1195.56 L64.0042 1195.56 L64.0042 1201.58 Q64.0042 1208.36 61.4897 1210.94 Q58.9434 1213.52 52.2594 1213.52 L32.9077 1213.52 L32.9077 1217.81 L28.3562 1217.81 L28.3562 1213.52 L18.2347 1213.52 L18.2347 1207.63 Z\" fill=\"#000000\" fill-rule=\"nonzero\" fill-opacity=\"1\" /><path clip-path=\"url(#clip140)\" d=\"M46.0847 1171.66 Q46.0847 1178.76 47.7079 1181.5 Q49.3312 1184.23 53.2461 1184.23 Q56.3653 1184.23 58.2114 1182.2 Q60.0256 1180.13 60.0256 1176.59 Q60.0256 1171.72 56.5881 1168.8 Q53.1188 1165.84 47.3897 1165.84 L46.0847 1165.84 L46.0847 1171.66 M43.6657 1159.98 L64.0042 1159.98 L64.0042 1165.84 L58.5933 1165.84 Q61.8398 1167.84 63.3994 1170.83 Q64.9272 1173.83 64.9272 1178.15 Q64.9272 1183.63 61.8716 1186.87 Q58.7843 1190.09 53.6281 1190.09 Q47.6125 1190.09 44.5569 1186.08 Q41.5014 1182.04 41.5014 1174.05 L41.5014 1165.84 L40.9285 1165.84 Q36.8862 1165.84 34.6901 1168.51 Q32.4621 1171.15 32.4621 1175.96 Q32.4621 1179.01 33.1941 1181.91 Q33.9262 1184.81 35.3903 1187.48 L29.9795 1187.48 Q28.7381 1184.26 28.1334 1181.24 Q27.4968 1178.22 27.4968 1175.35 Q27.4968 1167.62 31.5072 1163.8 Q35.5176 1159.98 43.6657 1159.98 Z\" fill=\"#000000\" fill-rule=\"nonzero\" fill-opacity=\"1\" /><path clip-path=\"url(#clip140)\" d=\"M45.7664 1124.46 Q39.4007 1124.46 35.8996 1127.1 Q32.3984 1129.71 32.3984 1134.45 Q32.3984 1139.16 35.8996 1141.81 Q39.4007 1144.42 45.7664 1144.42 Q52.1003 1144.42 55.6014 1141.81 Q59.1026 1139.16 59.1026 1134.45 Q59.1026 1129.71 55.6014 1127.1 Q52.1003 1124.46 45.7664 1124.46 M59.58 1118.6 Q68.683 1118.6 73.1071 1122.64 Q77.5631 1126.69 77.5631 1135.03 Q77.5631 1138.11 77.0857 1140.85 Q76.6401 1143.59 75.6852 1146.17 L69.9879 1146.17 Q71.3884 1143.59 72.0568 1141.07 Q72.7252 1138.56 72.7252 1135.95 Q72.7252 1130.19 69.7015 1127.32 Q66.7096 1124.46 60.6303 1124.46 L57.7339 1124.46 Q60.885 1126.27 62.4446 1129.11 Q64.0042 1131.94 64.0042 1135.89 Q64.0042 1142.44 59.0071 1146.45 Q54.01 1150.46 45.7664 1150.46 Q37.491 1150.46 32.4939 1146.45 Q27.4968 1142.44 27.4968 1135.89 Q27.4968 1131.94 29.0564 1129.11 Q30.616 1126.27 33.7671 1124.46 L28.3562 1124.46 L28.3562 1118.6 L59.58 1118.6 Z\" fill=\"#000000\" fill-rule=\"nonzero\" fill-opacity=\"1\" /><path clip-path=\"url(#clip140)\" d=\"M44.7161 1076.05 L47.5806 1076.05 L47.5806 1102.97 Q53.6281 1102.59 56.8109 1099.35 Q59.9619 1096.07 59.9619 1090.24 Q59.9619 1086.87 59.1344 1083.72 Q58.3069 1080.54 56.6518 1077.42 L62.1899 1077.42 Q63.5267 1080.57 64.227 1083.88 Q64.9272 1087.19 64.9272 1090.59 Q64.9272 1099.12 59.9619 1104.12 Q54.9967 1109.09 46.5303 1109.09 Q37.7774 1109.09 32.6531 1104.38 Q27.4968 1099.63 27.4968 1091.61 Q27.4968 1084.42 32.1438 1080.25 Q36.7589 1076.05 44.7161 1076.05 M42.9973 1081.9 Q38.1912 1081.97 35.3266 1084.61 Q32.4621 1087.22 32.4621 1091.55 Q32.4621 1096.45 35.2312 1099.41 Q38.0002 1102.34 43.0292 1102.78 L42.9973 1081.9 Z\" fill=\"#000000\" fill-rule=\"nonzero\" fill-opacity=\"1\" /><path clip-path=\"url(#clip140)\" d=\"M20.1444 1009.88 L26.9239 1009.88 Q23.9002 1013.12 22.4043 1016.81 Q20.9083 1020.48 20.9083 1024.61 Q20.9083 1032.76 25.9054 1037.09 Q30.8707 1041.42 40.2919 1041.42 Q49.6813 1041.42 54.6784 1037.09 Q59.6436 1032.76 59.6436 1024.61 Q59.6436 1020.48 58.1477 1016.81 Q56.6518 1013.12 53.6281 1009.88 L60.3439 1009.88 Q62.6355 1013.25 63.7814 1017.04 Q64.9272 1020.79 64.9272 1024.99 Q64.9272 1035.78 58.3387 1041.99 Q51.7183 1048.2 40.2919 1048.2 Q28.8336 1048.2 22.2451 1041.99 Q15.6248 1035.78 15.6248 1024.99 Q15.6248 1020.73 16.7706 1016.97 Q17.8846 1013.19 20.1444 1009.88 Z\" fill=\"#000000\" fill-rule=\"nonzero\" fill-opacity=\"1\" /><path clip-path=\"url(#clip140)\" d=\"M42.4881 970.568 L64.0042 970.568 L64.0042 976.425 L42.679 976.425 Q37.6183 976.425 35.1038 978.398 Q32.5894 980.371 32.5894 984.318 Q32.5894 989.06 35.6131 991.798 Q38.6368 994.535 43.8567 994.535 L64.0042 994.535 L64.0042 1000.42 L14.479 1000.42 L14.479 994.535 L33.8944 994.535 Q30.6797 992.434 29.0883 989.602 Q27.4968 986.737 27.4968 983.013 Q27.4968 976.87 31.3163 973.719 Q35.1038 970.568 42.4881 970.568 Z\" fill=\"#000000\" fill-rule=\"nonzero\" fill-opacity=\"1\" /><path clip-path=\"url(#clip140)\" d=\"M46.0847 942.686 Q46.0847 949.784 47.7079 952.521 Q49.3312 955.259 53.2461 955.259 Q56.3653 955.259 58.2114 953.222 Q60.0256 951.153 60.0256 947.62 Q60.0256 942.75 56.5881 939.822 Q53.1188 936.862 47.3897 936.862 L46.0847 936.862 L46.0847 942.686 M43.6657 931.005 L64.0042 931.005 L64.0042 936.862 L58.5933 936.862 Q61.8398 938.867 63.3994 941.859 Q64.9272 944.851 64.9272 949.179 Q64.9272 954.654 61.8716 957.9 Q58.7843 961.115 53.6281 961.115 Q47.6125 961.115 44.5569 957.105 Q41.5014 953.062 41.5014 945.073 L41.5014 936.862 L40.9285 936.862 Q36.8862 936.862 34.6901 939.535 Q32.4621 942.177 32.4621 946.983 Q32.4621 950.039 33.1941 952.935 Q33.9262 955.831 35.3903 958.505 L29.9795 958.505 Q28.7381 955.29 28.1334 952.267 Q27.4968 949.243 27.4968 946.378 Q27.4968 938.644 31.5072 934.825 Q35.5176 931.005 43.6657 931.005 Z\" fill=\"#000000\" fill-rule=\"nonzero\" fill-opacity=\"1\" /><path clip-path=\"url(#clip140)\" d=\"M42.4881 889.31 L64.0042 889.31 L64.0042 895.166 L42.679 895.166 Q37.6183 895.166 35.1038 897.14 Q32.5894 899.113 32.5894 903.06 Q32.5894 907.802 35.6131 910.539 Q38.6368 913.277 43.8567 913.277 L64.0042 913.277 L64.0042 919.165 L28.3562 919.165 L28.3562 913.277 L33.8944 913.277 Q30.6797 911.176 29.0883 908.343 Q27.4968 905.479 27.4968 901.755 Q27.4968 895.612 31.3163 892.461 Q35.1038 889.31 42.4881 889.31 Z\" fill=\"#000000\" fill-rule=\"nonzero\" fill-opacity=\"1\" /><path clip-path=\"url(#clip140)\" d=\"M45.7664 854.171 Q39.4007 854.171 35.8996 856.813 Q32.3984 859.423 32.3984 864.165 Q32.3984 868.876 35.8996 871.518 Q39.4007 874.128 45.7664 874.128 Q52.1003 874.128 55.6014 871.518 Q59.1026 868.876 59.1026 864.165 Q59.1026 859.423 55.6014 856.813 Q52.1003 854.171 45.7664 854.171 M59.58 848.315 Q68.683 848.315 73.1071 852.357 Q77.5631 856.399 77.5631 864.738 Q77.5631 867.826 77.0857 870.563 Q76.6401 873.3 75.6852 875.878 L69.9879 875.878 Q71.3884 873.3 72.0568 870.786 Q72.7252 868.271 72.7252 865.661 Q72.7252 859.9 69.7015 857.036 Q66.7096 854.171 60.6303 854.171 L57.7339 854.171 Q60.885 855.985 62.4446 858.818 Q64.0042 861.651 64.0042 865.598 Q64.0042 872.154 59.0071 876.165 Q54.01 880.175 45.7664 880.175 Q37.491 880.175 32.4939 876.165 Q27.4968 872.154 27.4968 865.598 Q27.4968 861.651 29.0564 858.818 Q30.616 855.985 33.7671 854.171 L28.3562 854.171 L28.3562 848.315 L59.58 848.315 Z\" fill=\"#000000\" fill-rule=\"nonzero\" fill-opacity=\"1\" /><path clip-path=\"url(#clip140)\" d=\"M44.7161 805.76 L47.5806 805.76 L47.5806 832.687 Q53.6281 832.305 56.8109 829.058 Q59.9619 825.78 59.9619 819.955 Q59.9619 816.582 59.1344 813.431 Q58.3069 810.248 56.6518 807.129 L62.1899 807.129 Q63.5267 810.28 64.227 813.59 Q64.9272 816.9 64.9272 820.306 Q64.9272 828.836 59.9619 833.833 Q54.9967 838.798 46.5303 838.798 Q37.7774 838.798 32.6531 834.087 Q27.4968 829.345 27.4968 821.324 Q27.4968 814.131 32.1438 809.961 Q36.7589 805.76 44.7161 805.76 M42.9973 811.616 Q38.1912 811.68 35.3266 814.322 Q32.4621 816.932 32.4621 821.26 Q32.4621 826.162 35.2312 829.122 Q38.0002 832.05 43.0292 832.496 L42.9973 811.616 Z\" fill=\"#000000\" fill-rule=\"nonzero\" fill-opacity=\"1\" /><path clip-path=\"url(#clip140)\" d=\"M21.7677 768.743 L39.6235 768.743 L39.6235 760.659 Q39.6235 756.171 37.3 753.72 Q34.9765 751.269 30.6797 751.269 Q26.4147 751.269 24.0912 753.72 Q21.7677 756.171 21.7677 760.659 L21.7677 768.743 M16.4842 775.173 L16.4842 760.659 Q16.4842 752.67 20.1126 748.596 Q23.7092 744.49 30.6797 744.49 Q37.7138 744.49 41.3104 748.596 Q44.907 752.67 44.907 760.659 L44.907 768.743 L64.0042 768.743 L64.0042 775.173 L16.4842 775.173 Z\" fill=\"#000000\" fill-rule=\"nonzero\" fill-opacity=\"1\" /><path clip-path=\"url(#clip140)\" d=\"M33.8307 716.608 Q33.2578 717.595 33.0032 718.773 Q32.7167 719.918 32.7167 721.319 Q32.7167 726.284 35.9632 728.958 Q39.1779 731.599 45.2253 731.599 L64.0042 731.599 L64.0042 737.488 L28.3562 737.488 L28.3562 731.599 L33.8944 731.599 Q30.6479 729.753 29.0883 726.793 Q27.4968 723.833 27.4968 719.6 Q27.4968 718.995 27.5923 718.263 Q27.656 717.531 27.8151 716.64 L33.8307 716.608 Z\" fill=\"#000000\" fill-rule=\"nonzero\" fill-opacity=\"1\" /><path clip-path=\"url(#clip140)\" d=\"M28.3562 710.465 L28.3562 704.609 L64.0042 704.609 L64.0042 710.465 L28.3562 710.465 M14.479 710.465 L14.479 704.609 L21.895 704.609 L21.895 710.465 L14.479 710.465 Z\" fill=\"#000000\" fill-rule=\"nonzero\" fill-opacity=\"1\" /><path clip-path=\"url(#clip140)\" d=\"M29.7248 666.701 L35.1993 666.701 Q33.8307 669.184 33.1623 671.698 Q32.4621 674.181 32.4621 676.727 Q32.4621 682.424 36.0905 685.575 Q39.6872 688.726 46.212 688.726 Q52.7369 688.726 56.3653 685.575 Q59.9619 682.424 59.9619 676.727 Q59.9619 674.181 59.2935 671.698 Q58.5933 669.184 57.2247 666.701 L62.6355 666.701 Q63.7814 669.152 64.3543 671.794 Q64.9272 674.404 64.9272 677.364 Q64.9272 685.416 59.8664 690.159 Q54.8057 694.901 46.212 694.901 Q37.491 694.901 32.4939 690.127 Q27.4968 685.321 27.4968 676.982 Q27.4968 674.276 28.0697 671.698 Q28.6108 669.12 29.7248 666.701 Z\" fill=\"#000000\" fill-rule=\"nonzero\" fill-opacity=\"1\" /><path clip-path=\"url(#clip140)\" d=\"M44.7161 626.024 L47.5806 626.024 L47.5806 652.951 Q53.6281 652.569 56.8109 649.323 Q59.9619 646.044 59.9619 640.22 Q59.9619 636.846 59.1344 633.695 Q58.3069 630.512 56.6518 627.393 L62.1899 627.393 Q63.5267 630.544 64.227 633.854 Q64.9272 637.164 64.9272 640.57 Q64.9272 649.1 59.9619 654.097 Q54.9967 659.062 46.5303 659.062 Q37.7774 659.062 32.6531 654.352 Q27.4968 649.609 27.4968 641.588 Q27.4968 634.395 32.1438 630.226 Q36.7589 626.024 44.7161 626.024 M42.9973 631.881 Q38.1912 631.944 35.3266 634.586 Q32.4621 637.196 32.4621 641.525 Q32.4621 646.426 35.2312 649.386 Q38.0002 652.315 43.0292 652.76 L42.9973 631.881 Z\" fill=\"#000000\" fill-rule=\"nonzero\" fill-opacity=\"1\" /><path clip-path=\"url(#clip140)\" d=\"M41.3104 589.008 L58.7206 589.008 L58.7206 578.695 Q58.7206 573.507 56.5881 571.024 Q54.4238 568.51 49.9996 568.51 Q45.5436 568.51 43.4429 571.024 Q41.3104 573.507 41.3104 578.695 L41.3104 589.008 M21.7677 589.008 L36.0905 589.008 L36.0905 579.491 Q36.0905 574.78 34.34 572.489 Q32.5576 570.165 28.9291 570.165 Q25.3325 570.165 23.5501 572.489 Q21.7677 574.78 21.7677 579.491 L21.7677 589.008 M16.4842 595.437 L16.4842 579.013 Q16.4842 571.661 19.5397 567.682 Q22.5952 563.704 28.2289 563.704 Q32.5894 563.704 35.1675 565.741 Q37.7456 567.778 38.3822 571.725 Q39.4007 566.982 42.6472 564.372 Q45.8619 561.731 50.6998 561.731 Q57.0655 561.731 60.5348 566.059 Q64.0042 570.388 64.0042 578.377 L64.0042 595.437 L16.4842 595.437 Z\" fill=\"#000000\" fill-rule=\"nonzero\" fill-opacity=\"1\" /><path clip-path=\"url(#clip140)\" d=\"M28.3562 550.973 L28.3562 545.116 L64.0042 545.116 L64.0042 550.973 L28.3562 550.973 M14.479 550.973 L14.479 545.116 L21.895 545.116 L21.895 550.973 L14.479 550.973 Z\" fill=\"#000000\" fill-rule=\"nonzero\" fill-opacity=\"1\" /><path clip-path=\"url(#clip140)\" d=\"M14.479 532.862 L14.479 527.006 L64.0042 527.006 L64.0042 532.862 L14.479 532.862 Z\" fill=\"#000000\" fill-rule=\"nonzero\" fill-opacity=\"1\" /><path clip-path=\"url(#clip140)\" d=\"M14.479 514.752 L14.479 508.895 L64.0042 508.895 L64.0042 514.752 L14.479 514.752 Z\" fill=\"#000000\" fill-rule=\"nonzero\" fill-opacity=\"1\" /><path clip-path=\"url(#clip140)\" d=\"M55.9197 495.145 L55.9197 488.429 L61.3942 488.429 L71.5793 493.649 L71.5793 497.755 L61.3942 495.145 L55.9197 495.145 Z\" fill=\"#000000\" fill-rule=\"nonzero\" fill-opacity=\"1\" /><path clip-path=\"url(#clip140)\" d=\"M16.4842 454.946 L16.4842 446.288 L56.238 425.218 L16.4842 425.218 L16.4842 418.98 L64.0042 418.98 L64.0042 427.637 L24.2503 448.707 L64.0042 448.707 L64.0042 454.946 L16.4842 454.946 Z\" fill=\"#000000\" fill-rule=\"nonzero\" fill-opacity=\"1\" /><path clip-path=\"url(#clip140)\" d=\"M32.4621 392.626 Q32.4621 397.336 36.1542 400.073 Q39.8145 402.811 46.212 402.811 Q52.6095 402.811 56.3017 400.105 Q59.9619 397.368 59.9619 392.626 Q59.9619 387.947 56.2698 385.21 Q52.5777 382.472 46.212 382.472 Q39.8781 382.472 36.186 385.21 Q32.4621 387.947 32.4621 392.626 M27.4968 392.626 Q27.4968 384.987 32.4621 380.626 Q37.4273 376.266 46.212 376.266 Q54.9649 376.266 59.9619 380.626 Q64.9272 384.987 64.9272 392.626 Q64.9272 400.296 59.9619 404.657 Q54.9649 408.985 46.212 408.985 Q37.4273 408.985 32.4621 404.657 Q27.4968 400.296 27.4968 392.626 Z\" fill=\"#000000\" fill-rule=\"nonzero\" fill-opacity=\"1\" /><path clip-path=\"url(#clip140)\" d=\"M18.2347 360.765 L28.3562 360.765 L28.3562 348.702 L32.9077 348.702 L32.9077 360.765 L52.2594 360.765 Q56.6199 360.765 57.8613 359.588 Q59.1026 358.378 59.1026 354.718 L59.1026 348.702 L64.0042 348.702 L64.0042 354.718 Q64.0042 361.497 61.4897 364.075 Q58.9434 366.653 52.2594 366.653 L32.9077 366.653 L32.9077 370.95 L28.3562 370.95 L28.3562 366.653 L18.2347 366.653 L18.2347 360.765 Z\" fill=\"#000000\" fill-rule=\"nonzero\" fill-opacity=\"1\" /><path clip-path=\"url(#clip140)\" d=\"M44.7161 310.508 L47.5806 310.508 L47.5806 337.435 Q53.6281 337.053 56.8109 333.806 Q59.9619 330.528 59.9619 324.703 Q59.9619 321.33 59.1344 318.179 Q58.3069 314.996 56.6518 311.877 L62.1899 311.877 Q63.5267 315.028 64.227 318.338 Q64.9272 321.648 64.9272 325.054 Q64.9272 333.584 59.9619 338.581 Q54.9967 343.546 46.5303 343.546 Q37.7774 343.546 32.6531 338.835 Q27.4968 334.093 27.4968 326.072 Q27.4968 318.879 32.1438 314.709 Q36.7589 310.508 44.7161 310.508 M42.9973 316.364 Q38.1912 316.428 35.3266 319.07 Q32.4621 321.68 32.4621 326.008 Q32.4621 330.91 35.2312 333.87 Q38.0002 336.798 43.0292 337.244 L42.9973 316.364 Z\" fill=\"#000000\" fill-rule=\"nonzero\" fill-opacity=\"1\" /><path clip-path=\"url(#clip140)\" d=\"M32.4621 266.362 Q32.4621 271.072 36.1542 273.81 Q39.8145 276.547 46.212 276.547 Q52.6095 276.547 56.3017 273.841 Q59.9619 271.104 59.9619 266.362 Q59.9619 261.683 56.2698 258.946 Q52.5777 256.208 46.212 256.208 Q39.8781 256.208 36.186 258.946 Q32.4621 261.683 32.4621 266.362 M27.4968 266.362 Q27.4968 258.723 32.4621 254.362 Q37.4273 250.002 46.212 250.002 Q54.9649 250.002 59.9619 254.362 Q64.9272 258.723 64.9272 266.362 Q64.9272 274.032 59.9619 278.393 Q54.9649 282.722 46.212 282.722 Q37.4273 282.722 32.4621 278.393 Q27.4968 274.032 27.4968 266.362 Z\" fill=\"#000000\" fill-rule=\"nonzero\" fill-opacity=\"1\" /><path clip-path=\"url(#clip140)\" d=\"M33.8307 219.637 Q33.2578 220.624 33.0032 221.802 Q32.7167 222.948 32.7167 224.348 Q32.7167 229.313 35.9632 231.987 Q39.1779 234.629 45.2253 234.629 L64.0042 234.629 L64.0042 240.517 L28.3562 240.517 L28.3562 234.629 L33.8944 234.629 Q30.6479 232.783 29.0883 229.823 Q27.4968 226.863 27.4968 222.629 Q27.4968 222.025 27.5923 221.293 Q27.656 220.561 27.8151 219.669 L33.8307 219.637 Z\" fill=\"#000000\" fill-rule=\"nonzero\" fill-opacity=\"1\" /><path clip-path=\"url(#clip140)\" d=\"M41.3104 186.09 L58.7206 186.09 L58.7206 175.778 Q58.7206 170.59 56.5881 168.107 Q54.4238 165.593 49.9996 165.593 Q45.5436 165.593 43.4429 168.107 Q41.3104 170.59 41.3104 175.778 L41.3104 186.09 M21.7677 186.09 L36.0905 186.09 L36.0905 176.573 Q36.0905 171.863 34.34 169.571 Q32.5576 167.248 28.9291 167.248 Q25.3325 167.248 23.5501 169.571 Q21.7677 171.863 21.7677 176.573 L21.7677 186.09 M16.4842 192.52 L16.4842 176.096 Q16.4842 168.744 19.5397 164.765 Q22.5952 160.787 28.2289 160.787 Q32.5894 160.787 35.1675 162.824 Q37.7456 164.861 38.3822 168.807 Q39.4007 164.065 42.6472 161.455 Q45.8619 158.813 50.6998 158.813 Q57.0655 158.813 60.5348 163.142 Q64.0042 167.471 64.0042 175.459 L64.0042 192.52 L16.4842 192.52 Z\" fill=\"#000000\" fill-rule=\"nonzero\" fill-opacity=\"1\" /><path clip-path=\"url(#clip140)\" d=\"M32.4621 134.242 Q32.4621 138.952 36.1542 141.689 Q39.8145 144.427 46.212 144.427 Q52.6095 144.427 56.3017 141.721 Q59.9619 138.984 59.9619 134.242 Q59.9619 129.563 56.2698 126.825 Q52.5777 124.088 46.212 124.088 Q39.8781 124.088 36.186 126.825 Q32.4621 129.563 32.4621 134.242 M27.4968 134.242 Q27.4968 126.603 32.4621 122.242 Q37.4273 117.882 46.212 117.882 Q54.9649 117.882 59.9619 122.242 Q64.9272 126.603 64.9272 134.242 Q64.9272 141.912 59.9619 146.273 Q54.9649 150.601 46.212 150.601 Q37.4273 150.601 32.4621 146.273 Q27.4968 141.912 27.4968 134.242 Z\" fill=\"#000000\" fill-rule=\"nonzero\" fill-opacity=\"1\" /><path clip-path=\"url(#clip140)\" d=\"M42.4881 78.5416 L64.0042 78.5416 L64.0042 84.398 L42.679 84.398 Q37.6183 84.398 35.1038 86.3714 Q32.5894 88.3448 32.5894 92.2915 Q32.5894 97.034 35.6131 99.7712 Q38.6368 102.508 43.8567 102.508 L64.0042 102.508 L64.0042 108.397 L28.3562 108.397 L28.3562 102.508 L33.8944 102.508 Q30.6797 100.408 29.0883 97.575 Q27.4968 94.7105 27.4968 90.9865 Q27.4968 84.8436 31.3163 81.6926 Q35.1038 78.5416 42.4881 78.5416 Z\" fill=\"#000000\" fill-rule=\"nonzero\" fill-opacity=\"1\" /><path clip-path=\"url(#clip140)\" d=\"M33.7671 43.4029 L14.479 43.4029 L14.479 37.5464 L64.0042 37.5464 L64.0042 43.4029 L58.657 43.4029 Q61.8398 45.2489 63.3994 48.0817 Q64.9272 50.8826 64.9272 54.8293 Q64.9272 61.2905 59.771 65.3646 Q54.6147 69.4068 46.212 69.4068 Q37.8093 69.4068 32.6531 65.3646 Q27.4968 61.2905 27.4968 54.8293 Q27.4968 50.8826 29.0564 48.0817 Q30.5842 45.2489 33.7671 43.4029 M46.212 63.3594 Q52.6732 63.3594 56.3653 60.7176 Q60.0256 58.044 60.0256 53.397 Q60.0256 48.7501 56.3653 46.0765 Q52.6732 43.4029 46.212 43.4029 Q39.7508 43.4029 36.0905 46.0765 Q32.3984 48.7501 32.3984 53.397 Q32.3984 58.044 36.0905 60.7176 Q39.7508 63.3594 46.212 63.3594 Z\" fill=\"#000000\" fill-rule=\"nonzero\" fill-opacity=\"1\" /><polyline clip-path=\"url(#clip142)\" style=\"stroke:#000000; stroke-linecap:round; stroke-linejoin:round; stroke-width:12; stroke-opacity:1; fill:none\" points=\"316.512,689.847 514.206,700.154 711.899,710.055 909.593,720.141 1107.29,729.991 1304.98,740.043 1502.67,749.114 1700.37,756.744 1898.06,763.463 2095.75,769.626 2293.45,774.978 \"/>\n",
       "<polyline clip-path=\"url(#clip142)\" style=\"stroke:#b0b0b0; stroke-linecap:round; stroke-linejoin:round; stroke-width:12; stroke-opacity:1; fill:none\" points=\"316.512,86.1857 514.206,217.824 711.899,349.051 909.593,479.867 1107.29,610.275 1304.98,740.276 1502.67,869.872 1700.37,999.065 1898.06,1127.86 2095.75,1256.25 2293.45,1384.24 \"/>\n",
       "<path clip-path=\"url(#clip140)\" d=\"M1738.72 248.629 L2282.9 248.629 L2282.9 93.1086 L1738.72 93.1086  Z\" fill=\"#ffffff\" fill-rule=\"evenodd\" fill-opacity=\"1\"/>\n",
       "<polyline clip-path=\"url(#clip140)\" style=\"stroke:#000000; stroke-linecap:round; stroke-linejoin:round; stroke-width:4; stroke-opacity:1; fill:none\" points=\"1738.72,248.629 2282.9,248.629 2282.9,93.1086 1738.72,93.1086 1738.72,248.629 \"/>\n",
       "<polyline clip-path=\"url(#clip140)\" style=\"stroke:#000000; stroke-linecap:round; stroke-linejoin:round; stroke-width:12; stroke-opacity:1; fill:none\" points=\"1762.01,144.949 1901.71,144.949 \"/>\n",
       "<path clip-path=\"url(#clip140)\" d=\"M1947.24 128.803 L1947.24 133.363 Q1944.58 132.09 1942.21 131.465 Q1939.85 130.84 1937.65 130.84 Q1933.83 130.84 1931.75 132.321 Q1929.69 133.803 1929.69 136.534 Q1929.69 138.826 1931.06 140.007 Q1932.45 141.164 1936.29 141.882 L1939.11 142.46 Q1944.34 143.456 1946.82 145.979 Q1949.32 148.479 1949.32 152.692 Q1949.32 157.715 1945.94 160.307 Q1942.58 162.9 1936.08 162.9 Q1933.63 162.9 1930.85 162.344 Q1928.09 161.789 1925.13 160.701 L1925.13 155.886 Q1927.98 157.483 1930.71 158.293 Q1933.44 159.104 1936.08 159.104 Q1940.08 159.104 1942.26 157.53 Q1944.44 155.956 1944.44 153.039 Q1944.44 150.493 1942.86 149.057 Q1941.31 147.622 1937.75 146.905 L1934.9 146.349 Q1929.67 145.307 1927.33 143.085 Q1924.99 140.863 1924.99 136.905 Q1924.99 132.321 1928.21 129.682 Q1931.45 127.044 1937.12 127.044 Q1939.55 127.044 1942.08 127.483 Q1944.6 127.923 1947.24 128.803 Z\" fill=\"#000000\" fill-rule=\"nonzero\" fill-opacity=\"1\" /><path clip-path=\"url(#clip140)\" d=\"M1977.98 146.581 L1977.98 162.229 L1973.72 162.229 L1973.72 146.719 Q1973.72 143.039 1972.28 141.21 Q1970.85 139.382 1967.98 139.382 Q1964.53 139.382 1962.54 141.581 Q1960.55 143.78 1960.55 147.576 L1960.55 162.229 L1956.27 162.229 L1956.27 126.21 L1960.55 126.21 L1960.55 140.331 Q1962.08 137.993 1964.14 136.835 Q1966.22 135.678 1968.93 135.678 Q1973.39 135.678 1975.69 138.456 Q1977.98 141.21 1977.98 146.581 Z\" fill=\"#000000\" fill-rule=\"nonzero\" fill-opacity=\"1\" /><path clip-path=\"url(#clip140)\" d=\"M1996.52 139.289 Q1993.09 139.289 1991.1 141.974 Q1989.11 144.636 1989.11 149.289 Q1989.11 153.942 1991.08 156.627 Q1993.07 159.289 1996.52 159.289 Q1999.92 159.289 2001.91 156.604 Q2003.9 153.918 2003.9 149.289 Q2003.9 144.682 2001.91 141.997 Q1999.92 139.289 1996.52 139.289 M1996.52 135.678 Q2002.08 135.678 2005.25 139.289 Q2008.42 142.9 2008.42 149.289 Q2008.42 155.655 2005.25 159.289 Q2002.08 162.9 1996.52 162.9 Q1990.94 162.9 1987.77 159.289 Q1984.62 155.655 1984.62 149.289 Q1984.62 142.9 1987.77 139.289 Q1990.94 135.678 1996.52 135.678 Z\" fill=\"#000000\" fill-rule=\"nonzero\" fill-opacity=\"1\" /><path clip-path=\"url(#clip140)\" d=\"M2030.5 140.284 Q2029.78 139.868 2028.93 139.682 Q2028.09 139.474 2027.08 139.474 Q2023.46 139.474 2021.52 141.835 Q2019.6 144.173 2019.6 148.571 L2019.6 162.229 L2015.32 162.229 L2015.32 136.303 L2019.6 136.303 L2019.6 140.331 Q2020.94 137.969 2023.09 136.835 Q2025.25 135.678 2028.33 135.678 Q2028.77 135.678 2029.3 135.747 Q2029.83 135.794 2030.48 135.909 L2030.5 140.284 Z\" fill=\"#000000\" fill-rule=\"nonzero\" fill-opacity=\"1\" /><path clip-path=\"url(#clip140)\" d=\"M2039.18 128.942 L2039.18 136.303 L2047.95 136.303 L2047.95 139.613 L2039.18 139.613 L2039.18 153.687 Q2039.18 156.858 2040.04 157.761 Q2040.92 158.664 2043.58 158.664 L2047.95 158.664 L2047.95 162.229 L2043.58 162.229 Q2038.65 162.229 2036.77 160.4 Q2034.9 158.548 2034.9 153.687 L2034.9 139.613 L2031.77 139.613 L2031.77 136.303 L2034.9 136.303 L2034.9 128.942 L2039.18 128.942 Z\" fill=\"#000000\" fill-rule=\"nonzero\" fill-opacity=\"1\" /><path clip-path=\"url(#clip140)\" d=\"M2085.69 140.238 L2085.69 126.21 L2089.95 126.21 L2089.95 162.229 L2085.69 162.229 L2085.69 158.34 Q2084.34 160.655 2082.28 161.789 Q2080.25 162.9 2077.38 162.9 Q2072.68 162.9 2069.71 159.15 Q2066.77 155.4 2066.77 149.289 Q2066.77 143.178 2069.71 139.428 Q2072.68 135.678 2077.38 135.678 Q2080.25 135.678 2082.28 136.812 Q2084.34 137.923 2085.69 140.238 M2071.17 149.289 Q2071.17 153.988 2073.09 156.673 Q2075.04 159.335 2078.42 159.335 Q2081.8 159.335 2083.74 156.673 Q2085.69 153.988 2085.69 149.289 Q2085.69 144.59 2083.74 141.928 Q2081.8 139.243 2078.42 139.243 Q2075.04 139.243 2073.09 141.928 Q2071.17 144.59 2071.17 149.289 Z\" fill=\"#000000\" fill-rule=\"nonzero\" fill-opacity=\"1\" /><path clip-path=\"url(#clip140)\" d=\"M2098.28 151.997 L2098.28 136.303 L2102.54 136.303 L2102.54 151.835 Q2102.54 155.516 2103.97 157.368 Q2105.41 159.196 2108.28 159.196 Q2111.73 159.196 2113.72 156.997 Q2115.73 154.798 2115.73 151.002 L2115.73 136.303 L2119.99 136.303 L2119.99 162.229 L2115.73 162.229 L2115.73 158.247 Q2114.18 160.608 2112.12 161.766 Q2110.08 162.9 2107.38 162.9 Q2102.91 162.9 2100.59 160.122 Q2098.28 157.344 2098.28 151.997 M2109 135.678 L2109 135.678 Z\" fill=\"#000000\" fill-rule=\"nonzero\" fill-opacity=\"1\" /><path clip-path=\"url(#clip140)\" d=\"M2143.79 140.284 Q2143.07 139.868 2142.21 139.682 Q2141.38 139.474 2140.36 139.474 Q2136.75 139.474 2134.81 141.835 Q2132.88 144.173 2132.88 148.571 L2132.88 162.229 L2128.6 162.229 L2128.6 136.303 L2132.88 136.303 L2132.88 140.331 Q2134.23 137.969 2136.38 136.835 Q2138.53 135.678 2141.61 135.678 Q2142.05 135.678 2142.58 135.747 Q2143.12 135.794 2143.76 135.909 L2143.79 140.284 Z\" fill=\"#000000\" fill-rule=\"nonzero\" fill-opacity=\"1\" /><path clip-path=\"url(#clip140)\" d=\"M2160.04 149.196 Q2154.88 149.196 2152.88 150.377 Q2150.89 151.557 2150.89 154.405 Q2150.89 156.673 2152.38 158.016 Q2153.88 159.335 2156.45 159.335 Q2159.99 159.335 2162.12 156.835 Q2164.27 154.312 2164.27 150.145 L2164.27 149.196 L2160.04 149.196 M2168.53 147.437 L2168.53 162.229 L2164.27 162.229 L2164.27 158.293 Q2162.82 160.655 2160.64 161.789 Q2158.46 162.9 2155.32 162.9 Q2151.33 162.9 2148.97 160.678 Q2146.63 158.432 2146.63 154.682 Q2146.63 150.307 2149.55 148.085 Q2152.49 145.863 2158.3 145.863 L2164.27 145.863 L2164.27 145.446 Q2164.27 142.507 2162.33 140.909 Q2160.41 139.289 2156.91 139.289 Q2154.69 139.289 2152.58 139.821 Q2150.48 140.354 2148.53 141.419 L2148.53 137.483 Q2150.87 136.581 2153.07 136.141 Q2155.27 135.678 2157.35 135.678 Q2162.98 135.678 2165.76 138.594 Q2168.53 141.511 2168.53 147.437 Z\" fill=\"#000000\" fill-rule=\"nonzero\" fill-opacity=\"1\" /><path clip-path=\"url(#clip140)\" d=\"M2181.52 128.942 L2181.52 136.303 L2190.29 136.303 L2190.29 139.613 L2181.52 139.613 L2181.52 153.687 Q2181.52 156.858 2182.38 157.761 Q2183.25 158.664 2185.92 158.664 L2190.29 158.664 L2190.29 162.229 L2185.92 162.229 Q2180.99 162.229 2179.11 160.4 Q2177.24 158.548 2177.24 153.687 L2177.24 139.613 L2174.11 139.613 L2174.11 136.303 L2177.24 136.303 L2177.24 128.942 L2181.52 128.942 Z\" fill=\"#000000\" fill-rule=\"nonzero\" fill-opacity=\"1\" /><path clip-path=\"url(#clip140)\" d=\"M2195.89 136.303 L2200.15 136.303 L2200.15 162.229 L2195.89 162.229 L2195.89 136.303 M2195.89 126.21 L2200.15 126.21 L2200.15 131.604 L2195.89 131.604 L2195.89 126.21 Z\" fill=\"#000000\" fill-rule=\"nonzero\" fill-opacity=\"1\" /><path clip-path=\"url(#clip140)\" d=\"M2219.11 139.289 Q2215.69 139.289 2213.69 141.974 Q2211.7 144.636 2211.7 149.289 Q2211.7 153.942 2213.67 156.627 Q2215.66 159.289 2219.11 159.289 Q2222.51 159.289 2224.5 156.604 Q2226.5 153.918 2226.5 149.289 Q2226.5 144.682 2224.5 141.997 Q2222.51 139.289 2219.11 139.289 M2219.11 135.678 Q2224.67 135.678 2227.84 139.289 Q2231.01 142.9 2231.01 149.289 Q2231.01 155.655 2227.84 159.289 Q2224.67 162.9 2219.11 162.9 Q2213.53 162.9 2210.36 159.289 Q2207.21 155.655 2207.21 149.289 Q2207.21 142.9 2210.36 139.289 Q2213.53 135.678 2219.11 135.678 Z\" fill=\"#000000\" fill-rule=\"nonzero\" fill-opacity=\"1\" /><path clip-path=\"url(#clip140)\" d=\"M2259.62 146.581 L2259.62 162.229 L2255.36 162.229 L2255.36 146.719 Q2255.36 143.039 2253.93 141.21 Q2252.49 139.382 2249.62 139.382 Q2246.17 139.382 2244.18 141.581 Q2242.19 143.78 2242.19 147.576 L2242.19 162.229 L2237.91 162.229 L2237.91 136.303 L2242.19 136.303 L2242.19 140.331 Q2243.72 137.993 2245.78 136.835 Q2247.86 135.678 2250.57 135.678 Q2255.04 135.678 2257.33 138.456 Q2259.62 141.21 2259.62 146.581 Z\" fill=\"#000000\" fill-rule=\"nonzero\" fill-opacity=\"1\" /><polyline clip-path=\"url(#clip140)\" style=\"stroke:#b0b0b0; stroke-linecap:round; stroke-linejoin:round; stroke-width:12; stroke-opacity:1; fill:none\" points=\"1762.01,196.789 1901.71,196.789 \"/>\n",
       "<path clip-path=\"url(#clip140)\" d=\"M1924.99 179.509 L1929.67 179.509 L1929.67 210.133 L1946.5 210.133 L1946.5 214.069 L1924.99 214.069 L1924.99 179.509 Z\" fill=\"#000000\" fill-rule=\"nonzero\" fill-opacity=\"1\" /><path clip-path=\"url(#clip140)\" d=\"M1960.43 191.129 Q1957.01 191.129 1955.02 193.814 Q1953.02 196.476 1953.02 201.129 Q1953.02 205.782 1954.99 208.467 Q1956.98 211.129 1960.43 211.129 Q1963.83 211.129 1965.83 208.444 Q1967.82 205.758 1967.82 201.129 Q1967.82 196.522 1965.83 193.837 Q1963.83 191.129 1960.43 191.129 M1960.43 187.518 Q1965.99 187.518 1969.16 191.129 Q1972.33 194.74 1972.33 201.129 Q1972.33 207.495 1969.16 211.129 Q1965.99 214.74 1960.43 214.74 Q1954.85 214.74 1951.68 211.129 Q1948.53 207.495 1948.53 201.129 Q1948.53 194.74 1951.68 191.129 Q1954.85 187.518 1960.43 187.518 Z\" fill=\"#000000\" fill-rule=\"nonzero\" fill-opacity=\"1\" /><path clip-path=\"url(#clip140)\" d=\"M2000.94 198.421 L2000.94 214.069 L1996.68 214.069 L1996.68 198.559 Q1996.68 194.879 1995.25 193.05 Q1993.81 191.222 1990.94 191.222 Q1987.49 191.222 1985.5 193.421 Q1983.51 195.62 1983.51 199.416 L1983.51 214.069 L1979.23 214.069 L1979.23 188.143 L1983.51 188.143 L1983.51 192.171 Q1985.04 189.833 1987.1 188.675 Q1989.18 187.518 1991.89 187.518 Q1996.36 187.518 1998.65 190.296 Q2000.94 193.05 2000.94 198.421 Z\" fill=\"#000000\" fill-rule=\"nonzero\" fill-opacity=\"1\" /><path clip-path=\"url(#clip140)\" d=\"M2026.5 200.805 Q2026.5 196.175 2024.58 193.629 Q2022.68 191.083 2019.23 191.083 Q2015.8 191.083 2013.88 193.629 Q2011.98 196.175 2011.98 200.805 Q2011.98 205.411 2013.88 207.958 Q2015.8 210.504 2019.23 210.504 Q2022.68 210.504 2024.58 207.958 Q2026.5 205.411 2026.5 200.805 M2030.76 210.851 Q2030.76 217.471 2027.82 220.689 Q2024.88 223.93 2018.81 223.93 Q2016.57 223.93 2014.58 223.582 Q2012.58 223.258 2010.71 222.564 L2010.71 218.42 Q2012.58 219.439 2014.41 219.925 Q2016.24 220.411 2018.14 220.411 Q2022.33 220.411 2024.41 218.212 Q2026.5 216.036 2026.5 211.615 L2026.5 209.508 Q2025.18 211.8 2023.12 212.934 Q2021.06 214.069 2018.19 214.069 Q2013.42 214.069 2010.5 210.434 Q2007.58 206.8 2007.58 200.805 Q2007.58 194.786 2010.5 191.152 Q2013.42 187.518 2018.19 187.518 Q2021.06 187.518 2023.12 188.652 Q2025.18 189.786 2026.5 192.078 L2026.5 188.143 L2030.76 188.143 L2030.76 210.851 Z\" fill=\"#000000\" fill-rule=\"nonzero\" fill-opacity=\"1\" /><path clip-path=\"url(#clip140)\" d=\"M2071.66 192.078 L2071.66 178.05 L2075.92 178.05 L2075.92 214.069 L2071.66 214.069 L2071.66 210.18 Q2070.32 212.495 2068.26 213.629 Q2066.22 214.74 2063.35 214.74 Q2058.65 214.74 2055.69 210.99 Q2052.75 207.24 2052.75 201.129 Q2052.75 195.018 2055.69 191.268 Q2058.65 187.518 2063.35 187.518 Q2066.22 187.518 2068.26 188.652 Q2070.32 189.763 2071.66 192.078 M2057.14 201.129 Q2057.14 205.828 2059.07 208.513 Q2061.01 211.175 2064.39 211.175 Q2067.77 211.175 2069.71 208.513 Q2071.66 205.828 2071.66 201.129 Q2071.66 196.43 2069.71 193.768 Q2067.77 191.083 2064.39 191.083 Q2061.01 191.083 2059.07 193.768 Q2057.14 196.43 2057.14 201.129 Z\" fill=\"#000000\" fill-rule=\"nonzero\" fill-opacity=\"1\" /><path clip-path=\"url(#clip140)\" d=\"M2084.25 203.837 L2084.25 188.143 L2088.51 188.143 L2088.51 203.675 Q2088.51 207.356 2089.95 209.208 Q2091.38 211.036 2094.25 211.036 Q2097.7 211.036 2099.69 208.837 Q2101.7 206.638 2101.7 202.842 L2101.7 188.143 L2105.96 188.143 L2105.96 214.069 L2101.7 214.069 L2101.7 210.087 Q2100.15 212.448 2098.09 213.606 Q2096.06 214.74 2093.35 214.74 Q2088.88 214.74 2086.57 211.962 Q2084.25 209.184 2084.25 203.837 M2094.97 187.518 L2094.97 187.518 Z\" fill=\"#000000\" fill-rule=\"nonzero\" fill-opacity=\"1\" /><path clip-path=\"url(#clip140)\" d=\"M2129.76 192.124 Q2129.04 191.708 2128.19 191.522 Q2127.35 191.314 2126.33 191.314 Q2122.72 191.314 2120.78 193.675 Q2118.86 196.013 2118.86 200.411 L2118.86 214.069 L2114.57 214.069 L2114.57 188.143 L2118.86 188.143 L2118.86 192.171 Q2120.2 189.809 2122.35 188.675 Q2124.51 187.518 2127.58 187.518 Q2128.02 187.518 2128.56 187.587 Q2129.09 187.634 2129.74 187.749 L2129.76 192.124 Z\" fill=\"#000000\" fill-rule=\"nonzero\" fill-opacity=\"1\" /><path clip-path=\"url(#clip140)\" d=\"M2146.01 201.036 Q2140.85 201.036 2138.86 202.217 Q2136.87 203.397 2136.87 206.245 Q2136.87 208.513 2138.35 209.856 Q2139.85 211.175 2142.42 211.175 Q2145.96 211.175 2148.09 208.675 Q2150.25 206.152 2150.25 201.985 L2150.25 201.036 L2146.01 201.036 M2154.51 199.277 L2154.51 214.069 L2150.25 214.069 L2150.25 210.133 Q2148.79 212.495 2146.61 213.629 Q2144.44 214.74 2141.29 214.74 Q2137.31 214.74 2134.95 212.518 Q2132.61 210.272 2132.61 206.522 Q2132.61 202.147 2135.52 199.925 Q2138.46 197.703 2144.27 197.703 L2150.25 197.703 L2150.25 197.286 Q2150.25 194.347 2148.3 192.749 Q2146.38 191.129 2142.88 191.129 Q2140.66 191.129 2138.56 191.661 Q2136.45 192.194 2134.51 193.259 L2134.51 189.323 Q2136.84 188.421 2139.04 187.981 Q2141.24 187.518 2143.32 187.518 Q2148.95 187.518 2151.73 190.434 Q2154.51 193.351 2154.51 199.277 Z\" fill=\"#000000\" fill-rule=\"nonzero\" fill-opacity=\"1\" /><path clip-path=\"url(#clip140)\" d=\"M2167.49 180.782 L2167.49 188.143 L2176.26 188.143 L2176.26 191.453 L2167.49 191.453 L2167.49 205.527 Q2167.49 208.698 2168.35 209.601 Q2169.23 210.504 2171.89 210.504 L2176.26 210.504 L2176.26 214.069 L2171.89 214.069 Q2166.96 214.069 2165.08 212.24 Q2163.21 210.388 2163.21 205.527 L2163.21 191.453 L2160.08 191.453 L2160.08 188.143 L2163.21 188.143 L2163.21 180.782 L2167.49 180.782 Z\" fill=\"#000000\" fill-rule=\"nonzero\" fill-opacity=\"1\" /><path clip-path=\"url(#clip140)\" d=\"M2181.87 188.143 L2186.13 188.143 L2186.13 214.069 L2181.87 214.069 L2181.87 188.143 M2181.87 178.05 L2186.13 178.05 L2186.13 183.444 L2181.87 183.444 L2181.87 178.05 Z\" fill=\"#000000\" fill-rule=\"nonzero\" fill-opacity=\"1\" /><path clip-path=\"url(#clip140)\" d=\"M2205.08 191.129 Q2201.66 191.129 2199.67 193.814 Q2197.68 196.476 2197.68 201.129 Q2197.68 205.782 2199.64 208.467 Q2201.63 211.129 2205.08 211.129 Q2208.49 211.129 2210.48 208.444 Q2212.47 205.758 2212.47 201.129 Q2212.47 196.522 2210.48 193.837 Q2208.49 191.129 2205.08 191.129 M2205.08 187.518 Q2210.64 187.518 2213.81 191.129 Q2216.98 194.74 2216.98 201.129 Q2216.98 207.495 2213.81 211.129 Q2210.64 214.74 2205.08 214.74 Q2199.5 214.74 2196.33 211.129 Q2193.19 207.495 2193.19 201.129 Q2193.19 194.74 2196.33 191.129 Q2199.5 187.518 2205.08 187.518 Z\" fill=\"#000000\" fill-rule=\"nonzero\" fill-opacity=\"1\" /><path clip-path=\"url(#clip140)\" d=\"M2245.59 198.421 L2245.59 214.069 L2241.33 214.069 L2241.33 198.559 Q2241.33 194.879 2239.9 193.05 Q2238.46 191.222 2235.59 191.222 Q2232.14 191.222 2230.15 193.421 Q2228.16 195.62 2228.16 199.416 L2228.16 214.069 L2223.88 214.069 L2223.88 188.143 L2228.16 188.143 L2228.16 192.171 Q2229.69 189.833 2231.75 188.675 Q2233.83 187.518 2236.54 187.518 Q2241.01 187.518 2243.3 190.296 Q2245.59 193.05 2245.59 198.421 Z\" fill=\"#000000\" fill-rule=\"nonzero\" fill-opacity=\"1\" /></svg>\n"
      ],
      "text/html": [
       "<img src=\"data:image/png;base64,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\" />"
      ]
     },
     "execution_count": 18,
     "metadata": {},
     "output_type": "execute_result"
    }
   ],
   "source": [
    "let\n",
    "    plot(theorem_2_simulation_array[:,1], theorem_2_simulation_array[:,2], label=\"Short duration\", lw=3, c=:black, \n",
    "            xlabel=\"β\", ylabel=\"Percentage Change Price Bill, Note or Bond\")\n",
    "    plot!(theorem_2_simulation_array[:,1], theorem_2_simulation_array[:,3], label=\"Long duration\", lw=3, c=:gray69, \n",
    "            xlabel=\"β\", ylabel=\"Percentage Change Price Bill, Note or Bond\")\n",
    "end"
   ]
  },
  {
   "cell_type": "markdown",
   "id": "70ab228e-c37f-4b52-8156-8a9248dc256d",
   "metadata": {},
   "source": [
    "## Discussion: Does your simulation result make sense?\n",
    "If your simulation was implemented correctly, the longer duration T-bill was more sensitive to changes in the nominal effective interest rate $\\bar{r}$. \n",
    "1. Compare the percentage change in the price of the short- and long-duration T-bills at $\\beta = 0.9$; the longer-duration instrument should have a larger percentage change in price. Similarly, for $\\beta = 1.1$, the cost of the longer-duration instrument should show a bigger change relative to the short-duration T-bill.\n",
    "2. Intuitively, why might you expect __Theorem 2__ to be true?\n",
    "3. Who is more at risk in a variable interest rate environment, a short-term or long-term bondholder?"
   ]
  },
  {
   "cell_type": "markdown",
   "id": "ee38e800-adc4-4b6b-97d2-fdd58c07baad",
   "metadata": {},
   "source": [
    "## Disclaimer and Risks\n",
    "__This content is offered solely for training and informational purposes__. No offer or solicitation to buy or sell securities or derivative products or any investment or trading advice or strategy is made, given, or endorsed by the teaching team. \n",
    "\n",
    "__Trading involves risk__. Carefully review your financial situation before investing in securities, futures contracts, options, or commodity interests. Past performance, whether actual or indicated by historical tests of strategies, is no guarantee of future performance or success. Trading is generally inappropriate for someone with limited resources, investment or trading experience, or a low-risk tolerance.  Only risk capital that is not required for living expenses.\n",
    "\n",
    "__You are fully responsible for any investment or trading decisions you make__. Such decisions should be based solely on evaluating your financial circumstances, investment or trading objectives, risk tolerance, and liquidity needs."
   ]
  }
 ],
 "metadata": {
  "kernelspec": {
   "display_name": "Julia 1.11.6",
   "language": "julia",
   "name": "julia-1.11"
  },
  "language_info": {
   "file_extension": ".jl",
   "mimetype": "application/julia",
   "name": "julia",
   "version": "1.11.6"
  }
 },
 "nbformat": 4,
 "nbformat_minor": 5
}
